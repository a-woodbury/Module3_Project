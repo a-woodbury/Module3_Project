{
 "cells": [
  {
   "cell_type": "code",
   "execution_count": 1,
   "metadata": {},
   "outputs": [],
   "source": [
    "import numpy as np\n",
    "import pandas as pd\n",
    "import matplotlib.pyplot as plt\n",
    "import seaborn as sns\n",
    "import geopandas\n",
    "from ipyleaflet import Map, Marker, basemaps, basemap_to_tiles,Heatmap, LayersControl\n",
    "from random import uniform\n",
    "pd.set_option('float_format', '{:f}'.format)"
   ]
  },
  {
   "cell_type": "code",
   "execution_count": 2,
   "metadata": {},
   "outputs": [
    {
     "name": "stdout",
     "output_type": "stream",
     "text": [
      "/Users/alphonsowoodbury/DS/Projects/aw_flatiron_group_projects/Module3_Project\n"
     ]
    }
   ],
   "source": [
    "cd .."
   ]
  },
  {
   "cell_type": "code",
   "execution_count": 3,
   "metadata": {},
   "outputs": [],
   "source": [
    "df = pd.read_csv('data/cleaned_water_EDA.csv',index_col=0)\n",
    "\n",
    "df_b = df.copy()\n",
    "df_b['status_group'] = df_b['status_group'].replace(to_replace =[\"functional needs repair\", \"non functional\"],value =\"needs repair\")\n",
    "df.amount_tsh = df.amount_tsh.astype('int64')\n",
    "df_b.amount_tsh = df_b.amount_tsh.astype('int64')"
   ]
  },
  {
   "cell_type": "markdown",
   "metadata": {},
   "source": [
    "---"
   ]
  },
  {
   "cell_type": "markdown",
   "metadata": {},
   "source": [
    "## Target\n",
    "\n",
    "Status Group"
   ]
  },
  {
   "cell_type": "code",
   "execution_count": 4,
   "metadata": {},
   "outputs": [
    {
     "data": {
      "text/plain": [
       "<matplotlib.axes._subplots.AxesSubplot at 0x1a252fc320>"
      ]
     },
     "execution_count": 4,
     "metadata": {},
     "output_type": "execute_result"
    },
    {
     "data": {
      "image/png": "[encoded data removed]",
      "text/plain": [
       "<Figure size 432x288 with 1 Axes>"
      ]
     },
     "metadata": {
      "needs_background": "light"
     },
     "output_type": "display_data"
    }
   ],
   "source": [
    "df.status_group.value_counts().plot(kind='bar',fontsize=15) #can this be a boxplot? #this is unbalanced"
   ]
  },
  {
   "cell_type": "code",
   "execution_count": 5,
   "metadata": {},
   "outputs": [
    {
     "data": {
      "text/plain": [
       "<matplotlib.axes._subplots.AxesSubplot at 0x1a25856e80>"
      ]
     },
     "execution_count": 5,
     "metadata": {},
     "output_type": "execute_result"
    },
    {
     "data": {
      "image/png": "[encoded data removed]",
      "text/plain": [
       "<Figure size 432x288 with 1 Axes>"
      ]
     },
     "metadata": {
      "needs_background": "light"
     },
     "output_type": "display_data"
    }
   ],
   "source": [
    "df_b.status_group.value_counts().plot(kind='bar',fontsize=15) #can this be a boxplot? #this is unbalanced"
   ]
  },
  {
   "cell_type": "markdown",
   "metadata": {},
   "source": [
    "# Outliers: geographic?\n",
    "\n",
    "- We identified a cluster of waterpoint observations with latitude and longitude that mapped them outside of Tanzania; these observations have the same age of 23 years and one coordinate (effectively 0,0)\n",
    "- These observations will be obtained for modeling but cannot be included in any potential geographic plots ."
   ]
  },
  {
   "cell_type": "code",
   "execution_count": 6,
   "metadata": {},
   "outputs": [],
   "source": [
    "df_g = df_b[df_b['longitude'] < 27.5]"
   ]
  },
  {
   "cell_type": "code",
   "execution_count": 7,
   "metadata": {},
   "outputs": [
    {
     "data": {
      "text/plain": [
       "0.000000    1326\n",
       "Name: longitude, dtype: int64"
      ]
     },
     "execution_count": 7,
     "metadata": {},
     "output_type": "execute_result"
    }
   ],
   "source": [
    "df_g.longitude.value_counts()"
   ]
  },
  {
   "cell_type": "code",
   "execution_count": 8,
   "metadata": {},
   "outputs": [
    {
     "data": {
      "text/plain": [
       "-0.000000    1326\n",
       "Name: latitude, dtype: int64"
      ]
     },
     "execution_count": 8,
     "metadata": {},
     "output_type": "execute_result"
    }
   ],
   "source": [
    "df_g.latitude.value_counts()"
   ]
  },
  {
   "cell_type": "code",
   "execution_count": 9,
   "metadata": {},
   "outputs": [
    {
     "data": {
      "text/plain": [
       "needs repair    740\n",
       "functional      586\n",
       "Name: status_group, dtype: int64"
      ]
     },
     "execution_count": 9,
     "metadata": {},
     "output_type": "execute_result"
    }
   ],
   "source": [
    "df_g.status_group.value_counts()"
   ]
  },
  {
   "cell_type": "code",
   "execution_count": 10,
   "metadata": {},
   "outputs": [
    {
     "data": {
      "text/plain": [
       "Lake Victoria      1227\n",
       "Lake Tanganyika      99\n",
       "Name: basin, dtype: int64"
      ]
     },
     "execution_count": 10,
     "metadata": {},
     "output_type": "execute_result"
    }
   ],
   "source": [
    "df_g.basin.value_counts()"
   ]
  },
  {
   "cell_type": "code",
   "execution_count": 11,
   "metadata": {},
   "outputs": [],
   "source": [
    "#df_g.district_code.value_counts()"
   ]
  },
  {
   "cell_type": "code",
   "execution_count": 12,
   "metadata": {},
   "outputs": [
    {
     "data": {
      "text/plain": [
       "Shinyanga    696\n",
       "Mwanza       630\n",
       "Name: region, dtype: int64"
      ]
     },
     "execution_count": 12,
     "metadata": {},
     "output_type": "execute_result"
    }
   ],
   "source": [
    "df_g.region.value_counts()"
   ]
  },
  {
   "cell_type": "code",
   "execution_count": 13,
   "metadata": {},
   "outputs": [
    {
     "data": {
      "text/plain": [
       "never pay     856\n",
       "unknown       152\n",
       "other         146\n",
       "monthly        66\n",
       "on failure     58\n",
       "per bucket     32\n",
       "annually       16\n",
       "Name: payment_type, dtype: int64"
      ]
     },
     "execution_count": 13,
     "metadata": {},
     "output_type": "execute_result"
    }
   ],
   "source": [
    "df_g.payment_type.value_counts()"
   ]
  },
  {
   "cell_type": "code",
   "execution_count": 14,
   "metadata": {},
   "outputs": [
    {
     "data": {
      "text/plain": [
       "23    1326\n",
       "Name: age, dtype: int64"
      ]
     },
     "execution_count": 14,
     "metadata": {},
     "output_type": "execute_result"
    }
   ],
   "source": [
    "df_g.age.value_counts() #they were constructed the same year!"
   ]
  },
  {
   "cell_type": "code",
   "execution_count": 15,
   "metadata": {},
   "outputs": [
    {
     "data": {
      "text/html": [
       "<div>\n",
       "<style scoped>\n",
       "    .dataframe tbody tr th:only-of-type {\n",
       "        vertical-align: middle;\n",
       "    }\n",
       "\n",
       "    .dataframe tbody tr th {\n",
       "        vertical-align: top;\n",
       "    }\n",
       "\n",
       "    .dataframe thead th {\n",
       "        text-align: right;\n",
       "    }\n",
       "</style>\n",
       "<table border=\"1\" class=\"dataframe\">\n",
       "  <thead>\n",
       "    <tr style=\"text-align: right;\">\n",
       "      <th></th>\n",
       "      <th>status_group</th>\n",
       "      <th>amount_tsh</th>\n",
       "      <th>funder</th>\n",
       "      <th>gps_height</th>\n",
       "      <th>installer</th>\n",
       "      <th>longitude</th>\n",
       "      <th>latitude</th>\n",
       "      <th>basin</th>\n",
       "      <th>region</th>\n",
       "      <th>lga</th>\n",
       "      <th>...</th>\n",
       "      <th>permit</th>\n",
       "      <th>extraction_type_class</th>\n",
       "      <th>management</th>\n",
       "      <th>payment_type</th>\n",
       "      <th>water_quality</th>\n",
       "      <th>quantity</th>\n",
       "      <th>source</th>\n",
       "      <th>source_class</th>\n",
       "      <th>waterpoint_type</th>\n",
       "      <th>age</th>\n",
       "    </tr>\n",
       "  </thead>\n",
       "  <tbody>\n",
       "    <tr>\n",
       "      <td>53</td>\n",
       "      <td>needs repair</td>\n",
       "      <td>0</td>\n",
       "      <td>Government Of Tanzania</td>\n",
       "      <td>0</td>\n",
       "      <td>Government</td>\n",
       "      <td>0.000000</td>\n",
       "      <td>-0.000000</td>\n",
       "      <td>Lake Victoria</td>\n",
       "      <td>Mwanza</td>\n",
       "      <td>Geita</td>\n",
       "      <td>...</td>\n",
       "      <td>True</td>\n",
       "      <td>submersible</td>\n",
       "      <td>vwc</td>\n",
       "      <td>unknown</td>\n",
       "      <td>unknown</td>\n",
       "      <td>dry</td>\n",
       "      <td>machine dbh</td>\n",
       "      <td>groundwater</td>\n",
       "      <td>communal standpipe multiple</td>\n",
       "      <td>23</td>\n",
       "    </tr>\n",
       "    <tr>\n",
       "      <td>59</td>\n",
       "      <td>needs repair</td>\n",
       "      <td>0</td>\n",
       "      <td>Government Of Tanzania</td>\n",
       "      <td>0</td>\n",
       "      <td>DWE</td>\n",
       "      <td>31.454282</td>\n",
       "      <td>-1.563886</td>\n",
       "      <td>Lake Victoria</td>\n",
       "      <td>Kagera</td>\n",
       "      <td>Bukoba Rural</td>\n",
       "      <td>...</td>\n",
       "      <td>True</td>\n",
       "      <td>handpump</td>\n",
       "      <td>vwc</td>\n",
       "      <td>never pay</td>\n",
       "      <td>soft</td>\n",
       "      <td>enough</td>\n",
       "      <td>shallow well</td>\n",
       "      <td>groundwater</td>\n",
       "      <td>hand pump</td>\n",
       "      <td>23</td>\n",
       "    </tr>\n",
       "    <tr>\n",
       "      <td>67</td>\n",
       "      <td>needs repair</td>\n",
       "      <td>0</td>\n",
       "      <td>Government Of Tanzania</td>\n",
       "      <td>0</td>\n",
       "      <td>DWE</td>\n",
       "      <td>30.716090</td>\n",
       "      <td>-1.285780</td>\n",
       "      <td>Lake Victoria</td>\n",
       "      <td>Kagera</td>\n",
       "      <td>Karagwe</td>\n",
       "      <td>...</td>\n",
       "      <td>True</td>\n",
       "      <td>gravity</td>\n",
       "      <td>vwc</td>\n",
       "      <td>never pay</td>\n",
       "      <td>soft</td>\n",
       "      <td>dry</td>\n",
       "      <td>spring</td>\n",
       "      <td>groundwater</td>\n",
       "      <td>other</td>\n",
       "      <td>23</td>\n",
       "    </tr>\n",
       "    <tr>\n",
       "      <td>85</td>\n",
       "      <td>needs repair</td>\n",
       "      <td>0</td>\n",
       "      <td>Swedish</td>\n",
       "      <td>0</td>\n",
       "      <td>Sengerema Water Department</td>\n",
       "      <td>32.185517</td>\n",
       "      <td>-2.378772</td>\n",
       "      <td>Lake Victoria</td>\n",
       "      <td>Mwanza</td>\n",
       "      <td>Sengerema</td>\n",
       "      <td>...</td>\n",
       "      <td>True</td>\n",
       "      <td>handpump</td>\n",
       "      <td>vwc</td>\n",
       "      <td>never pay</td>\n",
       "      <td>soft</td>\n",
       "      <td>seasonal</td>\n",
       "      <td>shallow well</td>\n",
       "      <td>groundwater</td>\n",
       "      <td>hand pump</td>\n",
       "      <td>23</td>\n",
       "    </tr>\n",
       "    <tr>\n",
       "      <td>94</td>\n",
       "      <td>needs repair</td>\n",
       "      <td>0</td>\n",
       "      <td>Hesawa</td>\n",
       "      <td>0</td>\n",
       "      <td>DWE</td>\n",
       "      <td>31.453111</td>\n",
       "      <td>-1.194390</td>\n",
       "      <td>Lake Victoria</td>\n",
       "      <td>Kagera</td>\n",
       "      <td>Misenyi</td>\n",
       "      <td>...</td>\n",
       "      <td>True</td>\n",
       "      <td>handpump</td>\n",
       "      <td>vwc</td>\n",
       "      <td>never pay</td>\n",
       "      <td>milky</td>\n",
       "      <td>insufficient</td>\n",
       "      <td>shallow well</td>\n",
       "      <td>groundwater</td>\n",
       "      <td>hand pump</td>\n",
       "      <td>23</td>\n",
       "    </tr>\n",
       "    <tr>\n",
       "      <td>...</td>\n",
       "      <td>...</td>\n",
       "      <td>...</td>\n",
       "      <td>...</td>\n",
       "      <td>...</td>\n",
       "      <td>...</td>\n",
       "      <td>...</td>\n",
       "      <td>...</td>\n",
       "      <td>...</td>\n",
       "      <td>...</td>\n",
       "      <td>...</td>\n",
       "      <td>...</td>\n",
       "      <td>...</td>\n",
       "      <td>...</td>\n",
       "      <td>...</td>\n",
       "      <td>...</td>\n",
       "      <td>...</td>\n",
       "      <td>...</td>\n",
       "      <td>...</td>\n",
       "      <td>...</td>\n",
       "      <td>...</td>\n",
       "      <td>...</td>\n",
       "    </tr>\n",
       "    <tr>\n",
       "      <td>59371</td>\n",
       "      <td>needs repair</td>\n",
       "      <td>0</td>\n",
       "      <td>Netherlands</td>\n",
       "      <td>0</td>\n",
       "      <td>DWE</td>\n",
       "      <td>33.586406</td>\n",
       "      <td>-3.040369</td>\n",
       "      <td>Lake Victoria</td>\n",
       "      <td>Shinyanga</td>\n",
       "      <td>Maswa</td>\n",
       "      <td>...</td>\n",
       "      <td>False</td>\n",
       "      <td>handpump</td>\n",
       "      <td>wug</td>\n",
       "      <td>never pay</td>\n",
       "      <td>soft</td>\n",
       "      <td>enough</td>\n",
       "      <td>shallow well</td>\n",
       "      <td>groundwater</td>\n",
       "      <td>hand pump</td>\n",
       "      <td>23</td>\n",
       "    </tr>\n",
       "    <tr>\n",
       "      <td>59374</td>\n",
       "      <td>functional</td>\n",
       "      <td>0</td>\n",
       "      <td>Rwssp</td>\n",
       "      <td>0</td>\n",
       "      <td>DWE</td>\n",
       "      <td>0.000000</td>\n",
       "      <td>-0.000000</td>\n",
       "      <td>Lake Victoria</td>\n",
       "      <td>Shinyanga</td>\n",
       "      <td>Bariadi</td>\n",
       "      <td>...</td>\n",
       "      <td>False</td>\n",
       "      <td>handpump</td>\n",
       "      <td>wug</td>\n",
       "      <td>other</td>\n",
       "      <td>soft</td>\n",
       "      <td>enough</td>\n",
       "      <td>shallow well</td>\n",
       "      <td>groundwater</td>\n",
       "      <td>hand pump</td>\n",
       "      <td>23</td>\n",
       "    </tr>\n",
       "    <tr>\n",
       "      <td>59379</td>\n",
       "      <td>functional</td>\n",
       "      <td>0</td>\n",
       "      <td>Do</td>\n",
       "      <td>0</td>\n",
       "      <td>DO</td>\n",
       "      <td>31.613284</td>\n",
       "      <td>-1.820226</td>\n",
       "      <td>Lake Victoria</td>\n",
       "      <td>Kagera</td>\n",
       "      <td>Muleba</td>\n",
       "      <td>...</td>\n",
       "      <td>True</td>\n",
       "      <td>gravity</td>\n",
       "      <td>vwc</td>\n",
       "      <td>never pay</td>\n",
       "      <td>soft</td>\n",
       "      <td>enough</td>\n",
       "      <td>spring</td>\n",
       "      <td>groundwater</td>\n",
       "      <td>communal standpipe</td>\n",
       "      <td>23</td>\n",
       "    </tr>\n",
       "    <tr>\n",
       "      <td>59384</td>\n",
       "      <td>needs repair</td>\n",
       "      <td>0</td>\n",
       "      <td>Concern</td>\n",
       "      <td>0</td>\n",
       "      <td>CONCERN</td>\n",
       "      <td>30.667805</td>\n",
       "      <td>-2.483710</td>\n",
       "      <td>Lake Victoria</td>\n",
       "      <td>Kagera</td>\n",
       "      <td>Ngara</td>\n",
       "      <td>...</td>\n",
       "      <td>False</td>\n",
       "      <td>gravity</td>\n",
       "      <td>vwc</td>\n",
       "      <td>never pay</td>\n",
       "      <td>soft</td>\n",
       "      <td>insufficient</td>\n",
       "      <td>spring</td>\n",
       "      <td>groundwater</td>\n",
       "      <td>communal standpipe</td>\n",
       "      <td>23</td>\n",
       "    </tr>\n",
       "    <tr>\n",
       "      <td>59385</td>\n",
       "      <td>functional</td>\n",
       "      <td>500</td>\n",
       "      <td>Jaica</td>\n",
       "      <td>1327</td>\n",
       "      <td>JAICA CO</td>\n",
       "      <td>33.951681</td>\n",
       "      <td>-2.021854</td>\n",
       "      <td>Lake Victoria</td>\n",
       "      <td>Mara</td>\n",
       "      <td>Bunda</td>\n",
       "      <td>...</td>\n",
       "      <td>True</td>\n",
       "      <td>handpump</td>\n",
       "      <td>wug</td>\n",
       "      <td>monthly</td>\n",
       "      <td>salty</td>\n",
       "      <td>enough</td>\n",
       "      <td>machine dbh</td>\n",
       "      <td>groundwater</td>\n",
       "      <td>hand pump</td>\n",
       "      <td>9</td>\n",
       "    </tr>\n",
       "  </tbody>\n",
       "</table>\n",
       "<p>7321 rows × 24 columns</p>\n",
       "</div>"
      ],
      "text/plain": [
       "       status_group  amount_tsh                  funder  gps_height  \\\n",
       "53     needs repair           0  Government Of Tanzania           0   \n",
       "59     needs repair           0  Government Of Tanzania           0   \n",
       "67     needs repair           0  Government Of Tanzania           0   \n",
       "85     needs repair           0                 Swedish           0   \n",
       "94     needs repair           0                  Hesawa           0   \n",
       "...             ...         ...                     ...         ...   \n",
       "59371  needs repair           0             Netherlands           0   \n",
       "59374    functional           0                   Rwssp           0   \n",
       "59379    functional           0                      Do           0   \n",
       "59384  needs repair           0                 Concern           0   \n",
       "59385    functional         500                   Jaica        1327   \n",
       "\n",
       "                        installer  longitude  latitude          basin  \\\n",
       "53                     Government   0.000000 -0.000000  Lake Victoria   \n",
       "59                            DWE  31.454282 -1.563886  Lake Victoria   \n",
       "67                            DWE  30.716090 -1.285780  Lake Victoria   \n",
       "85     Sengerema Water Department  32.185517 -2.378772  Lake Victoria   \n",
       "94                            DWE  31.453111 -1.194390  Lake Victoria   \n",
       "...                           ...        ...       ...            ...   \n",
       "59371                         DWE  33.586406 -3.040369  Lake Victoria   \n",
       "59374                         DWE   0.000000 -0.000000  Lake Victoria   \n",
       "59379                          DO  31.613284 -1.820226  Lake Victoria   \n",
       "59384                     CONCERN  30.667805 -2.483710  Lake Victoria   \n",
       "59385                    JAICA CO  33.951681 -2.021854  Lake Victoria   \n",
       "\n",
       "          region           lga  ... permit  extraction_type_class  management  \\\n",
       "53        Mwanza         Geita  ...   True            submersible         vwc   \n",
       "59        Kagera  Bukoba Rural  ...   True               handpump         vwc   \n",
       "67        Kagera       Karagwe  ...   True                gravity         vwc   \n",
       "85        Mwanza     Sengerema  ...   True               handpump         vwc   \n",
       "94        Kagera       Misenyi  ...   True               handpump         vwc   \n",
       "...          ...           ...  ...    ...                    ...         ...   \n",
       "59371  Shinyanga         Maswa  ...  False               handpump         wug   \n",
       "59374  Shinyanga       Bariadi  ...  False               handpump         wug   \n",
       "59379     Kagera        Muleba  ...   True                gravity         vwc   \n",
       "59384     Kagera         Ngara  ...  False                gravity         vwc   \n",
       "59385       Mara         Bunda  ...   True               handpump         wug   \n",
       "\n",
       "      payment_type  water_quality      quantity        source source_class  \\\n",
       "53         unknown        unknown           dry   machine dbh  groundwater   \n",
       "59       never pay           soft        enough  shallow well  groundwater   \n",
       "67       never pay           soft           dry        spring  groundwater   \n",
       "85       never pay           soft      seasonal  shallow well  groundwater   \n",
       "94       never pay          milky  insufficient  shallow well  groundwater   \n",
       "...            ...            ...           ...           ...          ...   \n",
       "59371    never pay           soft        enough  shallow well  groundwater   \n",
       "59374        other           soft        enough  shallow well  groundwater   \n",
       "59379    never pay           soft        enough        spring  groundwater   \n",
       "59384    never pay           soft  insufficient        spring  groundwater   \n",
       "59385      monthly          salty        enough   machine dbh  groundwater   \n",
       "\n",
       "                   waterpoint_type age  \n",
       "53     communal standpipe multiple  23  \n",
       "59                       hand pump  23  \n",
       "67                           other  23  \n",
       "85                       hand pump  23  \n",
       "94                       hand pump  23  \n",
       "...                            ...  ..  \n",
       "59371                    hand pump  23  \n",
       "59374                    hand pump  23  \n",
       "59379           communal standpipe  23  \n",
       "59384           communal standpipe  23  \n",
       "59385                    hand pump   9  \n",
       "\n",
       "[7321 rows x 24 columns]"
      ]
     },
     "execution_count": 15,
     "metadata": {},
     "output_type": "execute_result"
    }
   ],
   "source": [
    "df_l = df_b[df_b['basin']== 'Lake Victoria']\n",
    "df_l"
   ]
  },
  {
   "cell_type": "markdown",
   "metadata": {},
   "source": [
    "---"
   ]
  },
  {
   "cell_type": "markdown",
   "metadata": {},
   "source": [
    "## Features"
   ]
  },
  {
   "cell_type": "markdown",
   "metadata": {
    "toc-hr-collapsed": true,
    "toc-nb-collapsed": true
   },
   "source": [
    "### Water\n",
    "\n",
    "- A LOT of 0 values, impute?"
   ]
  },
  {
   "cell_type": "markdown",
   "metadata": {},
   "source": [
    "#### Feature: Tsh Value"
   ]
  },
  {
   "cell_type": "code",
   "execution_count": 16,
   "metadata": {},
   "outputs": [
    {
     "data": {
      "text/plain": [
       "(-250.001, 25000.0]     48614\n",
       "(25000.0, 50000.0]         21\n",
       "(100000.0, 125000.0]        7\n",
       "(75000.0, 100000.0]         3\n",
       "(50000.0, 75000.0]          2\n",
       "(225000.0, 250000.0]        1\n",
       "(175000.0, 200000.0]        1\n",
       "(150000.0, 175000.0]        1\n",
       "(125000.0, 150000.0]        1\n",
       "(200000.0, 225000.0]        0\n",
       "Name: amount_tsh, dtype: int64"
      ]
     },
     "execution_count": 16,
     "metadata": {},
     "output_type": "execute_result"
    }
   ],
   "source": [
    "df.amount_tsh.value_counts(bins=10)"
   ]
  },
  {
   "cell_type": "code",
   "execution_count": 17,
   "metadata": {},
   "outputs": [
    {
     "data": {
      "text/plain": [
       "32516"
      ]
     },
     "execution_count": 17,
     "metadata": {},
     "output_type": "execute_result"
    }
   ],
   "source": [
    "(df.amount_tsh == 0).sum() #this is a bad feature"
   ]
  },
  {
   "cell_type": "code",
   "execution_count": 18,
   "metadata": {},
   "outputs": [],
   "source": [
    "# tshbins = range(0, df.amount_tsh.max(), 20000)\n",
    "# df['tsh_bins'] = pd.cut(df.amount_tsh, bins=tshbins)\n",
    "# tshs = pd.crosstab(df.tsh_bins,df.status_group,normalize='index')\n",
    "# tshs.plot(kind='bar',figsize=(10,7.50),fontsize=10)\n",
    "# tshs"
   ]
  },
  {
   "cell_type": "code",
   "execution_count": 19,
   "metadata": {},
   "outputs": [
    {
     "data": {
      "text/html": [
       "<div>\n",
       "<style scoped>\n",
       "    .dataframe tbody tr th:only-of-type {\n",
       "        vertical-align: middle;\n",
       "    }\n",
       "\n",
       "    .dataframe tbody tr th {\n",
       "        vertical-align: top;\n",
       "    }\n",
       "\n",
       "    .dataframe thead th {\n",
       "        text-align: right;\n",
       "    }\n",
       "</style>\n",
       "<table border=\"1\" class=\"dataframe\">\n",
       "  <thead>\n",
       "    <tr style=\"text-align: right;\">\n",
       "      <th>status_group</th>\n",
       "      <th>functional</th>\n",
       "      <th>needs repair</th>\n",
       "    </tr>\n",
       "    <tr>\n",
       "      <th>tsh_bins</th>\n",
       "      <th></th>\n",
       "      <th></th>\n",
       "    </tr>\n",
       "  </thead>\n",
       "  <tbody>\n",
       "    <tr>\n",
       "      <td>(2, 25002]</td>\n",
       "      <td>0.699975</td>\n",
       "      <td>0.300025</td>\n",
       "    </tr>\n",
       "    <tr>\n",
       "      <td>(25002, 50002]</td>\n",
       "      <td>0.857143</td>\n",
       "      <td>0.142857</td>\n",
       "    </tr>\n",
       "    <tr>\n",
       "      <td>(50002, 75002]</td>\n",
       "      <td>0.500000</td>\n",
       "      <td>0.500000</td>\n",
       "    </tr>\n",
       "    <tr>\n",
       "      <td>(75002, 100002]</td>\n",
       "      <td>0.666667</td>\n",
       "      <td>0.333333</td>\n",
       "    </tr>\n",
       "    <tr>\n",
       "      <td>(100002, 125002]</td>\n",
       "      <td>0.857143</td>\n",
       "      <td>0.142857</td>\n",
       "    </tr>\n",
       "    <tr>\n",
       "      <td>(125002, 150002]</td>\n",
       "      <td>1.000000</td>\n",
       "      <td>0.000000</td>\n",
       "    </tr>\n",
       "    <tr>\n",
       "      <td>(150002, 175002]</td>\n",
       "      <td>1.000000</td>\n",
       "      <td>0.000000</td>\n",
       "    </tr>\n",
       "    <tr>\n",
       "      <td>(175002, 200002]</td>\n",
       "      <td>1.000000</td>\n",
       "      <td>0.000000</td>\n",
       "    </tr>\n",
       "  </tbody>\n",
       "</table>\n",
       "</div>"
      ],
      "text/plain": [
       "status_group      functional  needs repair\n",
       "tsh_bins                                  \n",
       "(2, 25002]          0.699975      0.300025\n",
       "(25002, 50002]      0.857143      0.142857\n",
       "(50002, 75002]      0.500000      0.500000\n",
       "(75002, 100002]     0.666667      0.333333\n",
       "(100002, 125002]    0.857143      0.142857\n",
       "(125002, 150002]    1.000000      0.000000\n",
       "(150002, 175002]    1.000000      0.000000\n",
       "(175002, 200002]    1.000000      0.000000"
      ]
     },
     "execution_count": 19,
     "metadata": {},
     "output_type": "execute_result"
    },
    {
     "data": {
      "image/png": "[encoded data removed]",
      "text/plain": [
       "<Figure size 720x540 with 1 Axes>"
      ]
     },
     "metadata": {
      "needs_background": "light"
     },
     "output_type": "display_data"
    }
   ],
   "source": [
    "tshbinsb = range(2, df_b.amount_tsh.max(), 25000)\n",
    "df_b['tsh_bins'] = pd.cut(df_b.amount_tsh, bins=tshbinsb)\n",
    "tshsb = pd.crosstab(df_b.tsh_bins,df_b.status_group,normalize='index')\n",
    "tshsb.plot(kind='bar',figsize=(10,7.50),fontsize=10)\n",
    "tshsb"
   ]
  },
  {
   "cell_type": "markdown",
   "metadata": {},
   "source": [
    "#### Feature: Quality"
   ]
  },
  {
   "cell_type": "code",
   "execution_count": 20,
   "metadata": {},
   "outputs": [
    {
     "data": {
      "text/plain": [
       "<matplotlib.axes._subplots.AxesSubplot at 0x1a270d8c50>"
      ]
     },
     "execution_count": 20,
     "metadata": {},
     "output_type": "execute_result"
    },
    {
     "data": {
      "image/png": "[encoded data removed]",
      "text/plain": [
       "<Figure size 432x288 with 1 Axes>"
      ]
     },
     "metadata": {
      "needs_background": "light"
     },
     "output_type": "display_data"
    }
   ],
   "source": [
    "df.water_quality.value_counts().plot(kind='bar')"
   ]
  },
  {
   "cell_type": "code",
   "execution_count": 21,
   "metadata": {},
   "outputs": [],
   "source": [
    "# watq = pd.crosstab(df.water_quality,df.status_group,normalize='index')\n",
    "# watq.plot(kind='bar',figsize=(10,7.50),fontsize=10,rot=45)\n",
    "# watq.sort_values('functional',ascending=False)"
   ]
  },
  {
   "cell_type": "code",
   "execution_count": 22,
   "metadata": {},
   "outputs": [
    {
     "data": {
      "text/html": [
       "<div>\n",
       "<style scoped>\n",
       "    .dataframe tbody tr th:only-of-type {\n",
       "        vertical-align: middle;\n",
       "    }\n",
       "\n",
       "    .dataframe tbody tr th {\n",
       "        vertical-align: top;\n",
       "    }\n",
       "\n",
       "    .dataframe thead th {\n",
       "        text-align: right;\n",
       "    }\n",
       "</style>\n",
       "<table border=\"1\" class=\"dataframe\">\n",
       "  <thead>\n",
       "    <tr style=\"text-align: right;\">\n",
       "      <th>status_group</th>\n",
       "      <th>functional</th>\n",
       "      <th>needs repair</th>\n",
       "    </tr>\n",
       "    <tr>\n",
       "      <th>water_quality</th>\n",
       "      <th></th>\n",
       "      <th></th>\n",
       "    </tr>\n",
       "  </thead>\n",
       "  <tbody>\n",
       "    <tr>\n",
       "      <td>fluoride</td>\n",
       "      <td>0.775000</td>\n",
       "      <td>0.225000</td>\n",
       "    </tr>\n",
       "    <tr>\n",
       "      <td>soft</td>\n",
       "      <td>0.568008</td>\n",
       "      <td>0.431992</td>\n",
       "    </tr>\n",
       "    <tr>\n",
       "      <td>milky</td>\n",
       "      <td>0.565217</td>\n",
       "      <td>0.434783</td>\n",
       "    </tr>\n",
       "    <tr>\n",
       "      <td>coloured</td>\n",
       "      <td>0.509375</td>\n",
       "      <td>0.490625</td>\n",
       "    </tr>\n",
       "    <tr>\n",
       "      <td>salty abandoned</td>\n",
       "      <td>0.456897</td>\n",
       "      <td>0.543103</td>\n",
       "    </tr>\n",
       "    <tr>\n",
       "      <td>salty</td>\n",
       "      <td>0.443343</td>\n",
       "      <td>0.556657</td>\n",
       "    </tr>\n",
       "    <tr>\n",
       "      <td>fluoride abandoned</td>\n",
       "      <td>0.307692</td>\n",
       "      <td>0.692308</td>\n",
       "    </tr>\n",
       "    <tr>\n",
       "      <td>unknown</td>\n",
       "      <td>0.104545</td>\n",
       "      <td>0.895455</td>\n",
       "    </tr>\n",
       "  </tbody>\n",
       "</table>\n",
       "</div>"
      ],
      "text/plain": [
       "status_group        functional  needs repair\n",
       "water_quality                               \n",
       "fluoride              0.775000      0.225000\n",
       "soft                  0.568008      0.431992\n",
       "milky                 0.565217      0.434783\n",
       "coloured              0.509375      0.490625\n",
       "salty abandoned       0.456897      0.543103\n",
       "salty                 0.443343      0.556657\n",
       "fluoride abandoned    0.307692      0.692308\n",
       "unknown               0.104545      0.895455"
      ]
     },
     "execution_count": 22,
     "metadata": {},
     "output_type": "execute_result"
    },
    {
     "data": {
      "image/png": "[encoded data removed]",
      "text/plain": [
       "<Figure size 720x540 with 1 Axes>"
      ]
     },
     "metadata": {
      "needs_background": "light"
     },
     "output_type": "display_data"
    }
   ],
   "source": [
    "watqb = pd.crosstab(df_b.water_quality,df_b.status_group,normalize='index')\n",
    "watqb.plot(kind='bar',figsize=(10,7.50),fontsize=10,rot=45)\n",
    "plt.savefig('images/water_status.png')\n",
    "watqb.sort_values('functional',ascending=False)"
   ]
  },
  {
   "cell_type": "code",
   "execution_count": 23,
   "metadata": {},
   "outputs": [],
   "source": [
    "qualities = df.water_quality.value_counts().index.tolist()"
   ]
  },
  {
   "cell_type": "code",
   "execution_count": 24,
   "metadata": {},
   "outputs": [
    {
     "name": "stdout",
     "output_type": "stream",
     "text": [
      "soft:167.933241456635\n",
      "salty:271.2799796747967\n",
      "unknown:151.8181818181818\n",
      "coloured:152.034375\n",
      "milky:127.07357859531773\n",
      "salty abandoned:95.78448275862068\n",
      "fluoride:193.7375\n",
      "fluoride abandoned:118.3076923076923\n"
     ]
    }
   ],
   "source": [
    "for qual in qualities:\n",
    "    mean = df[df['water_quality'] == qual].population.mean()\n",
    "    print(qual+':' + str(mean))"
   ]
  },
  {
   "cell_type": "code",
   "execution_count": 25,
   "metadata": {},
   "outputs": [
    {
     "name": "stdout",
     "output_type": "stream",
     "text": [
      "soft:23.184204994043586\n",
      "salty:22.984756097560975\n",
      "unknown:24.41590909090909\n",
      "coloured:22.90625\n",
      "milky:23.67558528428094\n",
      "salty abandoned:23.198275862068964\n",
      "fluoride:19.475\n",
      "fluoride abandoned:20.615384615384617\n"
     ]
    }
   ],
   "source": [
    "for qual in qualities:\n",
    "    mean = df[df['water_quality'] == qual].age.mean()\n",
    "    print(qual+':' + str(mean))"
   ]
  },
  {
   "cell_type": "code",
   "execution_count": 26,
   "metadata": {},
   "outputs": [
    {
     "name": "stdout",
     "output_type": "stream",
     "text": [
      "permit+soft:0.7030202518044428\n",
      "permit+salty:0.5251524390243902\n",
      "permit+unknown:0.5659090909090909\n",
      "permit+coloured:0.765625\n",
      "permit+milky:0.6722408026755853\n",
      "permit+salty abandoned:0.23706896551724138\n",
      "permit+fluoride:0.90625\n",
      "permit+fluoride abandoned:0.23076923076923078\n"
     ]
    }
   ],
   "source": [
    "for qual in qualities:\n",
    "    mean = df[df['water_quality'] == qual].permit.mean()\n",
    "    print('permit+'+qual+':' + str(mean))"
   ]
  },
  {
   "cell_type": "code",
   "execution_count": 27,
   "metadata": {},
   "outputs": [
    {
     "name": "stdout",
     "output_type": "stream",
     "text": [
      "public_meeting+soft:0.9143911611501717\n",
      "public_meeting+salty:0.881859756097561\n",
      "public_meeting+unknown:0.8875\n",
      "public_meeting+coloured:0.84375\n",
      "public_meeting+milky:0.8595317725752508\n",
      "public_meeting+salty abandoned:0.8836206896551724\n",
      "public_meeting+fluoride:1.0\n",
      "public_meeting+fluoride abandoned:1.0\n"
     ]
    }
   ],
   "source": [
    "for qual in qualities:\n",
    "    mean = df[df['water_quality'] == qual].public_meeting.mean()\n",
    "    print('public_meeting+'+qual+':' + str(mean))"
   ]
  },
  {
   "cell_type": "markdown",
   "metadata": {},
   "source": [
    "#### Feature: Quantity"
   ]
  },
  {
   "cell_type": "code",
   "execution_count": 28,
   "metadata": {},
   "outputs": [
    {
     "data": {
      "text/plain": [
       "<matplotlib.axes._subplots.AxesSubplot at 0x1a27140390>"
      ]
     },
     "execution_count": 28,
     "metadata": {},
     "output_type": "execute_result"
    },
    {
     "data": {
      "image/png": "[encoded data removed]",
      "text/plain": [
       "<Figure size 432x288 with 1 Axes>"
      ]
     },
     "metadata": {
      "needs_background": "light"
     },
     "output_type": "display_data"
    }
   ],
   "source": [
    "df.quantity.value_counts().plot(kind='bar')"
   ]
  },
  {
   "cell_type": "code",
   "execution_count": 29,
   "metadata": {},
   "outputs": [],
   "source": [
    "# quant = pd.crosstab(df.quantity,df.status_group,normalize='index')\n",
    "# quant.plot(kind='bar',figsize=(10,7.50),fontsize=10,rot=45)\n",
    "# quant.sort_values('functional',ascending=False)"
   ]
  },
  {
   "cell_type": "code",
   "execution_count": 30,
   "metadata": {},
   "outputs": [
    {
     "data": {
      "text/html": [
       "<div>\n",
       "<style scoped>\n",
       "    .dataframe tbody tr th:only-of-type {\n",
       "        vertical-align: middle;\n",
       "    }\n",
       "\n",
       "    .dataframe tbody tr th {\n",
       "        vertical-align: top;\n",
       "    }\n",
       "\n",
       "    .dataframe thead th {\n",
       "        text-align: right;\n",
       "    }\n",
       "</style>\n",
       "<table border=\"1\" class=\"dataframe\">\n",
       "  <thead>\n",
       "    <tr style=\"text-align: right;\">\n",
       "      <th>status_group</th>\n",
       "      <th>functional</th>\n",
       "      <th>needs repair</th>\n",
       "    </tr>\n",
       "    <tr>\n",
       "      <th>quantity</th>\n",
       "      <th></th>\n",
       "      <th></th>\n",
       "    </tr>\n",
       "  </thead>\n",
       "  <tbody>\n",
       "    <tr>\n",
       "      <td>enough</td>\n",
       "      <td>0.655901</td>\n",
       "      <td>0.344099</td>\n",
       "    </tr>\n",
       "    <tr>\n",
       "      <td>seasonal</td>\n",
       "      <td>0.569263</td>\n",
       "      <td>0.430737</td>\n",
       "    </tr>\n",
       "    <tr>\n",
       "      <td>insufficient</td>\n",
       "      <td>0.522561</td>\n",
       "      <td>0.477439</td>\n",
       "    </tr>\n",
       "    <tr>\n",
       "      <td>unknown</td>\n",
       "      <td>0.206897</td>\n",
       "      <td>0.793103</td>\n",
       "    </tr>\n",
       "    <tr>\n",
       "      <td>dry</td>\n",
       "      <td>0.024687</td>\n",
       "      <td>0.975313</td>\n",
       "    </tr>\n",
       "  </tbody>\n",
       "</table>\n",
       "</div>"
      ],
      "text/plain": [
       "status_group  functional  needs repair\n",
       "quantity                              \n",
       "enough          0.655901      0.344099\n",
       "seasonal        0.569263      0.430737\n",
       "insufficient    0.522561      0.477439\n",
       "unknown         0.206897      0.793103\n",
       "dry             0.024687      0.975313"
      ]
     },
     "execution_count": 30,
     "metadata": {},
     "output_type": "execute_result"
    },
    {
     "data": {
      "image/png": "[encoded data removed]",
      "text/plain": [
       "<Figure size 720x540 with 1 Axes>"
      ]
     },
     "metadata": {
      "needs_background": "light"
     },
     "output_type": "display_data"
    }
   ],
   "source": [
    "quantb = pd.crosstab(df_b.quantity,df_b.status_group,normalize='index')\n",
    "quantb.plot(kind='bar',figsize=(10,7.50),fontsize=10,rot=45)\n",
    "quantb.sort_values('functional',ascending=False)"
   ]
  },
  {
   "cell_type": "markdown",
   "metadata": {},
   "source": [
    "#### Feature: Source"
   ]
  },
  {
   "cell_type": "code",
   "execution_count": 31,
   "metadata": {},
   "outputs": [
    {
     "data": {
      "text/plain": [
       "<matplotlib.axes._subplots.AxesSubplot at 0x1a280c3908>"
      ]
     },
     "execution_count": 31,
     "metadata": {},
     "output_type": "execute_result"
    },
    {
     "data": {
      "image/png": "[encoded data removed]",
      "text/plain": [
       "<Figure size 432x288 with 1 Axes>"
      ]
     },
     "metadata": {
      "needs_background": "light"
     },
     "output_type": "display_data"
    }
   ],
   "source": [
    "df.source.value_counts().plot(kind='bar')"
   ]
  },
  {
   "cell_type": "code",
   "execution_count": 32,
   "metadata": {},
   "outputs": [],
   "source": [
    "# src = pd.crosstab(df.source,df.status_group,normalize='index',margins=True,margins_name='Status of all Sources')\n",
    "# src.plot(kind='bar',figsize=(10,7.50),fontsize=10,rot=45)\n",
    "# src.sort_values('functional',ascending=False)"
   ]
  },
  {
   "cell_type": "code",
   "execution_count": 33,
   "metadata": {},
   "outputs": [
    {
     "data": {
      "text/html": [
       "<div>\n",
       "<style scoped>\n",
       "    .dataframe tbody tr th:only-of-type {\n",
       "        vertical-align: middle;\n",
       "    }\n",
       "\n",
       "    .dataframe tbody tr th {\n",
       "        vertical-align: top;\n",
       "    }\n",
       "\n",
       "    .dataframe thead th {\n",
       "        text-align: right;\n",
       "    }\n",
       "</style>\n",
       "<table border=\"1\" class=\"dataframe\">\n",
       "  <thead>\n",
       "    <tr style=\"text-align: right;\">\n",
       "      <th>status_group</th>\n",
       "      <th>functional</th>\n",
       "      <th>needs repair</th>\n",
       "    </tr>\n",
       "    <tr>\n",
       "      <th>source</th>\n",
       "      <th></th>\n",
       "      <th></th>\n",
       "    </tr>\n",
       "  </thead>\n",
       "  <tbody>\n",
       "    <tr>\n",
       "      <td>other</td>\n",
       "      <td>0.670330</td>\n",
       "      <td>0.329670</td>\n",
       "    </tr>\n",
       "    <tr>\n",
       "      <td>spring</td>\n",
       "      <td>0.625742</td>\n",
       "      <td>0.374258</td>\n",
       "    </tr>\n",
       "    <tr>\n",
       "      <td>river</td>\n",
       "      <td>0.584529</td>\n",
       "      <td>0.415471</td>\n",
       "    </tr>\n",
       "    <tr>\n",
       "      <td>rainwater harvesting</td>\n",
       "      <td>0.581829</td>\n",
       "      <td>0.418171</td>\n",
       "    </tr>\n",
       "    <tr>\n",
       "      <td>hand dtw</td>\n",
       "      <td>0.562259</td>\n",
       "      <td>0.437741</td>\n",
       "    </tr>\n",
       "    <tr>\n",
       "      <td>Status of all Sources</td>\n",
       "      <td>0.549218</td>\n",
       "      <td>0.450782</td>\n",
       "    </tr>\n",
       "    <tr>\n",
       "      <td>shallow well</td>\n",
       "      <td>0.500443</td>\n",
       "      <td>0.499557</td>\n",
       "    </tr>\n",
       "    <tr>\n",
       "      <td>machine dbh</td>\n",
       "      <td>0.478280</td>\n",
       "      <td>0.521720</td>\n",
       "    </tr>\n",
       "    <tr>\n",
       "      <td>unknown</td>\n",
       "      <td>0.468750</td>\n",
       "      <td>0.531250</td>\n",
       "    </tr>\n",
       "    <tr>\n",
       "      <td>dam</td>\n",
       "      <td>0.383821</td>\n",
       "      <td>0.616179</td>\n",
       "    </tr>\n",
       "    <tr>\n",
       "      <td>lake</td>\n",
       "      <td>0.231405</td>\n",
       "      <td>0.768595</td>\n",
       "    </tr>\n",
       "  </tbody>\n",
       "</table>\n",
       "</div>"
      ],
      "text/plain": [
       "status_group           functional  needs repair\n",
       "source                                         \n",
       "other                    0.670330      0.329670\n",
       "spring                   0.625742      0.374258\n",
       "river                    0.584529      0.415471\n",
       "rainwater harvesting     0.581829      0.418171\n",
       "hand dtw                 0.562259      0.437741\n",
       "Status of all Sources    0.549218      0.450782\n",
       "shallow well             0.500443      0.499557\n",
       "machine dbh              0.478280      0.521720\n",
       "unknown                  0.468750      0.531250\n",
       "dam                      0.383821      0.616179\n",
       "lake                     0.231405      0.768595"
      ]
     },
     "execution_count": 33,
     "metadata": {},
     "output_type": "execute_result"
    },
    {
     "data": {
      "image/png": "[encoded data removed]",
      "text/plain": [
       "<Figure size 720x540 with 1 Axes>"
      ]
     },
     "metadata": {
      "needs_background": "light"
     },
     "output_type": "display_data"
    }
   ],
   "source": [
    "srcb = pd.crosstab(df_b.source,df_b.status_group,normalize='index',margins=True,margins_name='Status of all Sources')\n",
    "srcb.plot(kind='bar',figsize=(10,7.50),fontsize=10,rot=45)\n",
    "srcb.sort_values('functional',ascending=False)"
   ]
  },
  {
   "cell_type": "markdown",
   "metadata": {},
   "source": [
    "#### Source Class"
   ]
  },
  {
   "cell_type": "code",
   "execution_count": 34,
   "metadata": {},
   "outputs": [
    {
     "data": {
      "text/plain": [
       "<matplotlib.axes._subplots.AxesSubplot at 0x1a27b5a780>"
      ]
     },
     "execution_count": 34,
     "metadata": {},
     "output_type": "execute_result"
    },
    {
     "data": {
      "image/png": "[encoded data removed]",
      "text/plain": [
       "<Figure size 432x288 with 1 Axes>"
      ]
     },
     "metadata": {
      "needs_background": "light"
     },
     "output_type": "display_data"
    }
   ],
   "source": [
    "df.source_class.value_counts().plot(kind='bar')"
   ]
  },
  {
   "cell_type": "code",
   "execution_count": 35,
   "metadata": {},
   "outputs": [],
   "source": [
    "# srcc = pd.crosstab(df.source_class,df.status_group,margins=True,normalize='index')#\n",
    "# srcc.plot(kind='bar',figsize=(10,7.5),rot=45)\n",
    "# srcc.sort_values('functional',ascending=False)"
   ]
  },
  {
   "cell_type": "code",
   "execution_count": 36,
   "metadata": {},
   "outputs": [
    {
     "data": {
      "text/html": [
       "<div>\n",
       "<style scoped>\n",
       "    .dataframe tbody tr th:only-of-type {\n",
       "        vertical-align: middle;\n",
       "    }\n",
       "\n",
       "    .dataframe tbody tr th {\n",
       "        vertical-align: top;\n",
       "    }\n",
       "\n",
       "    .dataframe thead th {\n",
       "        text-align: right;\n",
       "    }\n",
       "</style>\n",
       "<table border=\"1\" class=\"dataframe\">\n",
       "  <thead>\n",
       "    <tr style=\"text-align: right;\">\n",
       "      <th>status_group</th>\n",
       "      <th>functional</th>\n",
       "      <th>needs repair</th>\n",
       "    </tr>\n",
       "    <tr>\n",
       "      <th>source_class</th>\n",
       "      <th></th>\n",
       "      <th></th>\n",
       "    </tr>\n",
       "  </thead>\n",
       "  <tbody>\n",
       "    <tr>\n",
       "      <td>unknown</td>\n",
       "      <td>0.640187</td>\n",
       "      <td>0.359813</td>\n",
       "    </tr>\n",
       "    <tr>\n",
       "      <td>surface</td>\n",
       "      <td>0.554916</td>\n",
       "      <td>0.445084</td>\n",
       "    </tr>\n",
       "    <tr>\n",
       "      <td>All</td>\n",
       "      <td>0.549218</td>\n",
       "      <td>0.450782</td>\n",
       "    </tr>\n",
       "    <tr>\n",
       "      <td>groundwater</td>\n",
       "      <td>0.546960</td>\n",
       "      <td>0.453040</td>\n",
       "    </tr>\n",
       "  </tbody>\n",
       "</table>\n",
       "</div>"
      ],
      "text/plain": [
       "status_group  functional  needs repair\n",
       "source_class                          \n",
       "unknown         0.640187      0.359813\n",
       "surface         0.554916      0.445084\n",
       "All             0.549218      0.450782\n",
       "groundwater     0.546960      0.453040"
      ]
     },
     "execution_count": 36,
     "metadata": {},
     "output_type": "execute_result"
    },
    {
     "data": {
      "image/png": "[encoded data removed]",
      "text/plain": [
       "<Figure size 720x540 with 1 Axes>"
      ]
     },
     "metadata": {
      "needs_background": "light"
     },
     "output_type": "display_data"
    }
   ],
   "source": [
    "srccb = pd.crosstab(df_b.source_class,df_b.status_group,margins=True,normalize='index')#\n",
    "srccb.plot(kind='bar',figsize=(10,7.5),rot=45)\n",
    "srccb.sort_values('functional',ascending=False)"
   ]
  },
  {
   "cell_type": "markdown",
   "metadata": {},
   "source": [
    "#### Feature: Basin"
   ]
  },
  {
   "cell_type": "code",
   "execution_count": 37,
   "metadata": {},
   "outputs": [
    {
     "data": {
      "text/plain": [
       "<matplotlib.axes._subplots.AxesSubplot at 0x1a27fc7748>"
      ]
     },
     "execution_count": 37,
     "metadata": {},
     "output_type": "execute_result"
    },
    {
     "data": {
      "image/png": "[encoded data removed]",
      "text/plain": [
       "<Figure size 432x288 with 1 Axes>"
      ]
     },
     "metadata": {
      "needs_background": "light"
     },
     "output_type": "display_data"
    }
   ],
   "source": [
    "df.basin.value_counts().plot(kind='bar')"
   ]
  },
  {
   "cell_type": "code",
   "execution_count": 38,
   "metadata": {},
   "outputs": [
    {
     "data": {
      "text/html": [
       "<div>\n",
       "<style scoped>\n",
       "    .dataframe tbody tr th:only-of-type {\n",
       "        vertical-align: middle;\n",
       "    }\n",
       "\n",
       "    .dataframe tbody tr th {\n",
       "        vertical-align: top;\n",
       "    }\n",
       "\n",
       "    .dataframe thead th {\n",
       "        text-align: right;\n",
       "    }\n",
       "</style>\n",
       "<table border=\"1\" class=\"dataframe\">\n",
       "  <thead>\n",
       "    <tr style=\"text-align: right;\">\n",
       "      <th>status_group</th>\n",
       "      <th>functional</th>\n",
       "      <th>needs repair</th>\n",
       "    </tr>\n",
       "    <tr>\n",
       "      <th>basin</th>\n",
       "      <th></th>\n",
       "      <th></th>\n",
       "    </tr>\n",
       "  </thead>\n",
       "  <tbody>\n",
       "    <tr>\n",
       "      <td>Lake Nyasa</td>\n",
       "      <td>0.692239</td>\n",
       "      <td>0.307761</td>\n",
       "    </tr>\n",
       "    <tr>\n",
       "      <td>Rufiji</td>\n",
       "      <td>0.668380</td>\n",
       "      <td>0.331620</td>\n",
       "    </tr>\n",
       "    <tr>\n",
       "      <td>Pangani</td>\n",
       "      <td>0.602927</td>\n",
       "      <td>0.397073</td>\n",
       "    </tr>\n",
       "    <tr>\n",
       "      <td>Internal</td>\n",
       "      <td>0.601625</td>\n",
       "      <td>0.398375</td>\n",
       "    </tr>\n",
       "    <tr>\n",
       "      <td>All</td>\n",
       "      <td>0.549218</td>\n",
       "      <td>0.450782</td>\n",
       "    </tr>\n",
       "    <tr>\n",
       "      <td>Wami / Ruvu</td>\n",
       "      <td>0.510386</td>\n",
       "      <td>0.489614</td>\n",
       "    </tr>\n",
       "    <tr>\n",
       "      <td>Lake Victoria</td>\n",
       "      <td>0.493102</td>\n",
       "      <td>0.506898</td>\n",
       "    </tr>\n",
       "    <tr>\n",
       "      <td>Lake Tanganyika</td>\n",
       "      <td>0.477132</td>\n",
       "      <td>0.522868</td>\n",
       "    </tr>\n",
       "    <tr>\n",
       "      <td>Lake Rukwa</td>\n",
       "      <td>0.411324</td>\n",
       "      <td>0.588676</td>\n",
       "    </tr>\n",
       "    <tr>\n",
       "      <td>Ruvuma / Southern Coast</td>\n",
       "      <td>0.380680</td>\n",
       "      <td>0.619320</td>\n",
       "    </tr>\n",
       "  </tbody>\n",
       "</table>\n",
       "</div>"
      ],
      "text/plain": [
       "status_group             functional  needs repair\n",
       "basin                                            \n",
       "Lake Nyasa                 0.692239      0.307761\n",
       "Rufiji                     0.668380      0.331620\n",
       "Pangani                    0.602927      0.397073\n",
       "Internal                   0.601625      0.398375\n",
       "All                        0.549218      0.450782\n",
       "Wami / Ruvu                0.510386      0.489614\n",
       "Lake Victoria              0.493102      0.506898\n",
       "Lake Tanganyika            0.477132      0.522868\n",
       "Lake Rukwa                 0.411324      0.588676\n",
       "Ruvuma / Southern Coast    0.380680      0.619320"
      ]
     },
     "execution_count": 38,
     "metadata": {},
     "output_type": "execute_result"
    },
    {
     "data": {
      "image/png": "[encoded data removed]",
      "text/plain": [
       "<Figure size 720x540 with 1 Axes>"
      ]
     },
     "metadata": {
      "needs_background": "light"
     },
     "output_type": "display_data"
    }
   ],
   "source": [
    "basin = pd.crosstab([df_b.basin],df_b.status_group,margins=True,normalize='index')#\n",
    "basin.plot(kind='bar',figsize=(10,7.5),rot=45)\n",
    "basin.sort_values('functional',ascending=False)"
   ]
  },
  {
   "cell_type": "markdown",
   "metadata": {},
   "source": [
    "do they have different water?"
   ]
  },
  {
   "cell_type": "code",
   "execution_count": null,
   "metadata": {},
   "outputs": [],
   "source": []
  },
  {
   "cell_type": "code",
   "execution_count": null,
   "metadata": {},
   "outputs": [],
   "source": []
  },
  {
   "cell_type": "code",
   "execution_count": null,
   "metadata": {},
   "outputs": [],
   "source": []
  },
  {
   "cell_type": "code",
   "execution_count": null,
   "metadata": {},
   "outputs": [],
   "source": []
  },
  {
   "cell_type": "code",
   "execution_count": null,
   "metadata": {},
   "outputs": [],
   "source": []
  },
  {
   "cell_type": "markdown",
   "metadata": {
    "toc-hr-collapsed": true,
    "toc-nb-collapsed": true
   },
   "source": [
    "### Waterpoint"
   ]
  },
  {
   "cell_type": "markdown",
   "metadata": {},
   "source": [
    "#### Feature: Waterpoint Age"
   ]
  },
  {
   "cell_type": "code",
   "execution_count": 39,
   "metadata": {},
   "outputs": [
    {
     "data": {
      "text/plain": [
       "<matplotlib.axes._subplots.AxesSubplot at 0x1a27fbc7b8>"
      ]
     },
     "execution_count": 39,
     "metadata": {},
     "output_type": "execute_result"
    },
    {
     "data": {
      "image/png": "[encoded data removed]",
      "text/plain": [
       "<Figure size 432x288 with 1 Axes>"
      ]
     },
     "metadata": {
      "needs_background": "light"
     },
     "output_type": "display_data"
    }
   ],
   "source": [
    "df.age.plot(kind='hist') #knn? "
   ]
  },
  {
   "cell_type": "code",
   "execution_count": 40,
   "metadata": {},
   "outputs": [],
   "source": [
    "agebins = range(0, df.age.max(), 10)\n",
    "df['age_bucket'] = pd.cut(df.age, bins=agebins)"
   ]
  },
  {
   "cell_type": "code",
   "execution_count": 41,
   "metadata": {},
   "outputs": [],
   "source": [
    "# ages = pd.crosstab(df.age_bucket,df.status_group,normalize='index')\n",
    "# ages.plot(kind='bar',figsize=(10,7.5),title='title',rot=45)\n",
    "# ages"
   ]
  },
  {
   "cell_type": "markdown",
   "metadata": {},
   "source": [
    "###### **Binary**"
   ]
  },
  {
   "cell_type": "code",
   "execution_count": 42,
   "metadata": {},
   "outputs": [],
   "source": [
    "mybins = range(0, df_b.age.max(), 10)\n",
    "df_b['age_bucket'] = pd.cut(df_b.age, bins=mybins)"
   ]
  },
  {
   "cell_type": "code",
   "execution_count": 43,
   "metadata": {},
   "outputs": [
    {
     "data": {
      "text/html": [
       "<div>\n",
       "<style scoped>\n",
       "    .dataframe tbody tr th:only-of-type {\n",
       "        vertical-align: middle;\n",
       "    }\n",
       "\n",
       "    .dataframe tbody tr th {\n",
       "        vertical-align: top;\n",
       "    }\n",
       "\n",
       "    .dataframe thead th {\n",
       "        text-align: right;\n",
       "    }\n",
       "</style>\n",
       "<table border=\"1\" class=\"dataframe\">\n",
       "  <thead>\n",
       "    <tr style=\"text-align: right;\">\n",
       "      <th>status_group</th>\n",
       "      <th>functional</th>\n",
       "      <th>needs repair</th>\n",
       "    </tr>\n",
       "    <tr>\n",
       "      <th>age_bucket</th>\n",
       "      <th></th>\n",
       "      <th></th>\n",
       "    </tr>\n",
       "  </thead>\n",
       "  <tbody>\n",
       "    <tr>\n",
       "      <td>(0, 10]</td>\n",
       "      <td>0.733616</td>\n",
       "      <td>0.266384</td>\n",
       "    </tr>\n",
       "    <tr>\n",
       "      <td>(10, 20]</td>\n",
       "      <td>0.661978</td>\n",
       "      <td>0.338022</td>\n",
       "    </tr>\n",
       "    <tr>\n",
       "      <td>(20, 30]</td>\n",
       "      <td>0.519066</td>\n",
       "      <td>0.480934</td>\n",
       "    </tr>\n",
       "    <tr>\n",
       "      <td>(30, 40]</td>\n",
       "      <td>0.421561</td>\n",
       "      <td>0.578439</td>\n",
       "    </tr>\n",
       "    <tr>\n",
       "      <td>(40, 50]</td>\n",
       "      <td>0.335172</td>\n",
       "      <td>0.664828</td>\n",
       "    </tr>\n",
       "  </tbody>\n",
       "</table>\n",
       "</div>"
      ],
      "text/plain": [
       "status_group  functional  needs repair\n",
       "age_bucket                            \n",
       "(0, 10]         0.733616      0.266384\n",
       "(10, 20]        0.661978      0.338022\n",
       "(20, 30]        0.519066      0.480934\n",
       "(30, 40]        0.421561      0.578439\n",
       "(40, 50]        0.335172      0.664828"
      ]
     },
     "execution_count": 43,
     "metadata": {},
     "output_type": "execute_result"
    },
    {
     "data": {
      "image/png": "[encoded data removed]",
      "text/plain": [
       "<Figure size 720x720 with 1 Axes>"
      ]
     },
     "metadata": {
      "needs_background": "light"
     },
     "output_type": "display_data"
    }
   ],
   "source": [
    "ages_b = pd.crosstab(df_b.age_bucket,df_b.status_group,normalize='index')\n",
    "ages_b.plot(kind='bar',figsize=(10,10),rot=45)\n",
    "plt.savefig('images/age_status.png')\n",
    "ages_b"
   ]
  },
  {
   "cell_type": "markdown",
   "metadata": {},
   "source": [
    "did the technology change?"
   ]
  },
  {
   "cell_type": "markdown",
   "metadata": {},
   "source": [
    "df_age_gt_25 = df_b[df_b['age'] > 25]"
   ]
  },
  {
   "cell_type": "code",
   "execution_count": 45,
   "metadata": {},
   "outputs": [
    {
     "data": {
      "text/html": [
       "<div>\n",
       "<style scoped>\n",
       "    .dataframe tbody tr th:only-of-type {\n",
       "        vertical-align: middle;\n",
       "    }\n",
       "\n",
       "    .dataframe tbody tr th {\n",
       "        vertical-align: top;\n",
       "    }\n",
       "\n",
       "    .dataframe thead th {\n",
       "        text-align: right;\n",
       "    }\n",
       "</style>\n",
       "<table border=\"1\" class=\"dataframe\">\n",
       "  <thead>\n",
       "    <tr style=\"text-align: right;\">\n",
       "      <th>status_group</th>\n",
       "      <th>functional</th>\n",
       "      <th>needs repair</th>\n",
       "    </tr>\n",
       "    <tr>\n",
       "      <th>waterpoint_type</th>\n",
       "      <th></th>\n",
       "      <th></th>\n",
       "    </tr>\n",
       "  </thead>\n",
       "  <tbody>\n",
       "    <tr>\n",
       "      <td>dam</td>\n",
       "      <td>1.000000</td>\n",
       "      <td>0.000000</td>\n",
       "    </tr>\n",
       "    <tr>\n",
       "      <td>cattle trough</td>\n",
       "      <td>0.736842</td>\n",
       "      <td>0.263158</td>\n",
       "    </tr>\n",
       "    <tr>\n",
       "      <td>improved spring</td>\n",
       "      <td>0.611111</td>\n",
       "      <td>0.388889</td>\n",
       "    </tr>\n",
       "    <tr>\n",
       "      <td>communal standpipe</td>\n",
       "      <td>0.532859</td>\n",
       "      <td>0.467141</td>\n",
       "    </tr>\n",
       "    <tr>\n",
       "      <td>hand pump</td>\n",
       "      <td>0.530100</td>\n",
       "      <td>0.469900</td>\n",
       "    </tr>\n",
       "    <tr>\n",
       "      <td>communal standpipe multiple</td>\n",
       "      <td>0.194476</td>\n",
       "      <td>0.805524</td>\n",
       "    </tr>\n",
       "    <tr>\n",
       "      <td>other</td>\n",
       "      <td>0.060462</td>\n",
       "      <td>0.939538</td>\n",
       "    </tr>\n",
       "  </tbody>\n",
       "</table>\n",
       "</div>"
      ],
      "text/plain": [
       "status_group                 functional  needs repair\n",
       "waterpoint_type                                      \n",
       "dam                            1.000000      0.000000\n",
       "cattle trough                  0.736842      0.263158\n",
       "improved spring                0.611111      0.388889\n",
       "communal standpipe             0.532859      0.467141\n",
       "hand pump                      0.530100      0.469900\n",
       "communal standpipe multiple    0.194476      0.805524\n",
       "other                          0.060462      0.939538"
      ]
     },
     "execution_count": 45,
     "metadata": {},
     "output_type": "execute_result"
    },
    {
     "data": {
      "image/png": "[encoded data removed]",
      "text/plain": [
       "<Figure size 720x720 with 1 Axes>"
      ]
     },
     "metadata": {
      "needs_background": "light"
     },
     "output_type": "display_data"
    }
   ],
   "source": [
    "ages_g25 = pd.crosstab(df_age_gt_25.waterpoint_type,df_age_gt_25.status_group,normalize='index')\n",
    "ages_g25.plot(kind='bar',figsize=(10,10),rot=45)\n",
    "plt.savefig('images/ageg25_status.png')\n",
    "ages_g25.sort_values('functional',ascending=False)"
   ]
  },
  {
   "cell_type": "code",
   "execution_count": 46,
   "metadata": {},
   "outputs": [],
   "source": [
    "df_age_lt_25 = df_b[df_b['age'] < 25]"
   ]
  },
  {
   "cell_type": "code",
   "execution_count": 47,
   "metadata": {},
   "outputs": [
    {
     "data": {
      "text/html": [
       "<div>\n",
       "<style scoped>\n",
       "    .dataframe tbody tr th:only-of-type {\n",
       "        vertical-align: middle;\n",
       "    }\n",
       "\n",
       "    .dataframe tbody tr th {\n",
       "        vertical-align: top;\n",
       "    }\n",
       "\n",
       "    .dataframe thead th {\n",
       "        text-align: right;\n",
       "    }\n",
       "</style>\n",
       "<table border=\"1\" class=\"dataframe\">\n",
       "  <thead>\n",
       "    <tr style=\"text-align: right;\">\n",
       "      <th>status_group</th>\n",
       "      <th>functional</th>\n",
       "      <th>needs repair</th>\n",
       "    </tr>\n",
       "    <tr>\n",
       "      <th>waterpoint_type</th>\n",
       "      <th></th>\n",
       "      <th></th>\n",
       "    </tr>\n",
       "  </thead>\n",
       "  <tbody>\n",
       "    <tr>\n",
       "      <td>dam</td>\n",
       "      <td>1.000000</td>\n",
       "      <td>0.000000</td>\n",
       "    </tr>\n",
       "    <tr>\n",
       "      <td>cattle trough</td>\n",
       "      <td>0.761905</td>\n",
       "      <td>0.238095</td>\n",
       "    </tr>\n",
       "    <tr>\n",
       "      <td>improved spring</td>\n",
       "      <td>0.731993</td>\n",
       "      <td>0.268007</td>\n",
       "    </tr>\n",
       "    <tr>\n",
       "      <td>communal standpipe</td>\n",
       "      <td>0.666569</td>\n",
       "      <td>0.333431</td>\n",
       "    </tr>\n",
       "    <tr>\n",
       "      <td>hand pump</td>\n",
       "      <td>0.629457</td>\n",
       "      <td>0.370543</td>\n",
       "    </tr>\n",
       "    <tr>\n",
       "      <td>communal standpipe multiple</td>\n",
       "      <td>0.439037</td>\n",
       "      <td>0.560963</td>\n",
       "    </tr>\n",
       "    <tr>\n",
       "      <td>other</td>\n",
       "      <td>0.159341</td>\n",
       "      <td>0.840659</td>\n",
       "    </tr>\n",
       "  </tbody>\n",
       "</table>\n",
       "</div>"
      ],
      "text/plain": [
       "status_group                 functional  needs repair\n",
       "waterpoint_type                                      \n",
       "dam                            1.000000      0.000000\n",
       "cattle trough                  0.761905      0.238095\n",
       "improved spring                0.731993      0.268007\n",
       "communal standpipe             0.666569      0.333431\n",
       "hand pump                      0.629457      0.370543\n",
       "communal standpipe multiple    0.439037      0.560963\n",
       "other                          0.159341      0.840659"
      ]
     },
     "execution_count": 47,
     "metadata": {},
     "output_type": "execute_result"
    },
    {
     "data": {
      "image/png": "[encoded data removed]",
      "text/plain": [
       "<Figure size 720x720 with 1 Axes>"
      ]
     },
     "metadata": {
      "needs_background": "light"
     },
     "output_type": "display_data"
    }
   ],
   "source": [
    "ages_l25 = pd.crosstab(df_age_lt_25.waterpoint_type,df_age_lt_25.status_group,normalize='index')\n",
    "ages_l25.plot(kind='bar',figsize=(10,10),rot=45)\n",
    "plt.savefig('images/ageg25_status.png')\n",
    "ages_l25.sort_values('functional',ascending=False)"
   ]
  },
  {
   "cell_type": "markdown",
   "metadata": {},
   "source": [
    "#### Feature: Waterpoint Type"
   ]
  },
  {
   "cell_type": "code",
   "execution_count": 48,
   "metadata": {},
   "outputs": [
    {
     "data": {
      "text/plain": [
       "<matplotlib.axes._subplots.AxesSubplot at 0x1a27065860>"
      ]
     },
     "execution_count": 48,
     "metadata": {},
     "output_type": "execute_result"
    },
    {
     "data": {
      "image/png": "[encoded data removed]",
      "text/plain": [
       "<Figure size 432x288 with 1 Axes>"
      ]
     },
     "metadata": {
      "needs_background": "light"
     },
     "output_type": "display_data"
    }
   ],
   "source": [
    "df.waterpoint_type.value_counts().plot(kind='bar')"
   ]
  },
  {
   "cell_type": "code",
   "execution_count": 49,
   "metadata": {},
   "outputs": [],
   "source": [
    "# wpttp = pd.crosstab(df.waterpoint_type,df.status_group,normalize='index')\n",
    "# wpttp.plot(kind='bar',figsize=(10,7.5),rot=45)\n",
    "# wpttp.sort_values('functional',ascending=False)"
   ]
  },
  {
   "cell_type": "markdown",
   "metadata": {},
   "source": [
    "###### **Binary**"
   ]
  },
  {
   "cell_type": "code",
   "execution_count": 50,
   "metadata": {},
   "outputs": [
    {
     "data": {
      "text/html": [
       "<div>\n",
       "<style scoped>\n",
       "    .dataframe tbody tr th:only-of-type {\n",
       "        vertical-align: middle;\n",
       "    }\n",
       "\n",
       "    .dataframe tbody tr th {\n",
       "        vertical-align: top;\n",
       "    }\n",
       "\n",
       "    .dataframe thead th {\n",
       "        text-align: right;\n",
       "    }\n",
       "</style>\n",
       "<table border=\"1\" class=\"dataframe\">\n",
       "  <thead>\n",
       "    <tr style=\"text-align: right;\">\n",
       "      <th>status_group</th>\n",
       "      <th>functional</th>\n",
       "      <th>needs repair</th>\n",
       "    </tr>\n",
       "    <tr>\n",
       "      <th>waterpoint_type</th>\n",
       "      <th></th>\n",
       "      <th></th>\n",
       "    </tr>\n",
       "  </thead>\n",
       "  <tbody>\n",
       "    <tr>\n",
       "      <td>dam</td>\n",
       "      <td>1.000000</td>\n",
       "      <td>0.000000</td>\n",
       "    </tr>\n",
       "    <tr>\n",
       "      <td>cattle trough</td>\n",
       "      <td>0.756098</td>\n",
       "      <td>0.243902</td>\n",
       "    </tr>\n",
       "    <tr>\n",
       "      <td>improved spring</td>\n",
       "      <td>0.721966</td>\n",
       "      <td>0.278034</td>\n",
       "    </tr>\n",
       "    <tr>\n",
       "      <td>communal standpipe</td>\n",
       "      <td>0.631221</td>\n",
       "      <td>0.368779</td>\n",
       "    </tr>\n",
       "    <tr>\n",
       "      <td>hand pump</td>\n",
       "      <td>0.616306</td>\n",
       "      <td>0.383694</td>\n",
       "    </tr>\n",
       "    <tr>\n",
       "      <td>communal standpipe multiple</td>\n",
       "      <td>0.370156</td>\n",
       "      <td>0.629844</td>\n",
       "    </tr>\n",
       "    <tr>\n",
       "      <td>other</td>\n",
       "      <td>0.122234</td>\n",
       "      <td>0.877766</td>\n",
       "    </tr>\n",
       "  </tbody>\n",
       "</table>\n",
       "</div>"
      ],
      "text/plain": [
       "status_group                 functional  needs repair\n",
       "waterpoint_type                                      \n",
       "dam                            1.000000      0.000000\n",
       "cattle trough                  0.756098      0.243902\n",
       "improved spring                0.721966      0.278034\n",
       "communal standpipe             0.631221      0.368779\n",
       "hand pump                      0.616306      0.383694\n",
       "communal standpipe multiple    0.370156      0.629844\n",
       "other                          0.122234      0.877766"
      ]
     },
     "execution_count": 50,
     "metadata": {},
     "output_type": "execute_result"
    },
    {
     "data": {
      "image/png": "[encoded data removed]",
      "text/plain": [
       "<Figure size 720x540 with 1 Axes>"
      ]
     },
     "metadata": {
      "needs_background": "light"
     },
     "output_type": "display_data"
    }
   ],
   "source": [
    "wpttpb = pd.crosstab(df_b.waterpoint_type,df_b.status_group,normalize='index')\n",
    "wpttpb.plot(kind='bar',figsize=(10,7.5),rot=45)\n",
    "wpttpb.sort_values('functional',ascending=False)"
   ]
  },
  {
   "cell_type": "markdown",
   "metadata": {},
   "source": [
    "#### Extraction Type"
   ]
  },
  {
   "cell_type": "code",
   "execution_count": 51,
   "metadata": {},
   "outputs": [
    {
     "data": {
      "text/plain": [
       "<matplotlib.axes._subplots.AxesSubplot at 0x1a28e890b8>"
      ]
     },
     "execution_count": 51,
     "metadata": {},
     "output_type": "execute_result"
    },
    {
     "data": {
      "image/png": "[encoded data removed]",
      "text/plain": [
       "<Figure size 432x288 with 1 Axes>"
      ]
     },
     "metadata": {
      "needs_background": "light"
     },
     "output_type": "display_data"
    }
   ],
   "source": [
    "df.extraction_type_class.value_counts().plot(kind='bar')"
   ]
  },
  {
   "cell_type": "code",
   "execution_count": 52,
   "metadata": {},
   "outputs": [],
   "source": [
    "# exttp = pd.crosstab(df.extraction_type_class,df.status_group,normalize='index')\n",
    "# exttp.plot(kind='bar',figsize=(10,7.5),rot=45)\n",
    "# exttp.sort_values('functional',ascending=False)"
   ]
  },
  {
   "cell_type": "markdown",
   "metadata": {},
   "source": [
    "###### **Binary**"
   ]
  },
  {
   "cell_type": "code",
   "execution_count": 53,
   "metadata": {},
   "outputs": [
    {
     "data": {
      "text/html": [
       "<div>\n",
       "<style scoped>\n",
       "    .dataframe tbody tr th:only-of-type {\n",
       "        vertical-align: middle;\n",
       "    }\n",
       "\n",
       "    .dataframe tbody tr th {\n",
       "        vertical-align: top;\n",
       "    }\n",
       "\n",
       "    .dataframe thead th {\n",
       "        text-align: right;\n",
       "    }\n",
       "</style>\n",
       "<table border=\"1\" class=\"dataframe\">\n",
       "  <thead>\n",
       "    <tr style=\"text-align: right;\">\n",
       "      <th>status_group</th>\n",
       "      <th>functional</th>\n",
       "      <th>needs repair</th>\n",
       "    </tr>\n",
       "    <tr>\n",
       "      <th>extraction_type_class</th>\n",
       "      <th></th>\n",
       "      <th></th>\n",
       "    </tr>\n",
       "  </thead>\n",
       "  <tbody>\n",
       "    <tr>\n",
       "      <td>rope pump</td>\n",
       "      <td>0.636792</td>\n",
       "      <td>0.363208</td>\n",
       "    </tr>\n",
       "    <tr>\n",
       "      <td>handpump</td>\n",
       "      <td>0.629644</td>\n",
       "      <td>0.370356</td>\n",
       "    </tr>\n",
       "    <tr>\n",
       "      <td>gravity</td>\n",
       "      <td>0.609020</td>\n",
       "      <td>0.390980</td>\n",
       "    </tr>\n",
       "    <tr>\n",
       "      <td>submersible</td>\n",
       "      <td>0.521346</td>\n",
       "      <td>0.478654</td>\n",
       "    </tr>\n",
       "    <tr>\n",
       "      <td>wind-powered</td>\n",
       "      <td>0.413462</td>\n",
       "      <td>0.586538</td>\n",
       "    </tr>\n",
       "    <tr>\n",
       "      <td>motorpump</td>\n",
       "      <td>0.394275</td>\n",
       "      <td>0.605725</td>\n",
       "    </tr>\n",
       "    <tr>\n",
       "      <td>other</td>\n",
       "      <td>0.134963</td>\n",
       "      <td>0.865037</td>\n",
       "    </tr>\n",
       "  </tbody>\n",
       "</table>\n",
       "</div>"
      ],
      "text/plain": [
       "status_group           functional  needs repair\n",
       "extraction_type_class                          \n",
       "rope pump                0.636792      0.363208\n",
       "handpump                 0.629644      0.370356\n",
       "gravity                  0.609020      0.390980\n",
       "submersible              0.521346      0.478654\n",
       "wind-powered             0.413462      0.586538\n",
       "motorpump                0.394275      0.605725\n",
       "other                    0.134963      0.865037"
      ]
     },
     "execution_count": 53,
     "metadata": {},
     "output_type": "execute_result"
    },
    {
     "data": {
      "image/png": "[encoded data removed]",
      "text/plain": [
       "<Figure size 720x540 with 1 Axes>"
      ]
     },
     "metadata": {
      "needs_background": "light"
     },
     "output_type": "display_data"
    }
   ],
   "source": [
    "exttpb = pd.crosstab(df_b.extraction_type_class,df_b.status_group,normalize='index')\n",
    "exttpb.plot(kind='bar',figsize=(10,7.5),rot=45)\n",
    "plt.savefig('images/extract_status.png')\n",
    "exttpb.sort_values('functional',ascending=False)"
   ]
  },
  {
   "cell_type": "markdown",
   "metadata": {
    "toc-hr-collapsed": true,
    "toc-nb-collapsed": true
   },
   "source": [
    "### Governance"
   ]
  },
  {
   "cell_type": "markdown",
   "metadata": {},
   "source": [
    "#### Feature: Permit"
   ]
  },
  {
   "cell_type": "code",
   "execution_count": 54,
   "metadata": {},
   "outputs": [
    {
     "data": {
      "text/plain": [
       "<matplotlib.axes._subplots.AxesSubplot at 0x1a2966bd30>"
      ]
     },
     "execution_count": 54,
     "metadata": {},
     "output_type": "execute_result"
    },
    {
     "data": {
      "image/png": "[encoded data removed]",
      "text/plain": [
       "<Figure size 432x288 with 1 Axes>"
      ]
     },
     "metadata": {
      "needs_background": "light"
     },
     "output_type": "display_data"
    }
   ],
   "source": [
    "df.permit.value_counts().plot(kind='bar')"
   ]
  },
  {
   "cell_type": "code",
   "execution_count": 55,
   "metadata": {},
   "outputs": [],
   "source": [
    "# permit = pd.crosstab(df.permit,df.status_group,normalize='index')\n",
    "# permit.plot(kind='bar',figsize=(10,7.5),rot=45)\n",
    "# permit.sort_values('functional',ascending=False)"
   ]
  },
  {
   "cell_type": "code",
   "execution_count": 56,
   "metadata": {},
   "outputs": [
    {
     "data": {
      "text/html": [
       "<div>\n",
       "<style scoped>\n",
       "    .dataframe tbody tr th:only-of-type {\n",
       "        vertical-align: middle;\n",
       "    }\n",
       "\n",
       "    .dataframe tbody tr th {\n",
       "        vertical-align: top;\n",
       "    }\n",
       "\n",
       "    .dataframe thead th {\n",
       "        text-align: right;\n",
       "    }\n",
       "</style>\n",
       "<table border=\"1\" class=\"dataframe\">\n",
       "  <thead>\n",
       "    <tr style=\"text-align: right;\">\n",
       "      <th>status_group</th>\n",
       "      <th>functional</th>\n",
       "      <th>needs repair</th>\n",
       "    </tr>\n",
       "    <tr>\n",
       "      <th>permit</th>\n",
       "      <th></th>\n",
       "      <th></th>\n",
       "    </tr>\n",
       "  </thead>\n",
       "  <tbody>\n",
       "    <tr>\n",
       "      <td>True</td>\n",
       "      <td>0.568521</td>\n",
       "      <td>0.431479</td>\n",
       "    </tr>\n",
       "    <tr>\n",
       "      <td>False</td>\n",
       "      <td>0.507301</td>\n",
       "      <td>0.492699</td>\n",
       "    </tr>\n",
       "  </tbody>\n",
       "</table>\n",
       "</div>"
      ],
      "text/plain": [
       "status_group  functional  needs repair\n",
       "permit                                \n",
       "True            0.568521      0.431479\n",
       "False           0.507301      0.492699"
      ]
     },
     "execution_count": 56,
     "metadata": {},
     "output_type": "execute_result"
    },
    {
     "data": {
      "image/png": "[encoded data removed]",
      "text/plain": [
       "<Figure size 720x540 with 1 Axes>"
      ]
     },
     "metadata": {
      "needs_background": "light"
     },
     "output_type": "display_data"
    }
   ],
   "source": [
    "permitb = pd.crosstab(df_b.permit,df_b.status_group,normalize='index')\n",
    "permitb.plot(kind='bar',figsize=(10,7.5),rot=45)\n",
    "plt.savefig('images/permit_status.png')\n",
    "permitb.sort_values('functional',ascending=False)"
   ]
  },
  {
   "cell_type": "markdown",
   "metadata": {},
   "source": [
    "#### Feature: Public Meeting"
   ]
  },
  {
   "cell_type": "code",
   "execution_count": 57,
   "metadata": {},
   "outputs": [
    {
     "data": {
      "text/plain": [
       "<matplotlib.axes._subplots.AxesSubplot at 0x1a295e6470>"
      ]
     },
     "execution_count": 57,
     "metadata": {},
     "output_type": "execute_result"
    },
    {
     "data": {
      "image/png": "[encoded data removed]",
      "text/plain": [
       "<Figure size 432x288 with 1 Axes>"
      ]
     },
     "metadata": {
      "needs_background": "light"
     },
     "output_type": "display_data"
    }
   ],
   "source": [
    "df.public_meeting.value_counts().plot(kind='bar')"
   ]
  },
  {
   "cell_type": "code",
   "execution_count": 58,
   "metadata": {},
   "outputs": [],
   "source": [
    "# meet = pd.crosstab(df.public_meeting,df.status_group,normalize='index')\n",
    "# meet.plot(kind='bar',figsize=(10,7.5),rot=45)\n",
    "# meet.sort_values('functional',ascending=False)"
   ]
  },
  {
   "cell_type": "code",
   "execution_count": 59,
   "metadata": {},
   "outputs": [
    {
     "data": {
      "text/html": [
       "<div>\n",
       "<style scoped>\n",
       "    .dataframe tbody tr th:only-of-type {\n",
       "        vertical-align: middle;\n",
       "    }\n",
       "\n",
       "    .dataframe tbody tr th {\n",
       "        vertical-align: top;\n",
       "    }\n",
       "\n",
       "    .dataframe thead th {\n",
       "        text-align: right;\n",
       "    }\n",
       "</style>\n",
       "<table border=\"1\" class=\"dataframe\">\n",
       "  <thead>\n",
       "    <tr style=\"text-align: right;\">\n",
       "      <th>status_group</th>\n",
       "      <th>functional</th>\n",
       "      <th>needs repair</th>\n",
       "    </tr>\n",
       "    <tr>\n",
       "      <th>public_meeting</th>\n",
       "      <th></th>\n",
       "      <th></th>\n",
       "    </tr>\n",
       "  </thead>\n",
       "  <tbody>\n",
       "    <tr>\n",
       "      <td>True</td>\n",
       "      <td>0.562784</td>\n",
       "      <td>0.437216</td>\n",
       "    </tr>\n",
       "    <tr>\n",
       "      <td>False</td>\n",
       "      <td>0.410994</td>\n",
       "      <td>0.589006</td>\n",
       "    </tr>\n",
       "  </tbody>\n",
       "</table>\n",
       "</div>"
      ],
      "text/plain": [
       "status_group    functional  needs repair\n",
       "public_meeting                          \n",
       "True              0.562784      0.437216\n",
       "False             0.410994      0.589006"
      ]
     },
     "execution_count": 59,
     "metadata": {},
     "output_type": "execute_result"
    },
    {
     "data": {
      "image/png": "[encoded data removed]",
      "text/plain": [
       "<Figure size 720x540 with 1 Axes>"
      ]
     },
     "metadata": {
      "needs_background": "light"
     },
     "output_type": "display_data"
    }
   ],
   "source": [
    "meetb = pd.crosstab(df_b.public_meeting,df_b.status_group,normalize='index')\n",
    "meetb.plot(kind='bar',figsize=(10,7.5),rot=45)\n",
    "meetb.sort_values('functional',ascending=False)"
   ]
  },
  {
   "cell_type": "markdown",
   "metadata": {},
   "source": [
    "#### Feature: Mangagement"
   ]
  },
  {
   "cell_type": "markdown",
   "metadata": {},
   "source": [
    "#### Feature: Funder"
   ]
  },
  {
   "cell_type": "markdown",
   "metadata": {},
   "source": [
    "gpsheaight; a mountain? outlier?\n",
    "longitude, are there errors? shouldnt be so far from the rest\n",
    "construction year issues\n"
   ]
  },
  {
   "cell_type": "code",
   "execution_count": 60,
   "metadata": {},
   "outputs": [
    {
     "data": {
      "text/plain": [
       "['Government Of Tanzania',\n",
       " 'Danida',\n",
       " 'Hesawa',\n",
       " 'Kkkt',\n",
       " 'World Bank',\n",
       " 'World Vision',\n",
       " 'Unicef',\n",
       " 'Rwssp',\n",
       " 'District Council',\n",
       " 'Tasaf',\n",
       " 'Private Individual']"
      ]
     },
     "execution_count": 60,
     "metadata": {},
     "output_type": "execute_result"
    }
   ],
   "source": [
    "top10funders = df['funder'].value_counts().index.tolist()[:11]\n",
    "top10funders"
   ]
  },
  {
   "cell_type": "code",
   "execution_count": 61,
   "metadata": {},
   "outputs": [
    {
     "data": {
      "text/html": [
       "<div>\n",
       "<style scoped>\n",
       "    .dataframe tbody tr th:only-of-type {\n",
       "        vertical-align: middle;\n",
       "    }\n",
       "\n",
       "    .dataframe tbody tr th {\n",
       "        vertical-align: top;\n",
       "    }\n",
       "\n",
       "    .dataframe thead th {\n",
       "        text-align: right;\n",
       "    }\n",
       "</style>\n",
       "<table border=\"1\" class=\"dataframe\">\n",
       "  <thead>\n",
       "    <tr style=\"text-align: right;\">\n",
       "      <th>status_group</th>\n",
       "      <th>functional</th>\n",
       "      <th>needs repair</th>\n",
       "    </tr>\n",
       "    <tr>\n",
       "      <th>funder</th>\n",
       "      <th></th>\n",
       "      <th></th>\n",
       "    </tr>\n",
       "  </thead>\n",
       "  <tbody>\n",
       "    <tr>\n",
       "      <td>Private Individual</td>\n",
       "      <td>0.843546</td>\n",
       "      <td>0.156454</td>\n",
       "    </tr>\n",
       "    <tr>\n",
       "      <td>Rwssp</td>\n",
       "      <td>0.593516</td>\n",
       "      <td>0.406484</td>\n",
       "    </tr>\n",
       "    <tr>\n",
       "      <td>World Vision</td>\n",
       "      <td>0.589080</td>\n",
       "      <td>0.410920</td>\n",
       "    </tr>\n",
       "    <tr>\n",
       "      <td>Unicef</td>\n",
       "      <td>0.589055</td>\n",
       "      <td>0.410945</td>\n",
       "    </tr>\n",
       "    <tr>\n",
       "      <td>Danida</td>\n",
       "      <td>0.570890</td>\n",
       "      <td>0.429110</td>\n",
       "    </tr>\n",
       "    <tr>\n",
       "      <td>Tasaf</td>\n",
       "      <td>0.559085</td>\n",
       "      <td>0.440915</td>\n",
       "    </tr>\n",
       "    <tr>\n",
       "      <td>Kkkt</td>\n",
       "      <td>0.559080</td>\n",
       "      <td>0.440920</td>\n",
       "    </tr>\n",
       "    <tr>\n",
       "      <td>District Council</td>\n",
       "      <td>0.456929</td>\n",
       "      <td>0.543071</td>\n",
       "    </tr>\n",
       "    <tr>\n",
       "      <td>Hesawa</td>\n",
       "      <td>0.448524</td>\n",
       "      <td>0.551476</td>\n",
       "    </tr>\n",
       "    <tr>\n",
       "      <td>World Bank</td>\n",
       "      <td>0.420168</td>\n",
       "      <td>0.579832</td>\n",
       "    </tr>\n",
       "    <tr>\n",
       "      <td>Government Of Tanzania</td>\n",
       "      <td>0.419295</td>\n",
       "      <td>0.580705</td>\n",
       "    </tr>\n",
       "  </tbody>\n",
       "</table>\n",
       "</div>"
      ],
      "text/plain": [
       "status_group            functional  needs repair\n",
       "funder                                          \n",
       "Private Individual        0.843546      0.156454\n",
       "Rwssp                     0.593516      0.406484\n",
       "World Vision              0.589080      0.410920\n",
       "Unicef                    0.589055      0.410945\n",
       "Danida                    0.570890      0.429110\n",
       "Tasaf                     0.559085      0.440915\n",
       "Kkkt                      0.559080      0.440920\n",
       "District Council          0.456929      0.543071\n",
       "Hesawa                    0.448524      0.551476\n",
       "World Bank                0.420168      0.579832\n",
       "Government Of Tanzania    0.419295      0.580705"
      ]
     },
     "execution_count": 61,
     "metadata": {},
     "output_type": "execute_result"
    },
    {
     "data": {
      "image/png": "[encoded data removed]",
      "text/plain": [
       "<Figure size 720x540 with 1 Axes>"
      ]
     },
     "metadata": {
      "needs_background": "light"
     },
     "output_type": "display_data"
    }
   ],
   "source": [
    "df_f = df_b[df_b['funder'].isin(top10funders)]\n",
    "funders = pd.crosstab(df_f.funder,df_f.status_group,normalize='index')\n",
    "funders.plot(kind='bar',figsize=(10,7.5),rot=45)\n",
    "funders.sort_values('functional',ascending=False)"
   ]
  },
  {
   "cell_type": "code",
   "execution_count": 62,
   "metadata": {},
   "outputs": [],
   "source": [
    "priv = df_b[df_b['funder'] == 'Private Individual']"
   ]
  },
  {
   "cell_type": "code",
   "execution_count": 63,
   "metadata": {},
   "outputs": [
    {
     "data": {
      "text/plain": [
       "(7.947, 13.2]    390\n",
       "(13.2, 18.4]     227\n",
       "(18.4, 23.6]     114\n",
       "(28.8, 34.0]       9\n",
       "(44.4, 49.6]       8\n",
       "(34.0, 39.2]       8\n",
       "(23.6, 28.8]       7\n",
       "(54.8, 60.0]       2\n",
       "(39.2, 44.4]       2\n",
       "(49.6, 54.8]       0\n",
       "Name: age, dtype: int64"
      ]
     },
     "execution_count": 63,
     "metadata": {},
     "output_type": "execute_result"
    }
   ],
   "source": [
    "priv.age.value_counts(bins=10) ##most privately funded waterpoints were built in the last 20 years"
   ]
  },
  {
   "cell_type": "code",
   "execution_count": 64,
   "metadata": {},
   "outputs": [
    {
     "data": {
      "text/plain": [
       "submersible     439\n",
       "gravity         192\n",
       "motorpump        48\n",
       "handpump         47\n",
       "other            34\n",
       "wind-powered      4\n",
       "rope pump         3\n",
       "Name: extraction_type_class, dtype: int64"
      ]
     },
     "execution_count": 64,
     "metadata": {},
     "output_type": "execute_result"
    }
   ],
   "source": [
    "priv.extraction_type_class.value_counts()"
   ]
  },
  {
   "cell_type": "code",
   "execution_count": 65,
   "metadata": {},
   "outputs": [
    {
     "data": {
      "text/plain": [
       "gravity         23170\n",
       "handpump        12920\n",
       "submersible      5083\n",
       "other            4542\n",
       "motorpump        2620\n",
       "rope pump         212\n",
       "wind-powered      104\n",
       "Name: extraction_type_class, dtype: int64"
      ]
     },
     "execution_count": 65,
     "metadata": {},
     "output_type": "execute_result"
    }
   ],
   "source": [
    "df_b.extraction_type_class.value_counts()"
   ]
  },
  {
   "cell_type": "markdown",
   "metadata": {},
   "source": [
    "#### Feature: Installer"
   ]
  },
  {
   "cell_type": "code",
   "execution_count": 66,
   "metadata": {},
   "outputs": [
    {
     "data": {
      "text/plain": [
       "DWE                    14670\n",
       "Government              1438\n",
       "Commu                   1059\n",
       "RWE                     1032\n",
       "KKKT                     885\n",
       "                       ...  \n",
       "SINGIDA  YETU              1\n",
       "Mwananchi Engineeri        1\n",
       "Rusumo Game reserve        1\n",
       "Ongan                      1\n",
       "Morovian Church            1\n",
       "Name: installer, Length: 1799, dtype: int64"
      ]
     },
     "execution_count": 66,
     "metadata": {},
     "output_type": "execute_result"
    }
   ],
   "source": [
    "df.installer.value_counts()"
   ]
  },
  {
   "cell_type": "code",
   "execution_count": 67,
   "metadata": {},
   "outputs": [
    {
     "data": {
      "text/plain": [
       "['DWE',\n",
       " 'Government',\n",
       " 'Commu',\n",
       " 'RWE',\n",
       " 'KKKT',\n",
       " 'DANIDA',\n",
       " 'TCRS',\n",
       " 'Central government',\n",
       " 'CES',\n",
       " 'Hesawa',\n",
       " 'DANID']"
      ]
     },
     "execution_count": 67,
     "metadata": {},
     "output_type": "execute_result"
    }
   ],
   "source": [
    "top10installers = df.installer.value_counts().index.tolist()[:11]\n",
    "top10installers"
   ]
  },
  {
   "cell_type": "code",
   "execution_count": 68,
   "metadata": {},
   "outputs": [
    {
     "data": {
      "text/html": [
       "<div>\n",
       "<style scoped>\n",
       "    .dataframe tbody tr th:only-of-type {\n",
       "        vertical-align: middle;\n",
       "    }\n",
       "\n",
       "    .dataframe tbody tr th {\n",
       "        vertical-align: top;\n",
       "    }\n",
       "\n",
       "    .dataframe thead th {\n",
       "        text-align: right;\n",
       "    }\n",
       "</style>\n",
       "<table border=\"1\" class=\"dataframe\">\n",
       "  <thead>\n",
       "    <tr style=\"text-align: right;\">\n",
       "      <th>status_group</th>\n",
       "      <th>functional</th>\n",
       "      <th>needs repair</th>\n",
       "    </tr>\n",
       "    <tr>\n",
       "      <th>installer</th>\n",
       "      <th></th>\n",
       "      <th></th>\n",
       "    </tr>\n",
       "  </thead>\n",
       "  <tbody>\n",
       "    <tr>\n",
       "      <td>CES</td>\n",
       "      <td>0.881967</td>\n",
       "      <td>0.118033</td>\n",
       "    </tr>\n",
       "    <tr>\n",
       "      <td>DANID</td>\n",
       "      <td>0.780797</td>\n",
       "      <td>0.219203</td>\n",
       "    </tr>\n",
       "    <tr>\n",
       "      <td>Commu</td>\n",
       "      <td>0.682720</td>\n",
       "      <td>0.317280</td>\n",
       "    </tr>\n",
       "    <tr>\n",
       "      <td>Hesawa</td>\n",
       "      <td>0.617857</td>\n",
       "      <td>0.382143</td>\n",
       "    </tr>\n",
       "    <tr>\n",
       "      <td>DANIDA</td>\n",
       "      <td>0.580720</td>\n",
       "      <td>0.419280</td>\n",
       "    </tr>\n",
       "    <tr>\n",
       "      <td>DWE</td>\n",
       "      <td>0.550511</td>\n",
       "      <td>0.449489</td>\n",
       "    </tr>\n",
       "    <tr>\n",
       "      <td>KKKT</td>\n",
       "      <td>0.466667</td>\n",
       "      <td>0.533333</td>\n",
       "    </tr>\n",
       "    <tr>\n",
       "      <td>TCRS</td>\n",
       "      <td>0.399701</td>\n",
       "      <td>0.600299</td>\n",
       "    </tr>\n",
       "    <tr>\n",
       "      <td>Government</td>\n",
       "      <td>0.276773</td>\n",
       "      <td>0.723227</td>\n",
       "    </tr>\n",
       "    <tr>\n",
       "      <td>Central government</td>\n",
       "      <td>0.262987</td>\n",
       "      <td>0.737013</td>\n",
       "    </tr>\n",
       "    <tr>\n",
       "      <td>RWE</td>\n",
       "      <td>0.233527</td>\n",
       "      <td>0.766473</td>\n",
       "    </tr>\n",
       "  </tbody>\n",
       "</table>\n",
       "</div>"
      ],
      "text/plain": [
       "status_group        functional  needs repair\n",
       "installer                                   \n",
       "CES                   0.881967      0.118033\n",
       "DANID                 0.780797      0.219203\n",
       "Commu                 0.682720      0.317280\n",
       "Hesawa                0.617857      0.382143\n",
       "DANIDA                0.580720      0.419280\n",
       "DWE                   0.550511      0.449489\n",
       "KKKT                  0.466667      0.533333\n",
       "TCRS                  0.399701      0.600299\n",
       "Government            0.276773      0.723227\n",
       "Central government    0.262987      0.737013\n",
       "RWE                   0.233527      0.766473"
      ]
     },
     "execution_count": 68,
     "metadata": {},
     "output_type": "execute_result"
    },
    {
     "data": {
      "image/png": "[encoded data removed]",
      "text/plain": [
       "<Figure size 720x540 with 1 Axes>"
      ]
     },
     "metadata": {
      "needs_background": "light"
     },
     "output_type": "display_data"
    }
   ],
   "source": [
    "df_i = df_b[df_b['installer'].isin(top10installers)]\n",
    "installers = pd.crosstab([df_i.installer],df_i.status_group,normalize='index')\n",
    "installers.plot(kind='bar',figsize=(10,7.5),rot=45)\n",
    "plt.savefig('images/allinstallers_status.png')\n",
    "installers.sort_values('functional',ascending=False)"
   ]
  },
  {
   "cell_type": "code",
   "execution_count": 69,
   "metadata": {},
   "outputs": [
    {
     "data": {
      "text/html": [
       "<div>\n",
       "<style scoped>\n",
       "    .dataframe tbody tr th:only-of-type {\n",
       "        vertical-align: middle;\n",
       "    }\n",
       "\n",
       "    .dataframe tbody tr th {\n",
       "        vertical-align: top;\n",
       "    }\n",
       "\n",
       "    .dataframe thead th {\n",
       "        text-align: right;\n",
       "    }\n",
       "</style>\n",
       "<table border=\"1\" class=\"dataframe\">\n",
       "  <thead>\n",
       "    <tr style=\"text-align: right;\">\n",
       "      <th>status_group</th>\n",
       "      <th>functional</th>\n",
       "      <th>needs repair</th>\n",
       "    </tr>\n",
       "    <tr>\n",
       "      <th>installer</th>\n",
       "      <th></th>\n",
       "      <th></th>\n",
       "    </tr>\n",
       "  </thead>\n",
       "  <tbody>\n",
       "    <tr>\n",
       "      <td>ACRA</td>\n",
       "      <td>0.978339</td>\n",
       "      <td>0.021661</td>\n",
       "    </tr>\n",
       "    <tr>\n",
       "      <td>Magadini-Makiwaru wa</td>\n",
       "      <td>0.977143</td>\n",
       "      <td>0.022857</td>\n",
       "    </tr>\n",
       "    <tr>\n",
       "      <td>Dmdd</td>\n",
       "      <td>0.964789</td>\n",
       "      <td>0.035211</td>\n",
       "    </tr>\n",
       "    <tr>\n",
       "      <td>Co</td>\n",
       "      <td>0.945455</td>\n",
       "      <td>0.054545</td>\n",
       "    </tr>\n",
       "    <tr>\n",
       "      <td>St</td>\n",
       "      <td>0.944444</td>\n",
       "      <td>0.055556</td>\n",
       "    </tr>\n",
       "    <tr>\n",
       "      <td>Oikos E .Africa</td>\n",
       "      <td>0.937500</td>\n",
       "      <td>0.062500</td>\n",
       "    </tr>\n",
       "    <tr>\n",
       "      <td>Lawatefuka water sup</td>\n",
       "      <td>0.933333</td>\n",
       "      <td>0.066667</td>\n",
       "    </tr>\n",
       "    <tr>\n",
       "      <td>DAWASCO</td>\n",
       "      <td>0.921875</td>\n",
       "      <td>0.078125</td>\n",
       "    </tr>\n",
       "    <tr>\n",
       "      <td>Losaa-Kia water supp</td>\n",
       "      <td>0.919355</td>\n",
       "      <td>0.080645</td>\n",
       "    </tr>\n",
       "    <tr>\n",
       "      <td>Pr</td>\n",
       "      <td>0.905660</td>\n",
       "      <td>0.094340</td>\n",
       "    </tr>\n",
       "    <tr>\n",
       "      <td>wanan</td>\n",
       "      <td>0.903846</td>\n",
       "      <td>0.096154</td>\n",
       "    </tr>\n",
       "  </tbody>\n",
       "</table>\n",
       "</div>"
      ],
      "text/plain": [
       "status_group          functional  needs repair\n",
       "installer                                     \n",
       "ACRA                    0.978339      0.021661\n",
       "Magadini-Makiwaru wa    0.977143      0.022857\n",
       "Dmdd                    0.964789      0.035211\n",
       "Co                      0.945455      0.054545\n",
       "St                      0.944444      0.055556\n",
       "Oikos E .Africa         0.937500      0.062500\n",
       "Lawatefuka water sup    0.933333      0.066667\n",
       "DAWASCO                 0.921875      0.078125\n",
       "Losaa-Kia water supp    0.919355      0.080645\n",
       "Pr                      0.905660      0.094340\n",
       "wanan                   0.903846      0.096154"
      ]
     },
     "execution_count": 69,
     "metadata": {},
     "output_type": "execute_result"
    },
    {
     "data": {
      "image/png": "[encoded data removed]",
      "text/plain": [
       "<Figure size 720x540 with 1 Axes>"
      ]
     },
     "metadata": {
      "needs_background": "light"
     },
     "output_type": "display_data"
    }
   ],
   "source": [
    "top100installers = df.installer.value_counts().index.tolist()[:135]\n",
    "df_i2 = df_b[df_b['installer'].isin(top100installers)]\n",
    "installers100 = pd.crosstab([df_i2.installer],df_i2.status_group,normalize='index')\n",
    "installers100 = installers100[installers100['functional'] > 0.90]\n",
    "installers100.plot(kind='bar',figsize=(10,7.5),rot=45)\n",
    "plt.savefig('images/topinstallers_status.png')\n",
    "installers100.sort_values('functional',ascending=False)"
   ]
  },
  {
   "cell_type": "code",
   "execution_count": 70,
   "metadata": {},
   "outputs": [],
   "source": [
    "installers90club = installers100.index.tolist()\n",
    "inst90clb = df_b[df_b['installer'].isin(installers90club)]"
   ]
  },
  {
   "cell_type": "code",
   "execution_count": 71,
   "metadata": {},
   "outputs": [
    {
     "data": {
      "text/plain": [
       "Dmdd                    284\n",
       "ACRA                    277\n",
       "Lawatefuka water sup    180\n",
       "Magadini-Makiwaru wa    175\n",
       "Oikos E .Africa          80\n",
       "DAWASCO                  64\n",
       "Losaa-Kia water supp     62\n",
       "Co                       55\n",
       "St                       54\n",
       "Pr                       53\n",
       "wanan                    52\n",
       "Name: installer, dtype: int64"
      ]
     },
     "execution_count": 71,
     "metadata": {},
     "output_type": "execute_result"
    }
   ],
   "source": [
    "inst90clb.installer.value_counts()"
   ]
  },
  {
   "cell_type": "code",
   "execution_count": 72,
   "metadata": {},
   "outputs": [
    {
     "data": {
      "text/plain": [
       "<matplotlib.axes._subplots.AxesSubplot at 0x1a2805b588>"
      ]
     },
     "execution_count": 72,
     "metadata": {},
     "output_type": "execute_result"
    },
    {
     "data": {
      "image/png": "[encoded data removed]",
      "text/plain": [
       "<Figure size 432x288 with 1 Axes>"
      ]
     },
     "metadata": {
      "needs_background": "light"
     },
     "output_type": "display_data"
    }
   ],
   "source": [
    "inst90clb.age.value_counts().plot(kind='bar')"
   ]
  },
  {
   "cell_type": "code",
   "execution_count": 73,
   "metadata": {},
   "outputs": [
    {
     "data": {
      "text/plain": [
       "<matplotlib.axes._subplots.AxesSubplot at 0x1a2719f0f0>"
      ]
     },
     "execution_count": 73,
     "metadata": {},
     "output_type": "execute_result"
    },
    {
     "data": {
      "image/png": "[encoded data removed]",
      "text/plain": [
       "<Figure size 432x288 with 1 Axes>"
      ]
     },
     "metadata": {
      "needs_background": "light"
     },
     "output_type": "display_data"
    }
   ],
   "source": [
    "inst90clb.extraction_type_class.value_counts().plot(kind='bar')"
   ]
  },
  {
   "cell_type": "code",
   "execution_count": 74,
   "metadata": {},
   "outputs": [
    {
     "data": {
      "text/plain": [
       "(<matplotlib.axes._subplots.AxesSubplot at 0x1a27901828>,)"
      ]
     },
     "execution_count": 74,
     "metadata": {},
     "output_type": "execute_result"
    },
    {
     "data": {
      "image/png": "[encoded data removed]",
      "text/plain": [
       "<Figure size 432x288 with 1 Axes>"
      ]
     },
     "metadata": {
      "needs_background": "light"
     },
     "output_type": "display_data"
    }
   ],
   "source": [
    "inst90clb.permit.value_counts().plot(kind='bar'),"
   ]
  },
  {
   "cell_type": "code",
   "execution_count": 75,
   "metadata": {},
   "outputs": [
    {
     "data": {
      "text/plain": [
       "(<matplotlib.axes._subplots.AxesSubplot at 0x1a295b58d0>,)"
      ]
     },
     "execution_count": 75,
     "metadata": {},
     "output_type": "execute_result"
    },
    {
     "data": {
      "image/png": "[encoded data removed]",
      "text/plain": [
       "<Figure size 432x288 with 1 Axes>"
      ]
     },
     "metadata": {
      "needs_background": "light"
     },
     "output_type": "display_data"
    }
   ],
   "source": [
    "inst90clb.basin.value_counts().plot(kind='bar'),"
   ]
  },
  {
   "cell_type": "code",
   "execution_count": 76,
   "metadata": {},
   "outputs": [
    {
     "data": {
      "text/plain": [
       "(<matplotlib.axes._subplots.AxesSubplot at 0x1a25988278>,)"
      ]
     },
     "execution_count": 76,
     "metadata": {},
     "output_type": "execute_result"
    },
    {
     "data": {
      "image/png": "[encoded data removed]",
      "text/plain": [
       "<Figure size 432x288 with 1 Axes>"
      ]
     },
     "metadata": {
      "needs_background": "light"
     },
     "output_type": "display_data"
    }
   ],
   "source": [
    "inst90clb.water_quality.value_counts().plot(kind='bar'), #NOTE: the most effective installers may be most effective because of the water quality"
   ]
  },
  {
   "cell_type": "code",
   "execution_count": 77,
   "metadata": {},
   "outputs": [
    {
     "data": {
      "text/plain": [
       "<matplotlib.axes._subplots.AxesSubplot at 0x1a290d4630>"
      ]
     },
     "execution_count": 77,
     "metadata": {},
     "output_type": "execute_result"
    },
    {
     "data": {
      "image/png": "[encoded data removed]",
      "text/plain": [
       "<Figure size 432x288 with 1 Axes>"
      ]
     },
     "metadata": {
      "needs_background": "light"
     },
     "output_type": "display_data"
    }
   ],
   "source": [
    "inst90clb.waterpoint_type.value_counts().plot(kind='bar')"
   ]
  },
  {
   "cell_type": "code",
   "execution_count": 78,
   "metadata": {},
   "outputs": [
    {
     "data": {
      "text/plain": [
       "<matplotlib.axes._subplots.AxesSubplot at 0x1a290cec88>"
      ]
     },
     "execution_count": 78,
     "metadata": {},
     "output_type": "execute_result"
    },
    {
     "data": {
      "image/png": "[encoded data removed]",
      "text/plain": [
       "<Figure size 432x288 with 1 Axes>"
      ]
     },
     "metadata": {
      "needs_background": "light"
     },
     "output_type": "display_data"
    }
   ],
   "source": [
    "inst90clb.public_meeting.value_counts().plot(kind='bar')"
   ]
  },
  {
   "cell_type": "code",
   "execution_count": 79,
   "metadata": {},
   "outputs": [
    {
     "data": {
      "text/plain": [
       "<matplotlib.axes._subplots.AxesSubplot at 0x1a29090f60>"
      ]
     },
     "execution_count": 79,
     "metadata": {},
     "output_type": "execute_result"
    },
    {
     "data": {
      "image/png": "[encoded data removed]",
      "text/plain": [
       "<Figure size 432x288 with 1 Axes>"
      ]
     },
     "metadata": {
      "needs_background": "light"
     },
     "output_type": "display_data"
    }
   ],
   "source": [
    "inst90clb.source_class.value_counts().plot(kind='bar')"
   ]
  },
  {
   "cell_type": "code",
   "execution_count": 80,
   "metadata": {},
   "outputs": [
    {
     "data": {
      "text/plain": [
       "135.23877245508982"
      ]
     },
     "execution_count": 80,
     "metadata": {},
     "output_type": "execute_result"
    }
   ],
   "source": [
    "inst90clb.population.mean()"
   ]
  },
  {
   "cell_type": "markdown",
   "metadata": {},
   "source": [
    "Analysis: waterpoints with **soft water**,**groundwater or surface**, **permitted**,at a **communal standpipe** functioning with **gravity** are 90% operational when installed by the inst90clb"
   ]
  },
  {
   "cell_type": "code",
   "execution_count": null,
   "metadata": {},
   "outputs": [],
   "source": []
  },
  {
   "cell_type": "code",
   "execution_count": 81,
   "metadata": {},
   "outputs": [
    {
     "data": {
      "text/html": [
       "<div>\n",
       "<style scoped>\n",
       "    .dataframe tbody tr th:only-of-type {\n",
       "        vertical-align: middle;\n",
       "    }\n",
       "\n",
       "    .dataframe tbody tr th {\n",
       "        vertical-align: top;\n",
       "    }\n",
       "\n",
       "    .dataframe thead th {\n",
       "        text-align: right;\n",
       "    }\n",
       "</style>\n",
       "<table border=\"1\" class=\"dataframe\">\n",
       "  <thead>\n",
       "    <tr style=\"text-align: right;\">\n",
       "      <th>status_group</th>\n",
       "      <th>functional</th>\n",
       "      <th>needs repair</th>\n",
       "    </tr>\n",
       "    <tr>\n",
       "      <th>installer</th>\n",
       "      <th></th>\n",
       "      <th></th>\n",
       "    </tr>\n",
       "  </thead>\n",
       "  <tbody>\n",
       "    <tr>\n",
       "      <td>District council</td>\n",
       "      <td>0.240933</td>\n",
       "      <td>0.759067</td>\n",
       "    </tr>\n",
       "    <tr>\n",
       "      <td>RWE</td>\n",
       "      <td>0.233527</td>\n",
       "      <td>0.766473</td>\n",
       "    </tr>\n",
       "    <tr>\n",
       "      <td>GOVER</td>\n",
       "      <td>0.232000</td>\n",
       "      <td>0.768000</td>\n",
       "    </tr>\n",
       "    <tr>\n",
       "      <td>DA</td>\n",
       "      <td>0.226190</td>\n",
       "      <td>0.773810</td>\n",
       "    </tr>\n",
       "    <tr>\n",
       "      <td>Finwater</td>\n",
       "      <td>0.206897</td>\n",
       "      <td>0.793103</td>\n",
       "    </tr>\n",
       "    <tr>\n",
       "      <td>Halmashauri ya wilaya sikonge</td>\n",
       "      <td>0.204082</td>\n",
       "      <td>0.795918</td>\n",
       "    </tr>\n",
       "    <tr>\n",
       "      <td>Adra/Community</td>\n",
       "      <td>0.200000</td>\n",
       "      <td>0.800000</td>\n",
       "    </tr>\n",
       "    <tr>\n",
       "      <td>Water board</td>\n",
       "      <td>0.185185</td>\n",
       "      <td>0.814815</td>\n",
       "    </tr>\n",
       "    <tr>\n",
       "      <td>FinW</td>\n",
       "      <td>0.182692</td>\n",
       "      <td>0.817308</td>\n",
       "    </tr>\n",
       "    <tr>\n",
       "      <td>Central govt</td>\n",
       "      <td>0.178295</td>\n",
       "      <td>0.821705</td>\n",
       "    </tr>\n",
       "    <tr>\n",
       "      <td>FIN WATER</td>\n",
       "      <td>0.172414</td>\n",
       "      <td>0.827586</td>\n",
       "    </tr>\n",
       "    <tr>\n",
       "      <td>MTN</td>\n",
       "      <td>0.160000</td>\n",
       "      <td>0.840000</td>\n",
       "    </tr>\n",
       "    <tr>\n",
       "      <td>RDC</td>\n",
       "      <td>0.145455</td>\n",
       "      <td>0.854545</td>\n",
       "    </tr>\n",
       "    <tr>\n",
       "      <td>Centr</td>\n",
       "      <td>0.129630</td>\n",
       "      <td>0.870370</td>\n",
       "    </tr>\n",
       "    <tr>\n",
       "      <td>FINI WATER</td>\n",
       "      <td>0.127451</td>\n",
       "      <td>0.872549</td>\n",
       "    </tr>\n",
       "    <tr>\n",
       "      <td>District water department</td>\n",
       "      <td>0.121212</td>\n",
       "      <td>0.878788</td>\n",
       "    </tr>\n",
       "    <tr>\n",
       "      <td>District Water Department</td>\n",
       "      <td>0.116883</td>\n",
       "      <td>0.883117</td>\n",
       "    </tr>\n",
       "    <tr>\n",
       "      <td>RWE/DWE</td>\n",
       "      <td>0.096154</td>\n",
       "      <td>0.903846</td>\n",
       "    </tr>\n",
       "    <tr>\n",
       "      <td>FW</td>\n",
       "      <td>0.078788</td>\n",
       "      <td>0.921212</td>\n",
       "    </tr>\n",
       "    <tr>\n",
       "      <td>Fini Water</td>\n",
       "      <td>0.035714</td>\n",
       "      <td>0.964286</td>\n",
       "    </tr>\n",
       "    <tr>\n",
       "      <td>Region water Department</td>\n",
       "      <td>0.012987</td>\n",
       "      <td>0.987013</td>\n",
       "    </tr>\n",
       "  </tbody>\n",
       "</table>\n",
       "</div>"
      ],
      "text/plain": [
       "status_group                   functional  needs repair\n",
       "installer                                              \n",
       "District council                 0.240933      0.759067\n",
       "RWE                              0.233527      0.766473\n",
       "GOVER                            0.232000      0.768000\n",
       "DA                               0.226190      0.773810\n",
       "Finwater                         0.206897      0.793103\n",
       "Halmashauri ya wilaya sikonge    0.204082      0.795918\n",
       "Adra/Community                   0.200000      0.800000\n",
       "Water board                      0.185185      0.814815\n",
       "FinW                             0.182692      0.817308\n",
       "Central govt                     0.178295      0.821705\n",
       "FIN WATER                        0.172414      0.827586\n",
       "MTN                              0.160000      0.840000\n",
       "RDC                              0.145455      0.854545\n",
       "Centr                            0.129630      0.870370\n",
       "FINI WATER                       0.127451      0.872549\n",
       "District water department        0.121212      0.878788\n",
       "District Water Department        0.116883      0.883117\n",
       "RWE/DWE                          0.096154      0.903846\n",
       "FW                               0.078788      0.921212\n",
       "Fini Water                       0.035714      0.964286\n",
       "Region water Department          0.012987      0.987013"
      ]
     },
     "execution_count": 81,
     "metadata": {},
     "output_type": "execute_result"
    },
    {
     "data": {
      "image/png": "[encoded data removed]",
      "text/plain": [
       "<Figure size 720x540 with 1 Axes>"
      ]
     },
     "metadata": {
      "needs_background": "light"
     },
     "output_type": "display_data"
    }
   ],
   "source": [
    "atleast50 = df.installer.value_counts().index.tolist()[:135]\n",
    "df_i3 = df_b[df_b['installer'].isin(atleast50)]\n",
    "bottominst = pd.crosstab([df_i3.installer],df_i2.status_group,normalize='index')\n",
    "bottominst = bottominst[bottominst['functional'] < 0.25]\n",
    "bottominst.plot(kind='bar',figsize=(10,7.5),rot=45)\n",
    "bottominst.sort_values('functional',ascending=False)"
   ]
  },
  {
   "cell_type": "code",
   "execution_count": 82,
   "metadata": {},
   "outputs": [],
   "source": [
    "installers25club = bottominst.index.tolist()\n",
    "inst25clb = df_b[df_b['installer'].isin(installers25club)]"
   ]
  },
  {
   "cell_type": "code",
   "execution_count": 83,
   "metadata": {},
   "outputs": [
    {
     "data": {
      "text/plain": [
       "33.76490577695397"
      ]
     },
     "execution_count": 83,
     "metadata": {},
     "output_type": "execute_result"
    }
   ],
   "source": [
    "inst25clb.age.mean()"
   ]
  },
  {
   "cell_type": "code",
   "execution_count": 84,
   "metadata": {},
   "outputs": [
    {
     "data": {
      "text/plain": [
       "<matplotlib.axes._subplots.AxesSubplot at 0x1a29caa9e8>"
      ]
     },
     "execution_count": 84,
     "metadata": {},
     "output_type": "execute_result"
    },
    {
     "data": {
      "image/png": "[encoded data removed]",
      "text/plain": [
       "<Figure size 432x288 with 1 Axes>"
      ]
     },
     "metadata": {
      "needs_background": "light"
     },
     "output_type": "display_data"
    }
   ],
   "source": [
    "inst25clb.extraction_type_class.value_counts().plot(kind='bar')"
   ]
  },
  {
   "cell_type": "code",
   "execution_count": 85,
   "metadata": {},
   "outputs": [
    {
     "data": {
      "text/plain": [
       "<matplotlib.axes._subplots.AxesSubplot at 0x1a29bdfcf8>"
      ]
     },
     "execution_count": 85,
     "metadata": {},
     "output_type": "execute_result"
    },
    {
     "data": {
      "image/png": "[encoded data removed]",
      "text/plain": [
       "<Figure size 432x288 with 1 Axes>"
      ]
     },
     "metadata": {
      "needs_background": "light"
     },
     "output_type": "display_data"
    }
   ],
   "source": [
    "inst25clb.permit.value_counts().plot(kind='bar')"
   ]
  },
  {
   "cell_type": "code",
   "execution_count": 86,
   "metadata": {},
   "outputs": [
    {
     "data": {
      "text/plain": [
       "<matplotlib.axes._subplots.AxesSubplot at 0x1a29c72f28>"
      ]
     },
     "execution_count": 86,
     "metadata": {},
     "output_type": "execute_result"
    },
    {
     "data": {
      "image/png": "[encoded data removed]",
      "text/plain": [
       "<Figure size 432x288 with 1 Axes>"
      ]
     },
     "metadata": {
      "needs_background": "light"
     },
     "output_type": "display_data"
    }
   ],
   "source": [
    "inst25clb.basin.value_counts().plot(kind='bar')"
   ]
  },
  {
   "cell_type": "code",
   "execution_count": 87,
   "metadata": {},
   "outputs": [
    {
     "data": {
      "text/plain": [
       "<matplotlib.axes._subplots.AxesSubplot at 0x1a25763d68>"
      ]
     },
     "execution_count": 87,
     "metadata": {},
     "output_type": "execute_result"
    },
    {
     "data": {
      "image/png": "[encoded data removed]",
      "text/plain": [
       "<Figure size 432x288 with 1 Axes>"
      ]
     },
     "metadata": {
      "needs_background": "light"
     },
     "output_type": "display_data"
    }
   ],
   "source": [
    "inst25clb.water_quality.value_counts().plot(kind='bar')"
   ]
  },
  {
   "cell_type": "code",
   "execution_count": 88,
   "metadata": {},
   "outputs": [
    {
     "data": {
      "text/plain": [
       "<matplotlib.axes._subplots.AxesSubplot at 0x1a277542e8>"
      ]
     },
     "execution_count": 88,
     "metadata": {},
     "output_type": "execute_result"
    },
    {
     "data": {
      "image/png": "[encoded data removed]",
      "text/plain": [
       "<Figure size 432x288 with 1 Axes>"
      ]
     },
     "metadata": {
      "needs_background": "light"
     },
     "output_type": "display_data"
    }
   ],
   "source": [
    "inst25clb.waterpoint_type.value_counts().plot(kind='bar')"
   ]
  },
  {
   "cell_type": "code",
   "execution_count": 89,
   "metadata": {},
   "outputs": [
    {
     "data": {
      "text/plain": [
       "<matplotlib.axes._subplots.AxesSubplot at 0x1a2805b4a8>"
      ]
     },
     "execution_count": 89,
     "metadata": {},
     "output_type": "execute_result"
    },
    {
     "data": {
      "image/png": "[encoded data removed]",
      "text/plain": [
       "<Figure size 432x288 with 1 Axes>"
      ]
     },
     "metadata": {
      "needs_background": "light"
     },
     "output_type": "display_data"
    }
   ],
   "source": [
    "inst25clb.public_meeting.value_counts().plot(kind='bar')"
   ]
  },
  {
   "cell_type": "code",
   "execution_count": 90,
   "metadata": {},
   "outputs": [
    {
     "data": {
      "text/plain": [
       "<matplotlib.axes._subplots.AxesSubplot at 0x1a29929550>"
      ]
     },
     "execution_count": 90,
     "metadata": {},
     "output_type": "execute_result"
    },
    {
     "data": {
      "image/png": "[encoded data removed]",
      "text/plain": [
       "<Figure size 432x288 with 1 Axes>"
      ]
     },
     "metadata": {
      "needs_background": "light"
     },
     "output_type": "display_data"
    }
   ],
   "source": [
    "inst25clb.source_class.value_counts().plot(kind='bar')"
   ]
  },
  {
   "cell_type": "code",
   "execution_count": 95,
   "metadata": {},
   "outputs": [
    {
     "ename": "AttributeError",
     "evalue": "'DataFrame' object has no attribute 'value_counts'",
     "output_type": "error",
     "traceback": [
      "\u001b[0;31m---------------------------------------------------------------------------\u001b[0m",
      "\u001b[0;31mAttributeError\u001b[0m                            Traceback (most recent call last)",
      "\u001b[0;32m<ipython-input-95-2c3a65f7c9d5>\u001b[0m in \u001b[0;36m<module>\u001b[0;34m\u001b[0m\n\u001b[0;32m----> 1\u001b[0;31m \u001b[0minst25clb\u001b[0m\u001b[0;34m.\u001b[0m\u001b[0mvalue_counts\u001b[0m\u001b[0;34m(\u001b[0m\u001b[0;34m)\u001b[0m\u001b[0;34m.\u001b[0m\u001b[0mplot\u001b[0m\u001b[0;34m(\u001b[0m\u001b[0mkind\u001b[0m\u001b[0;34m=\u001b[0m\u001b[0;34m'bar'\u001b[0m\u001b[0;34m)\u001b[0m\u001b[0;34m\u001b[0m\u001b[0;34m\u001b[0m\u001b[0m\n\u001b[0m",
      "\u001b[0;32m~/opt/miniconda3/envs/learn-env/lib/python3.6/site-packages/pandas/core/generic.py\u001b[0m in \u001b[0;36m__getattr__\u001b[0;34m(self, name)\u001b[0m\n\u001b[1;32m   5177\u001b[0m             \u001b[0;32mif\u001b[0m \u001b[0mself\u001b[0m\u001b[0;34m.\u001b[0m\u001b[0m_info_axis\u001b[0m\u001b[0;34m.\u001b[0m\u001b[0m_can_hold_identifiers_and_holds_name\u001b[0m\u001b[0;34m(\u001b[0m\u001b[0mname\u001b[0m\u001b[0;34m)\u001b[0m\u001b[0;34m:\u001b[0m\u001b[0;34m\u001b[0m\u001b[0;34m\u001b[0m\u001b[0m\n\u001b[1;32m   5178\u001b[0m                 \u001b[0;32mreturn\u001b[0m \u001b[0mself\u001b[0m\u001b[0;34m[\u001b[0m\u001b[0mname\u001b[0m\u001b[0;34m]\u001b[0m\u001b[0;34m\u001b[0m\u001b[0;34m\u001b[0m\u001b[0m\n\u001b[0;32m-> 5179\u001b[0;31m             \u001b[0;32mreturn\u001b[0m \u001b[0mobject\u001b[0m\u001b[0;34m.\u001b[0m\u001b[0m__getattribute__\u001b[0m\u001b[0;34m(\u001b[0m\u001b[0mself\u001b[0m\u001b[0;34m,\u001b[0m \u001b[0mname\u001b[0m\u001b[0;34m)\u001b[0m\u001b[0;34m\u001b[0m\u001b[0;34m\u001b[0m\u001b[0m\n\u001b[0m\u001b[1;32m   5180\u001b[0m \u001b[0;34m\u001b[0m\u001b[0m\n\u001b[1;32m   5181\u001b[0m     \u001b[0;32mdef\u001b[0m \u001b[0m__setattr__\u001b[0m\u001b[0;34m(\u001b[0m\u001b[0mself\u001b[0m\u001b[0;34m,\u001b[0m \u001b[0mname\u001b[0m\u001b[0;34m,\u001b[0m \u001b[0mvalue\u001b[0m\u001b[0;34m)\u001b[0m\u001b[0;34m:\u001b[0m\u001b[0;34m\u001b[0m\u001b[0;34m\u001b[0m\u001b[0m\n",
      "\u001b[0;31mAttributeError\u001b[0m: 'DataFrame' object has no attribute 'value_counts'"
     ]
    }
   ],
   "source": [
    "inst25clb.value_counts().plot(kind='bar')"
   ]
  },
  {
   "cell_type": "code",
   "execution_count": null,
   "metadata": {},
   "outputs": [],
   "source": [
    "inst25clb.population.mean()#.plot(kind='bar')"
   ]
  },
  {
   "cell_type": "code",
   "execution_count": null,
   "metadata": {},
   "outputs": [],
   "source": [
    "inst25clb.public_meeting.value_counts().plot(kind='bar')"
   ]
  }
 ],
 "metadata": {
  "kernelspec": {
   "display_name": "Python 3",
   "language": "python",
   "name": "python3"
  },
  "language_info": {
   "codemirror_mode": {
    "name": "ipython",
    "version": 3
   },
   "file_extension": ".py",
   "mimetype": "text/x-python",
   "name": "python",
   "nbconvert_exporter": "python",
   "pygments_lexer": "ipython3",
   "version": "3.6.9"
  }
 },
 "nbformat": 4,
 "nbformat_minor": 4
}
