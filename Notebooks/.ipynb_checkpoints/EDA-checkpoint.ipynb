{
 "cells": [
  {
   "cell_type": "code",
   "execution_count": 1,
   "metadata": {},
   "outputs": [],
   "source": [
    "import numpy as np\n",
    "import pandas as pd\n",
    "import matplotlib.pyplot as plt\n",
    "import seaborn as sns\n",
    "import geopandas\n",
    "from ipyleaflet import Map, Marker, basemaps, basemap_to_tiles,Heatmap, LayersControl\n",
    "from random import uniform"
   ]
  },
  {
   "cell_type": "code",
   "execution_count": 2,
   "metadata": {},
   "outputs": [
    {
     "name": "stdout",
     "output_type": "stream",
     "text": [
      "/Users/alphonsowoodbury/DS/Projects/aw_flatiron_group_projects/Module3_Project\n"
     ]
    }
   ],
   "source": [
    "cd .."
   ]
  },
  {
   "cell_type": "code",
   "execution_count": 445,
   "metadata": {},
   "outputs": [],
   "source": [
    "df = pd.read_csv('data/cleaned_water.csv',index_col=0)\n",
    "\n",
    "df_b = df.copy()\n",
    "df_b['status_group'] = df_b['status_group'].replace(to_replace =[\"functional needs repair\", \"non functional\"],value =\"needs repair\")\n",
    "df.amount_tsh = df.amount_tsh.astype('int64')\n",
    "df_b.amount_tsh = df_b.amount_tsh.astype('int64')"
   ]
  },
  {
   "cell_type": "markdown",
   "metadata": {},
   "source": [
    "---"
   ]
  },
  {
   "cell_type": "markdown",
   "metadata": {},
   "source": [
    "## Target\n",
    "\n",
    "Status Group"
   ]
  },
  {
   "cell_type": "code",
   "execution_count": 423,
   "metadata": {},
   "outputs": [
    {
     "data": {
      "text/plain": [
       "<matplotlib.axes._subplots.AxesSubplot at 0x1a3a18e5f8>"
      ]
     },
     "execution_count": 423,
     "metadata": {},
     "output_type": "execute_result"
    },
    {
     "data": {
      "image/png": "[encoded data removed]",
      "text/plain": [
       "<Figure size 432x288 with 1 Axes>"
      ]
     },
     "metadata": {
      "needs_background": "light"
     },
     "output_type": "display_data"
    }
   ],
   "source": [
    "df.status_group.value_counts().plot(kind='bar',fontsize=15) #can this be a boxplot? #this is unbalanced"
   ]
  },
  {
   "cell_type": "code",
   "execution_count": 10,
   "metadata": {},
   "outputs": [
    {
     "data": {
      "text/plain": [
       "<matplotlib.axes._subplots.AxesSubplot at 0x1a1e93d0b8>"
      ]
     },
     "execution_count": 10,
     "metadata": {},
     "output_type": "execute_result"
    },
    {
     "data": {
      "image/png": "[encoded data removed]",
      "text/plain": [
       "<Figure size 432x288 with 1 Axes>"
      ]
     },
     "metadata": {
      "needs_background": "light"
     },
     "output_type": "display_data"
    }
   ],
   "source": [
    "df_b.status_group.value_counts().plot(kind='bar',fontsize=15) #can this be a boxplot? #this is unbalanced"
   ]
  },
  {
   "cell_type": "markdown",
   "metadata": {},
   "source": [
    "# Outliers: geographic?"
   ]
  },
  {
   "cell_type": "code",
   "execution_count": 424,
   "metadata": {},
   "outputs": [
    {
     "data": {
      "text/html": [
       "<div>\n",
       "<style scoped>\n",
       "    .dataframe tbody tr th:only-of-type {\n",
       "        vertical-align: middle;\n",
       "    }\n",
       "\n",
       "    .dataframe tbody tr th {\n",
       "        vertical-align: top;\n",
       "    }\n",
       "\n",
       "    .dataframe thead th {\n",
       "        text-align: right;\n",
       "    }\n",
       "</style>\n",
       "<table border=\"1\" class=\"dataframe\">\n",
       "  <thead>\n",
       "    <tr style=\"text-align: right;\">\n",
       "      <th></th>\n",
       "      <th>status_group</th>\n",
       "      <th>amount_tsh</th>\n",
       "      <th>funder</th>\n",
       "      <th>gps_height</th>\n",
       "      <th>installer</th>\n",
       "      <th>longitude</th>\n",
       "      <th>latitude</th>\n",
       "      <th>basin</th>\n",
       "      <th>subvillage</th>\n",
       "      <th>region</th>\n",
       "      <th>...</th>\n",
       "      <th>permit</th>\n",
       "      <th>extraction_type_class</th>\n",
       "      <th>management</th>\n",
       "      <th>payment_type</th>\n",
       "      <th>water_quality</th>\n",
       "      <th>quantity</th>\n",
       "      <th>source</th>\n",
       "      <th>source_class</th>\n",
       "      <th>waterpoint_type</th>\n",
       "      <th>age</th>\n",
       "    </tr>\n",
       "  </thead>\n",
       "  <tbody>\n",
       "    <tr>\n",
       "      <td>53</td>\n",
       "      <td>needs repair</td>\n",
       "      <td>0</td>\n",
       "      <td>Government Of Tanzania</td>\n",
       "      <td>0</td>\n",
       "      <td>Government</td>\n",
       "      <td>0.0</td>\n",
       "      <td>-2.000000e-08</td>\n",
       "      <td>Lake Victoria</td>\n",
       "      <td>Center</td>\n",
       "      <td>Mwanza</td>\n",
       "      <td>...</td>\n",
       "      <td>True</td>\n",
       "      <td>submersible</td>\n",
       "      <td>vwc</td>\n",
       "      <td>unknown</td>\n",
       "      <td>unknown</td>\n",
       "      <td>dry</td>\n",
       "      <td>machine dbh</td>\n",
       "      <td>groundwater</td>\n",
       "      <td>communal standpipe multiple</td>\n",
       "      <td>23</td>\n",
       "    </tr>\n",
       "    <tr>\n",
       "      <td>168</td>\n",
       "      <td>functional</td>\n",
       "      <td>0</td>\n",
       "      <td>Wvt</td>\n",
       "      <td>0</td>\n",
       "      <td>WVT</td>\n",
       "      <td>0.0</td>\n",
       "      <td>-2.000000e-08</td>\n",
       "      <td>Lake Victoria</td>\n",
       "      <td>Ilula</td>\n",
       "      <td>Shinyanga</td>\n",
       "      <td>...</td>\n",
       "      <td>False</td>\n",
       "      <td>gravity</td>\n",
       "      <td>parastatal</td>\n",
       "      <td>other</td>\n",
       "      <td>soft</td>\n",
       "      <td>seasonal</td>\n",
       "      <td>rainwater harvesting</td>\n",
       "      <td>surface</td>\n",
       "      <td>communal standpipe</td>\n",
       "      <td>23</td>\n",
       "    </tr>\n",
       "    <tr>\n",
       "      <td>256</td>\n",
       "      <td>needs repair</td>\n",
       "      <td>0</td>\n",
       "      <td>Hesawa</td>\n",
       "      <td>0</td>\n",
       "      <td>DWE</td>\n",
       "      <td>0.0</td>\n",
       "      <td>-2.000000e-08</td>\n",
       "      <td>Lake Victoria</td>\n",
       "      <td>Ujamaa</td>\n",
       "      <td>Mwanza</td>\n",
       "      <td>...</td>\n",
       "      <td>True</td>\n",
       "      <td>handpump</td>\n",
       "      <td>vwc</td>\n",
       "      <td>never pay</td>\n",
       "      <td>unknown</td>\n",
       "      <td>dry</td>\n",
       "      <td>machine dbh</td>\n",
       "      <td>groundwater</td>\n",
       "      <td>hand pump</td>\n",
       "      <td>23</td>\n",
       "    </tr>\n",
       "    <tr>\n",
       "      <td>301</td>\n",
       "      <td>functional</td>\n",
       "      <td>0</td>\n",
       "      <td>Government Of Tanzania</td>\n",
       "      <td>0</td>\n",
       "      <td>Government</td>\n",
       "      <td>0.0</td>\n",
       "      <td>-2.000000e-08</td>\n",
       "      <td>Lake Victoria</td>\n",
       "      <td>Nyanza</td>\n",
       "      <td>Mwanza</td>\n",
       "      <td>...</td>\n",
       "      <td>True</td>\n",
       "      <td>handpump</td>\n",
       "      <td>vwc</td>\n",
       "      <td>never pay</td>\n",
       "      <td>soft</td>\n",
       "      <td>insufficient</td>\n",
       "      <td>machine dbh</td>\n",
       "      <td>groundwater</td>\n",
       "      <td>hand pump</td>\n",
       "      <td>23</td>\n",
       "    </tr>\n",
       "    <tr>\n",
       "      <td>306</td>\n",
       "      <td>functional</td>\n",
       "      <td>0</td>\n",
       "      <td>Plan International</td>\n",
       "      <td>0</td>\n",
       "      <td>Plan Internationa</td>\n",
       "      <td>0.0</td>\n",
       "      <td>-2.000000e-08</td>\n",
       "      <td>Lake Victoria</td>\n",
       "      <td>Mwabasabi</td>\n",
       "      <td>Mwanza</td>\n",
       "      <td>...</td>\n",
       "      <td>True</td>\n",
       "      <td>handpump</td>\n",
       "      <td>vwc</td>\n",
       "      <td>never pay</td>\n",
       "      <td>soft</td>\n",
       "      <td>insufficient</td>\n",
       "      <td>machine dbh</td>\n",
       "      <td>groundwater</td>\n",
       "      <td>hand pump</td>\n",
       "      <td>23</td>\n",
       "    </tr>\n",
       "    <tr>\n",
       "      <td>...</td>\n",
       "      <td>...</td>\n",
       "      <td>...</td>\n",
       "      <td>...</td>\n",
       "      <td>...</td>\n",
       "      <td>...</td>\n",
       "      <td>...</td>\n",
       "      <td>...</td>\n",
       "      <td>...</td>\n",
       "      <td>...</td>\n",
       "      <td>...</td>\n",
       "      <td>...</td>\n",
       "      <td>...</td>\n",
       "      <td>...</td>\n",
       "      <td>...</td>\n",
       "      <td>...</td>\n",
       "      <td>...</td>\n",
       "      <td>...</td>\n",
       "      <td>...</td>\n",
       "      <td>...</td>\n",
       "      <td>...</td>\n",
       "      <td>...</td>\n",
       "    </tr>\n",
       "    <tr>\n",
       "      <td>59135</td>\n",
       "      <td>functional</td>\n",
       "      <td>0</td>\n",
       "      <td>Hesawa</td>\n",
       "      <td>0</td>\n",
       "      <td>Hesawa</td>\n",
       "      <td>0.0</td>\n",
       "      <td>-2.000000e-08</td>\n",
       "      <td>Lake Victoria</td>\n",
       "      <td>Kagondo</td>\n",
       "      <td>Mwanza</td>\n",
       "      <td>...</td>\n",
       "      <td>True</td>\n",
       "      <td>handpump</td>\n",
       "      <td>vwc</td>\n",
       "      <td>never pay</td>\n",
       "      <td>soft</td>\n",
       "      <td>enough</td>\n",
       "      <td>shallow well</td>\n",
       "      <td>groundwater</td>\n",
       "      <td>hand pump</td>\n",
       "      <td>23</td>\n",
       "    </tr>\n",
       "    <tr>\n",
       "      <td>59158</td>\n",
       "      <td>functional</td>\n",
       "      <td>0</td>\n",
       "      <td>Wsdp</td>\n",
       "      <td>0</td>\n",
       "      <td>DWE</td>\n",
       "      <td>0.0</td>\n",
       "      <td>-2.000000e-08</td>\n",
       "      <td>Lake Victoria</td>\n",
       "      <td>Mwamanumbu</td>\n",
       "      <td>Shinyanga</td>\n",
       "      <td>...</td>\n",
       "      <td>False</td>\n",
       "      <td>handpump</td>\n",
       "      <td>wug</td>\n",
       "      <td>never pay</td>\n",
       "      <td>soft</td>\n",
       "      <td>enough</td>\n",
       "      <td>shallow well</td>\n",
       "      <td>groundwater</td>\n",
       "      <td>hand pump</td>\n",
       "      <td>23</td>\n",
       "    </tr>\n",
       "    <tr>\n",
       "      <td>59189</td>\n",
       "      <td>needs repair</td>\n",
       "      <td>0</td>\n",
       "      <td>Dwsp</td>\n",
       "      <td>0</td>\n",
       "      <td>DWE</td>\n",
       "      <td>0.0</td>\n",
       "      <td>-2.000000e-08</td>\n",
       "      <td>Lake Victoria</td>\n",
       "      <td>Mwamabuli</td>\n",
       "      <td>Shinyanga</td>\n",
       "      <td>...</td>\n",
       "      <td>False</td>\n",
       "      <td>handpump</td>\n",
       "      <td>wug</td>\n",
       "      <td>other</td>\n",
       "      <td>soft</td>\n",
       "      <td>enough</td>\n",
       "      <td>shallow well</td>\n",
       "      <td>groundwater</td>\n",
       "      <td>hand pump</td>\n",
       "      <td>23</td>\n",
       "    </tr>\n",
       "    <tr>\n",
       "      <td>59295</td>\n",
       "      <td>needs repair</td>\n",
       "      <td>0</td>\n",
       "      <td>Rwssp</td>\n",
       "      <td>0</td>\n",
       "      <td>DWE</td>\n",
       "      <td>0.0</td>\n",
       "      <td>-2.000000e-08</td>\n",
       "      <td>Lake Victoria</td>\n",
       "      <td>Mwamalizi</td>\n",
       "      <td>Shinyanga</td>\n",
       "      <td>...</td>\n",
       "      <td>False</td>\n",
       "      <td>handpump</td>\n",
       "      <td>wug</td>\n",
       "      <td>never pay</td>\n",
       "      <td>soft</td>\n",
       "      <td>enough</td>\n",
       "      <td>shallow well</td>\n",
       "      <td>groundwater</td>\n",
       "      <td>hand pump</td>\n",
       "      <td>23</td>\n",
       "    </tr>\n",
       "    <tr>\n",
       "      <td>59374</td>\n",
       "      <td>functional</td>\n",
       "      <td>0</td>\n",
       "      <td>Rwssp</td>\n",
       "      <td>0</td>\n",
       "      <td>DWE</td>\n",
       "      <td>0.0</td>\n",
       "      <td>-2.000000e-08</td>\n",
       "      <td>Lake Victoria</td>\n",
       "      <td>Mwamtani A</td>\n",
       "      <td>Shinyanga</td>\n",
       "      <td>...</td>\n",
       "      <td>False</td>\n",
       "      <td>handpump</td>\n",
       "      <td>wug</td>\n",
       "      <td>other</td>\n",
       "      <td>soft</td>\n",
       "      <td>enough</td>\n",
       "      <td>shallow well</td>\n",
       "      <td>groundwater</td>\n",
       "      <td>hand pump</td>\n",
       "      <td>23</td>\n",
       "    </tr>\n",
       "  </tbody>\n",
       "</table>\n",
       "<p>1326 rows × 27 columns</p>\n",
       "</div>"
      ],
      "text/plain": [
       "       status_group  amount_tsh                  funder  gps_height  \\\n",
       "53     needs repair           0  Government Of Tanzania           0   \n",
       "168      functional           0                     Wvt           0   \n",
       "256    needs repair           0                  Hesawa           0   \n",
       "301      functional           0  Government Of Tanzania           0   \n",
       "306      functional           0      Plan International           0   \n",
       "...             ...         ...                     ...         ...   \n",
       "59135    functional           0                  Hesawa           0   \n",
       "59158    functional           0                    Wsdp           0   \n",
       "59189  needs repair           0                    Dwsp           0   \n",
       "59295  needs repair           0                   Rwssp           0   \n",
       "59374    functional           0                   Rwssp           0   \n",
       "\n",
       "               installer  longitude      latitude          basin  subvillage  \\\n",
       "53            Government        0.0 -2.000000e-08  Lake Victoria      Center   \n",
       "168                  WVT        0.0 -2.000000e-08  Lake Victoria       Ilula   \n",
       "256                  DWE        0.0 -2.000000e-08  Lake Victoria      Ujamaa   \n",
       "301           Government        0.0 -2.000000e-08  Lake Victoria      Nyanza   \n",
       "306    Plan Internationa        0.0 -2.000000e-08  Lake Victoria   Mwabasabi   \n",
       "...                  ...        ...           ...            ...         ...   \n",
       "59135             Hesawa        0.0 -2.000000e-08  Lake Victoria     Kagondo   \n",
       "59158                DWE        0.0 -2.000000e-08  Lake Victoria  Mwamanumbu   \n",
       "59189                DWE        0.0 -2.000000e-08  Lake Victoria   Mwamabuli   \n",
       "59295                DWE        0.0 -2.000000e-08  Lake Victoria   Mwamalizi   \n",
       "59374                DWE        0.0 -2.000000e-08  Lake Victoria  Mwamtani A   \n",
       "\n",
       "          region  ...  permit  extraction_type_class  management payment_type  \\\n",
       "53        Mwanza  ...    True            submersible         vwc      unknown   \n",
       "168    Shinyanga  ...   False                gravity  parastatal        other   \n",
       "256       Mwanza  ...    True               handpump         vwc    never pay   \n",
       "301       Mwanza  ...    True               handpump         vwc    never pay   \n",
       "306       Mwanza  ...    True               handpump         vwc    never pay   \n",
       "...          ...  ...     ...                    ...         ...          ...   \n",
       "59135     Mwanza  ...    True               handpump         vwc    never pay   \n",
       "59158  Shinyanga  ...   False               handpump         wug    never pay   \n",
       "59189  Shinyanga  ...   False               handpump         wug        other   \n",
       "59295  Shinyanga  ...   False               handpump         wug    never pay   \n",
       "59374  Shinyanga  ...   False               handpump         wug        other   \n",
       "\n",
       "       water_quality      quantity                source  source_class  \\\n",
       "53           unknown           dry           machine dbh   groundwater   \n",
       "168             soft      seasonal  rainwater harvesting       surface   \n",
       "256          unknown           dry           machine dbh   groundwater   \n",
       "301             soft  insufficient           machine dbh   groundwater   \n",
       "306             soft  insufficient           machine dbh   groundwater   \n",
       "...              ...           ...                   ...           ...   \n",
       "59135           soft        enough          shallow well   groundwater   \n",
       "59158           soft        enough          shallow well   groundwater   \n",
       "59189           soft        enough          shallow well   groundwater   \n",
       "59295           soft        enough          shallow well   groundwater   \n",
       "59374           soft        enough          shallow well   groundwater   \n",
       "\n",
       "                   waterpoint_type age  \n",
       "53     communal standpipe multiple  23  \n",
       "168             communal standpipe  23  \n",
       "256                      hand pump  23  \n",
       "301                      hand pump  23  \n",
       "306                      hand pump  23  \n",
       "...                            ...  ..  \n",
       "59135                    hand pump  23  \n",
       "59158                    hand pump  23  \n",
       "59189                    hand pump  23  \n",
       "59295                    hand pump  23  \n",
       "59374                    hand pump  23  \n",
       "\n",
       "[1326 rows x 27 columns]"
      ]
     },
     "execution_count": 424,
     "metadata": {},
     "output_type": "execute_result"
    }
   ],
   "source": [
    "df_g = df_b[df_b['longitude'] < 27.5]\n",
    "df_g"
   ]
  },
  {
   "cell_type": "code",
   "execution_count": 425,
   "metadata": {},
   "outputs": [
    {
     "name": "stdout",
     "output_type": "stream",
     "text": [
      "<class 'pandas.core.frame.DataFrame'>\n",
      "Int64Index: 48651 entries, 0 to 59399\n",
      "Data columns (total 27 columns):\n",
      "status_group             48651 non-null object\n",
      "amount_tsh               48651 non-null int64\n",
      "funder                   48651 non-null object\n",
      "gps_height               48651 non-null int64\n",
      "installer                48651 non-null object\n",
      "longitude                48651 non-null float64\n",
      "latitude                 48651 non-null float64\n",
      "basin                    48651 non-null object\n",
      "subvillage               48288 non-null object\n",
      "region                   48651 non-null object\n",
      "region_code              48651 non-null int64\n",
      "district_code            48651 non-null int64\n",
      "lga                      48651 non-null object\n",
      "ward                     48651 non-null object\n",
      "population               48651 non-null int64\n",
      "public_meeting           48651 non-null bool\n",
      "scheme_management        48651 non-null object\n",
      "permit                   48651 non-null bool\n",
      "extraction_type_class    48651 non-null object\n",
      "management               48651 non-null object\n",
      "payment_type             48651 non-null object\n",
      "water_quality            48651 non-null object\n",
      "quantity                 48651 non-null object\n",
      "source                   48651 non-null object\n",
      "source_class             48651 non-null object\n",
      "waterpoint_type          48651 non-null object\n",
      "age                      48651 non-null int64\n",
      "dtypes: bool(2), float64(2), int64(6), object(17)\n",
      "memory usage: 9.7+ MB\n"
     ]
    }
   ],
   "source": [
    "df.info()"
   ]
  },
  {
   "cell_type": "code",
   "execution_count": 426,
   "metadata": {},
   "outputs": [
    {
     "data": {
      "text/plain": [
       "0.0    1326\n",
       "Name: longitude, dtype: int64"
      ]
     },
     "execution_count": 426,
     "metadata": {},
     "output_type": "execute_result"
    }
   ],
   "source": [
    "df_g.longitude.value_counts()"
   ]
  },
  {
   "cell_type": "code",
   "execution_count": 398,
   "metadata": {},
   "outputs": [
    {
     "data": {
      "text/plain": [
       "-2.000000e-08    1326\n",
       "Name: latitude, dtype: int64"
      ]
     },
     "execution_count": 398,
     "metadata": {},
     "output_type": "execute_result"
    }
   ],
   "source": [
    "df_g.latitude.value_counts()"
   ]
  },
  {
   "cell_type": "code",
   "execution_count": 427,
   "metadata": {},
   "outputs": [
    {
     "data": {
      "text/plain": [
       "needs repair    740\n",
       "functional      586\n",
       "Name: status_group, dtype: int64"
      ]
     },
     "execution_count": 427,
     "metadata": {},
     "output_type": "execute_result"
    }
   ],
   "source": [
    "df_g.status_group.value_counts()"
   ]
  },
  {
   "cell_type": "code",
   "execution_count": 400,
   "metadata": {},
   "outputs": [
    {
     "data": {
      "text/plain": [
       "Lake Victoria      1227\n",
       "Lake Tanganyika      99\n",
       "Name: basin, dtype: int64"
      ]
     },
     "execution_count": 400,
     "metadata": {},
     "output_type": "execute_result"
    }
   ],
   "source": [
    "df_g.basin.value_counts()"
   ]
  },
  {
   "cell_type": "code",
   "execution_count": 430,
   "metadata": {},
   "outputs": [
    {
     "data": {
      "text/plain": [
       "1    699\n",
       "6    481\n",
       "2    146\n",
       "Name: district_code, dtype: int64"
      ]
     },
     "execution_count": 430,
     "metadata": {},
     "output_type": "execute_result"
    }
   ],
   "source": [
    "df_g.district_code.value_counts()"
   ]
  },
  {
   "cell_type": "code",
   "execution_count": 408,
   "metadata": {},
   "outputs": [
    {
     "data": {
      "text/plain": [
       "Shinyanga    696\n",
       "Mwanza       630\n",
       "Name: region, dtype: int64"
      ]
     },
     "execution_count": 408,
     "metadata": {},
     "output_type": "execute_result"
    }
   ],
   "source": [
    "df_g.region.value_counts()"
   ]
  },
  {
   "cell_type": "code",
   "execution_count": 410,
   "metadata": {},
   "outputs": [
    {
     "data": {
      "text/plain": [
       "never pay     856\n",
       "unknown       152\n",
       "other         146\n",
       "monthly        66\n",
       "on failure     58\n",
       "per bucket     32\n",
       "annually       16\n",
       "Name: payment_type, dtype: int64"
      ]
     },
     "execution_count": 410,
     "metadata": {},
     "output_type": "execute_result"
    }
   ],
   "source": [
    "df_g.payment_type.value_counts()"
   ]
  },
  {
   "cell_type": "code",
   "execution_count": 446,
   "metadata": {},
   "outputs": [
    {
     "data": {
      "text/plain": [
       "23    1326\n",
       "Name: age, dtype: int64"
      ]
     },
     "execution_count": 446,
     "metadata": {},
     "output_type": "execute_result"
    }
   ],
   "source": [
    "df_g.age.value_counts() #they were constructed the same year!"
   ]
  },
  {
   "cell_type": "code",
   "execution_count": 416,
   "metadata": {},
   "outputs": [
    {
     "data": {
      "text/html": [
       "<div>\n",
       "<style scoped>\n",
       "    .dataframe tbody tr th:only-of-type {\n",
       "        vertical-align: middle;\n",
       "    }\n",
       "\n",
       "    .dataframe tbody tr th {\n",
       "        vertical-align: top;\n",
       "    }\n",
       "\n",
       "    .dataframe thead th {\n",
       "        text-align: right;\n",
       "    }\n",
       "</style>\n",
       "<table border=\"1\" class=\"dataframe\">\n",
       "  <thead>\n",
       "    <tr style=\"text-align: right;\">\n",
       "      <th></th>\n",
       "      <th>amount_tsh</th>\n",
       "      <th>gps_height</th>\n",
       "      <th>longitude</th>\n",
       "      <th>latitude</th>\n",
       "      <th>population</th>\n",
       "      <th>age</th>\n",
       "    </tr>\n",
       "  </thead>\n",
       "  <tbody>\n",
       "    <tr>\n",
       "      <td>count</td>\n",
       "      <td>6060.000000</td>\n",
       "      <td>6060.000000</td>\n",
       "      <td>6060.000000</td>\n",
       "      <td>6.060000e+03</td>\n",
       "      <td>6060.000000</td>\n",
       "      <td>6060.000000</td>\n",
       "    </tr>\n",
       "    <tr>\n",
       "      <td>mean</td>\n",
       "      <td>12.747525</td>\n",
       "      <td>58.748185</td>\n",
       "      <td>26.031266</td>\n",
       "      <td>-2.457621e+00</td>\n",
       "      <td>22.738944</td>\n",
       "      <td>23.083168</td>\n",
       "    </tr>\n",
       "    <tr>\n",
       "      <td>std</td>\n",
       "      <td>657.551982</td>\n",
       "      <td>270.886192</td>\n",
       "      <td>13.789511</td>\n",
       "      <td>1.364034e+00</td>\n",
       "      <td>142.321020</td>\n",
       "      <td>2.537980</td>\n",
       "    </tr>\n",
       "    <tr>\n",
       "      <td>min</td>\n",
       "      <td>0.000000</td>\n",
       "      <td>0.000000</td>\n",
       "      <td>0.000000</td>\n",
       "      <td>-4.381946e+00</td>\n",
       "      <td>0.000000</td>\n",
       "      <td>8.000000</td>\n",
       "    </tr>\n",
       "    <tr>\n",
       "      <td>25%</td>\n",
       "      <td>0.000000</td>\n",
       "      <td>0.000000</td>\n",
       "      <td>32.050238</td>\n",
       "      <td>-3.378984e+00</td>\n",
       "      <td>0.000000</td>\n",
       "      <td>23.000000</td>\n",
       "    </tr>\n",
       "    <tr>\n",
       "      <td>50%</td>\n",
       "      <td>0.000000</td>\n",
       "      <td>0.000000</td>\n",
       "      <td>33.160589</td>\n",
       "      <td>-2.985162e+00</td>\n",
       "      <td>0.000000</td>\n",
       "      <td>23.000000</td>\n",
       "    </tr>\n",
       "    <tr>\n",
       "      <td>75%</td>\n",
       "      <td>0.000000</td>\n",
       "      <td>0.000000</td>\n",
       "      <td>33.591704</td>\n",
       "      <td>-2.411232e+00</td>\n",
       "      <td>0.000000</td>\n",
       "      <td>23.000000</td>\n",
       "    </tr>\n",
       "    <tr>\n",
       "      <td>max</td>\n",
       "      <td>50000.000000</td>\n",
       "      <td>1434.000000</td>\n",
       "      <td>34.758734</td>\n",
       "      <td>-2.000000e-08</td>\n",
       "      <td>5000.000000</td>\n",
       "      <td>54.000000</td>\n",
       "    </tr>\n",
       "  </tbody>\n",
       "</table>\n",
       "</div>"
      ],
      "text/plain": [
       "         amount_tsh   gps_height    longitude      latitude   population  \\\n",
       "count   6060.000000  6060.000000  6060.000000  6.060000e+03  6060.000000   \n",
       "mean      12.747525    58.748185    26.031266 -2.457621e+00    22.738944   \n",
       "std      657.551982   270.886192    13.789511  1.364034e+00   142.321020   \n",
       "min        0.000000     0.000000     0.000000 -4.381946e+00     0.000000   \n",
       "25%        0.000000     0.000000    32.050238 -3.378984e+00     0.000000   \n",
       "50%        0.000000     0.000000    33.160589 -2.985162e+00     0.000000   \n",
       "75%        0.000000     0.000000    33.591704 -2.411232e+00     0.000000   \n",
       "max    50000.000000  1434.000000    34.758734 -2.000000e-08  5000.000000   \n",
       "\n",
       "               age  \n",
       "count  6060.000000  \n",
       "mean     23.083168  \n",
       "std       2.537980  \n",
       "min       8.000000  \n",
       "25%      23.000000  \n",
       "50%      23.000000  \n",
       "75%      23.000000  \n",
       "max      54.000000  "
      ]
     },
     "execution_count": 416,
     "metadata": {},
     "output_type": "execute_result"
    }
   ],
   "source": [
    "df_region = df_b[df_b['region'].isin(['Mwanza','Shinyanga'])]\n",
    "df_region.describe()"
   ]
  },
  {
   "cell_type": "code",
   "execution_count": null,
   "metadata": {},
   "outputs": [],
   "source": []
  },
  {
   "cell_type": "code",
   "execution_count": null,
   "metadata": {},
   "outputs": [],
   "source": []
  },
  {
   "cell_type": "code",
   "execution_count": null,
   "metadata": {},
   "outputs": [],
   "source": []
  },
  {
   "cell_type": "code",
   "execution_count": null,
   "metadata": {},
   "outputs": [],
   "source": []
  },
  {
   "cell_type": "code",
   "execution_count": 401,
   "metadata": {},
   "outputs": [
    {
     "data": {
      "text/html": [
       "<div>\n",
       "<style scoped>\n",
       "    .dataframe tbody tr th:only-of-type {\n",
       "        vertical-align: middle;\n",
       "    }\n",
       "\n",
       "    .dataframe tbody tr th {\n",
       "        vertical-align: top;\n",
       "    }\n",
       "\n",
       "    .dataframe thead th {\n",
       "        text-align: right;\n",
       "    }\n",
       "</style>\n",
       "<table border=\"1\" class=\"dataframe\">\n",
       "  <thead>\n",
       "    <tr style=\"text-align: right;\">\n",
       "      <th></th>\n",
       "      <th>status_group</th>\n",
       "      <th>amount_tsh</th>\n",
       "      <th>funder</th>\n",
       "      <th>gps_height</th>\n",
       "      <th>installer</th>\n",
       "      <th>longitude</th>\n",
       "      <th>latitude</th>\n",
       "      <th>basin</th>\n",
       "      <th>region</th>\n",
       "      <th>lga</th>\n",
       "      <th>...</th>\n",
       "      <th>management</th>\n",
       "      <th>payment_type</th>\n",
       "      <th>water_quality</th>\n",
       "      <th>quantity</th>\n",
       "      <th>source</th>\n",
       "      <th>source_class</th>\n",
       "      <th>waterpoint_type</th>\n",
       "      <th>age</th>\n",
       "      <th>tsh_bins</th>\n",
       "      <th>age_bucket</th>\n",
       "    </tr>\n",
       "  </thead>\n",
       "  <tbody>\n",
       "    <tr>\n",
       "      <td>53</td>\n",
       "      <td>needs repair</td>\n",
       "      <td>0</td>\n",
       "      <td>Government Of Tanzania</td>\n",
       "      <td>0</td>\n",
       "      <td>Government</td>\n",
       "      <td>0.000000</td>\n",
       "      <td>-2.000000e-08</td>\n",
       "      <td>Lake Victoria</td>\n",
       "      <td>Mwanza</td>\n",
       "      <td>Geita</td>\n",
       "      <td>...</td>\n",
       "      <td>vwc</td>\n",
       "      <td>unknown</td>\n",
       "      <td>unknown</td>\n",
       "      <td>dry</td>\n",
       "      <td>machine dbh</td>\n",
       "      <td>groundwater</td>\n",
       "      <td>communal standpipe multiple</td>\n",
       "      <td>23</td>\n",
       "      <td>NaN</td>\n",
       "      <td>(20, 30]</td>\n",
       "    </tr>\n",
       "    <tr>\n",
       "      <td>59</td>\n",
       "      <td>needs repair</td>\n",
       "      <td>0</td>\n",
       "      <td>Government Of Tanzania</td>\n",
       "      <td>0</td>\n",
       "      <td>DWE</td>\n",
       "      <td>31.454282</td>\n",
       "      <td>-1.563886e+00</td>\n",
       "      <td>Lake Victoria</td>\n",
       "      <td>Kagera</td>\n",
       "      <td>Bukoba Rural</td>\n",
       "      <td>...</td>\n",
       "      <td>vwc</td>\n",
       "      <td>never pay</td>\n",
       "      <td>soft</td>\n",
       "      <td>enough</td>\n",
       "      <td>shallow well</td>\n",
       "      <td>groundwater</td>\n",
       "      <td>hand pump</td>\n",
       "      <td>23</td>\n",
       "      <td>NaN</td>\n",
       "      <td>(20, 30]</td>\n",
       "    </tr>\n",
       "    <tr>\n",
       "      <td>67</td>\n",
       "      <td>needs repair</td>\n",
       "      <td>0</td>\n",
       "      <td>Government Of Tanzania</td>\n",
       "      <td>0</td>\n",
       "      <td>DWE</td>\n",
       "      <td>30.716090</td>\n",
       "      <td>-1.285780e+00</td>\n",
       "      <td>Lake Victoria</td>\n",
       "      <td>Kagera</td>\n",
       "      <td>Karagwe</td>\n",
       "      <td>...</td>\n",
       "      <td>vwc</td>\n",
       "      <td>never pay</td>\n",
       "      <td>soft</td>\n",
       "      <td>dry</td>\n",
       "      <td>spring</td>\n",
       "      <td>groundwater</td>\n",
       "      <td>other</td>\n",
       "      <td>23</td>\n",
       "      <td>NaN</td>\n",
       "      <td>(20, 30]</td>\n",
       "    </tr>\n",
       "    <tr>\n",
       "      <td>85</td>\n",
       "      <td>needs repair</td>\n",
       "      <td>0</td>\n",
       "      <td>Swedish</td>\n",
       "      <td>0</td>\n",
       "      <td>Sengerema Water Department</td>\n",
       "      <td>32.185517</td>\n",
       "      <td>-2.378772e+00</td>\n",
       "      <td>Lake Victoria</td>\n",
       "      <td>Mwanza</td>\n",
       "      <td>Sengerema</td>\n",
       "      <td>...</td>\n",
       "      <td>vwc</td>\n",
       "      <td>never pay</td>\n",
       "      <td>soft</td>\n",
       "      <td>seasonal</td>\n",
       "      <td>shallow well</td>\n",
       "      <td>groundwater</td>\n",
       "      <td>hand pump</td>\n",
       "      <td>23</td>\n",
       "      <td>NaN</td>\n",
       "      <td>(20, 30]</td>\n",
       "    </tr>\n",
       "    <tr>\n",
       "      <td>94</td>\n",
       "      <td>needs repair</td>\n",
       "      <td>0</td>\n",
       "      <td>Hesawa</td>\n",
       "      <td>0</td>\n",
       "      <td>DWE</td>\n",
       "      <td>31.453111</td>\n",
       "      <td>-1.194390e+00</td>\n",
       "      <td>Lake Victoria</td>\n",
       "      <td>Kagera</td>\n",
       "      <td>Misenyi</td>\n",
       "      <td>...</td>\n",
       "      <td>vwc</td>\n",
       "      <td>never pay</td>\n",
       "      <td>milky</td>\n",
       "      <td>insufficient</td>\n",
       "      <td>shallow well</td>\n",
       "      <td>groundwater</td>\n",
       "      <td>hand pump</td>\n",
       "      <td>23</td>\n",
       "      <td>NaN</td>\n",
       "      <td>(20, 30]</td>\n",
       "    </tr>\n",
       "    <tr>\n",
       "      <td>...</td>\n",
       "      <td>...</td>\n",
       "      <td>...</td>\n",
       "      <td>...</td>\n",
       "      <td>...</td>\n",
       "      <td>...</td>\n",
       "      <td>...</td>\n",
       "      <td>...</td>\n",
       "      <td>...</td>\n",
       "      <td>...</td>\n",
       "      <td>...</td>\n",
       "      <td>...</td>\n",
       "      <td>...</td>\n",
       "      <td>...</td>\n",
       "      <td>...</td>\n",
       "      <td>...</td>\n",
       "      <td>...</td>\n",
       "      <td>...</td>\n",
       "      <td>...</td>\n",
       "      <td>...</td>\n",
       "      <td>...</td>\n",
       "      <td>...</td>\n",
       "    </tr>\n",
       "    <tr>\n",
       "      <td>59371</td>\n",
       "      <td>needs repair</td>\n",
       "      <td>0</td>\n",
       "      <td>Netherlands</td>\n",
       "      <td>0</td>\n",
       "      <td>DWE</td>\n",
       "      <td>33.586406</td>\n",
       "      <td>-3.040369e+00</td>\n",
       "      <td>Lake Victoria</td>\n",
       "      <td>Shinyanga</td>\n",
       "      <td>Maswa</td>\n",
       "      <td>...</td>\n",
       "      <td>wug</td>\n",
       "      <td>never pay</td>\n",
       "      <td>soft</td>\n",
       "      <td>enough</td>\n",
       "      <td>shallow well</td>\n",
       "      <td>groundwater</td>\n",
       "      <td>hand pump</td>\n",
       "      <td>23</td>\n",
       "      <td>NaN</td>\n",
       "      <td>(20, 30]</td>\n",
       "    </tr>\n",
       "    <tr>\n",
       "      <td>59374</td>\n",
       "      <td>functional</td>\n",
       "      <td>0</td>\n",
       "      <td>Rwssp</td>\n",
       "      <td>0</td>\n",
       "      <td>DWE</td>\n",
       "      <td>0.000000</td>\n",
       "      <td>-2.000000e-08</td>\n",
       "      <td>Lake Victoria</td>\n",
       "      <td>Shinyanga</td>\n",
       "      <td>Bariadi</td>\n",
       "      <td>...</td>\n",
       "      <td>wug</td>\n",
       "      <td>other</td>\n",
       "      <td>soft</td>\n",
       "      <td>enough</td>\n",
       "      <td>shallow well</td>\n",
       "      <td>groundwater</td>\n",
       "      <td>hand pump</td>\n",
       "      <td>23</td>\n",
       "      <td>NaN</td>\n",
       "      <td>(20, 30]</td>\n",
       "    </tr>\n",
       "    <tr>\n",
       "      <td>59379</td>\n",
       "      <td>functional</td>\n",
       "      <td>0</td>\n",
       "      <td>Do</td>\n",
       "      <td>0</td>\n",
       "      <td>DO</td>\n",
       "      <td>31.613284</td>\n",
       "      <td>-1.820226e+00</td>\n",
       "      <td>Lake Victoria</td>\n",
       "      <td>Kagera</td>\n",
       "      <td>Muleba</td>\n",
       "      <td>...</td>\n",
       "      <td>vwc</td>\n",
       "      <td>never pay</td>\n",
       "      <td>soft</td>\n",
       "      <td>enough</td>\n",
       "      <td>spring</td>\n",
       "      <td>groundwater</td>\n",
       "      <td>communal standpipe</td>\n",
       "      <td>23</td>\n",
       "      <td>NaN</td>\n",
       "      <td>(20, 30]</td>\n",
       "    </tr>\n",
       "    <tr>\n",
       "      <td>59384</td>\n",
       "      <td>needs repair</td>\n",
       "      <td>0</td>\n",
       "      <td>Concern</td>\n",
       "      <td>0</td>\n",
       "      <td>CONCERN</td>\n",
       "      <td>30.667805</td>\n",
       "      <td>-2.483710e+00</td>\n",
       "      <td>Lake Victoria</td>\n",
       "      <td>Kagera</td>\n",
       "      <td>Ngara</td>\n",
       "      <td>...</td>\n",
       "      <td>vwc</td>\n",
       "      <td>never pay</td>\n",
       "      <td>soft</td>\n",
       "      <td>insufficient</td>\n",
       "      <td>spring</td>\n",
       "      <td>groundwater</td>\n",
       "      <td>communal standpipe</td>\n",
       "      <td>23</td>\n",
       "      <td>NaN</td>\n",
       "      <td>(20, 30]</td>\n",
       "    </tr>\n",
       "    <tr>\n",
       "      <td>59385</td>\n",
       "      <td>functional</td>\n",
       "      <td>500</td>\n",
       "      <td>Jaica</td>\n",
       "      <td>1327</td>\n",
       "      <td>JAICA CO</td>\n",
       "      <td>33.951681</td>\n",
       "      <td>-2.021854e+00</td>\n",
       "      <td>Lake Victoria</td>\n",
       "      <td>Mara</td>\n",
       "      <td>Bunda</td>\n",
       "      <td>...</td>\n",
       "      <td>wug</td>\n",
       "      <td>monthly</td>\n",
       "      <td>salty</td>\n",
       "      <td>enough</td>\n",
       "      <td>machine dbh</td>\n",
       "      <td>groundwater</td>\n",
       "      <td>hand pump</td>\n",
       "      <td>9</td>\n",
       "      <td>(0.0, 20000.0]</td>\n",
       "      <td>(0, 10]</td>\n",
       "    </tr>\n",
       "  </tbody>\n",
       "</table>\n",
       "<p>7321 rows × 26 columns</p>\n",
       "</div>"
      ],
      "text/plain": [
       "       status_group  amount_tsh                  funder  gps_height  \\\n",
       "53     needs repair           0  Government Of Tanzania           0   \n",
       "59     needs repair           0  Government Of Tanzania           0   \n",
       "67     needs repair           0  Government Of Tanzania           0   \n",
       "85     needs repair           0                 Swedish           0   \n",
       "94     needs repair           0                  Hesawa           0   \n",
       "...             ...         ...                     ...         ...   \n",
       "59371  needs repair           0             Netherlands           0   \n",
       "59374    functional           0                   Rwssp           0   \n",
       "59379    functional           0                      Do           0   \n",
       "59384  needs repair           0                 Concern           0   \n",
       "59385    functional         500                   Jaica        1327   \n",
       "\n",
       "                        installer  longitude      latitude          basin  \\\n",
       "53                     Government   0.000000 -2.000000e-08  Lake Victoria   \n",
       "59                            DWE  31.454282 -1.563886e+00  Lake Victoria   \n",
       "67                            DWE  30.716090 -1.285780e+00  Lake Victoria   \n",
       "85     Sengerema Water Department  32.185517 -2.378772e+00  Lake Victoria   \n",
       "94                            DWE  31.453111 -1.194390e+00  Lake Victoria   \n",
       "...                           ...        ...           ...            ...   \n",
       "59371                         DWE  33.586406 -3.040369e+00  Lake Victoria   \n",
       "59374                         DWE   0.000000 -2.000000e-08  Lake Victoria   \n",
       "59379                          DO  31.613284 -1.820226e+00  Lake Victoria   \n",
       "59384                     CONCERN  30.667805 -2.483710e+00  Lake Victoria   \n",
       "59385                    JAICA CO  33.951681 -2.021854e+00  Lake Victoria   \n",
       "\n",
       "          region           lga  ... management  payment_type  water_quality  \\\n",
       "53        Mwanza         Geita  ...        vwc       unknown        unknown   \n",
       "59        Kagera  Bukoba Rural  ...        vwc     never pay           soft   \n",
       "67        Kagera       Karagwe  ...        vwc     never pay           soft   \n",
       "85        Mwanza     Sengerema  ...        vwc     never pay           soft   \n",
       "94        Kagera       Misenyi  ...        vwc     never pay          milky   \n",
       "...          ...           ...  ...        ...           ...            ...   \n",
       "59371  Shinyanga         Maswa  ...        wug     never pay           soft   \n",
       "59374  Shinyanga       Bariadi  ...        wug         other           soft   \n",
       "59379     Kagera        Muleba  ...        vwc     never pay           soft   \n",
       "59384     Kagera         Ngara  ...        vwc     never pay           soft   \n",
       "59385       Mara         Bunda  ...        wug       monthly          salty   \n",
       "\n",
       "           quantity        source source_class              waterpoint_type  \\\n",
       "53              dry   machine dbh  groundwater  communal standpipe multiple   \n",
       "59           enough  shallow well  groundwater                    hand pump   \n",
       "67              dry        spring  groundwater                        other   \n",
       "85         seasonal  shallow well  groundwater                    hand pump   \n",
       "94     insufficient  shallow well  groundwater                    hand pump   \n",
       "...             ...           ...          ...                          ...   \n",
       "59371        enough  shallow well  groundwater                    hand pump   \n",
       "59374        enough  shallow well  groundwater                    hand pump   \n",
       "59379        enough        spring  groundwater           communal standpipe   \n",
       "59384  insufficient        spring  groundwater           communal standpipe   \n",
       "59385        enough   machine dbh  groundwater                    hand pump   \n",
       "\n",
       "      age        tsh_bins age_bucket  \n",
       "53     23             NaN   (20, 30]  \n",
       "59     23             NaN   (20, 30]  \n",
       "67     23             NaN   (20, 30]  \n",
       "85     23             NaN   (20, 30]  \n",
       "94     23             NaN   (20, 30]  \n",
       "...    ..             ...        ...  \n",
       "59371  23             NaN   (20, 30]  \n",
       "59374  23             NaN   (20, 30]  \n",
       "59379  23             NaN   (20, 30]  \n",
       "59384  23             NaN   (20, 30]  \n",
       "59385   9  (0.0, 20000.0]    (0, 10]  \n",
       "\n",
       "[7321 rows x 26 columns]"
      ]
     },
     "execution_count": 401,
     "metadata": {},
     "output_type": "execute_result"
    }
   ],
   "source": [
    "df_l = df_b[df_b['basin']== 'Lake Victoria']\n",
    "df_l"
   ]
  },
  {
   "cell_type": "code",
   "execution_count": 404,
   "metadata": {},
   "outputs": [
    {
     "name": "stdout",
     "output_type": "stream",
     "text": [
      "<class 'pandas.core.frame.DataFrame'>\n",
      "Int64Index: 7321 entries, 53 to 59385\n",
      "Data columns (total 26 columns):\n",
      "status_group             7321 non-null object\n",
      "amount_tsh               7321 non-null int64\n",
      "funder                   7321 non-null object\n",
      "gps_height               7321 non-null int64\n",
      "installer                7321 non-null object\n",
      "longitude                7321 non-null float64\n",
      "latitude                 7321 non-null float64\n",
      "basin                    7321 non-null object\n",
      "region                   7321 non-null object\n",
      "lga                      7321 non-null object\n",
      "ward                     7321 non-null object\n",
      "population               7321 non-null int64\n",
      "public_meeting           7321 non-null bool\n",
      "scheme_management        7321 non-null object\n",
      "permit                   7321 non-null bool\n",
      "extraction_type_class    7321 non-null object\n",
      "management               7321 non-null object\n",
      "payment_type             7321 non-null object\n",
      "water_quality            7321 non-null object\n",
      "quantity                 7321 non-null object\n",
      "source                   7321 non-null object\n",
      "source_class             7321 non-null object\n",
      "waterpoint_type          7321 non-null object\n",
      "age                      7321 non-null int64\n",
      "tsh_bins                 264 non-null category\n",
      "age_bucket               7310 non-null category\n",
      "dtypes: bool(2), category(2), float64(2), int64(4), object(16)\n",
      "memory usage: 1.3+ MB\n"
     ]
    }
   ],
   "source": [
    "df_l.info()"
   ]
  },
  {
   "cell_type": "markdown",
   "metadata": {},
   "source": [
    "---"
   ]
  },
  {
   "cell_type": "markdown",
   "metadata": {},
   "source": [
    "## Features"
   ]
  },
  {
   "cell_type": "markdown",
   "metadata": {},
   "source": [
    "### Water\n",
    "\n",
    "- A LOT of 0 values, impute?"
   ]
  },
  {
   "cell_type": "markdown",
   "metadata": {},
   "source": [
    "#### Feature: Tsh Value"
   ]
  },
  {
   "cell_type": "code",
   "execution_count": 448,
   "metadata": {},
   "outputs": [
    {
     "data": {
      "text/plain": [
       "(-250.001, 25000.0]     48614\n",
       "(25000.0, 50000.0]         21\n",
       "(100000.0, 125000.0]        7\n",
       "(75000.0, 100000.0]         3\n",
       "(50000.0, 75000.0]          2\n",
       "(225000.0, 250000.0]        1\n",
       "(175000.0, 200000.0]        1\n",
       "(150000.0, 175000.0]        1\n",
       "(125000.0, 150000.0]        1\n",
       "(200000.0, 225000.0]        0\n",
       "Name: amount_tsh, dtype: int64"
      ]
     },
     "execution_count": 448,
     "metadata": {},
     "output_type": "execute_result"
    }
   ],
   "source": [
    "df.amount_tsh.value_counts(bins=10)"
   ]
  },
  {
   "cell_type": "code",
   "execution_count": 451,
   "metadata": {},
   "outputs": [
    {
     "data": {
      "text/plain": [
       "32516"
      ]
     },
     "execution_count": 451,
     "metadata": {},
     "output_type": "execute_result"
    }
   ],
   "source": [
    "(df.amount_tsh == 0).sum() #this is a bad feature"
   ]
  },
  {
   "cell_type": "code",
   "execution_count": 341,
   "metadata": {},
   "outputs": [],
   "source": [
    "tshbins = range(0, df.amount_tsh.max(), 20000)\n",
    "df['tsh_bins'] = pd.cut(df.amount_tsh, bins=tshbins)"
   ]
  },
  {
   "cell_type": "code",
   "execution_count": 360,
   "metadata": {},
   "outputs": [
    {
     "data": {
      "text/html": [
       "<div>\n",
       "<style scoped>\n",
       "    .dataframe tbody tr th:only-of-type {\n",
       "        vertical-align: middle;\n",
       "    }\n",
       "\n",
       "    .dataframe tbody tr th {\n",
       "        vertical-align: top;\n",
       "    }\n",
       "\n",
       "    .dataframe thead th {\n",
       "        text-align: right;\n",
       "    }\n",
       "</style>\n",
       "<table border=\"1\" class=\"dataframe\">\n",
       "  <thead>\n",
       "    <tr style=\"text-align: right;\">\n",
       "      <th>status_group</th>\n",
       "      <th>functional</th>\n",
       "      <th>functional needs repair</th>\n",
       "      <th>non functional</th>\n",
       "    </tr>\n",
       "    <tr>\n",
       "      <th>tsh_bins</th>\n",
       "      <th></th>\n",
       "      <th></th>\n",
       "      <th></th>\n",
       "    </tr>\n",
       "  </thead>\n",
       "  <tbody>\n",
       "    <tr>\n",
       "      <td>(0, 20000]</td>\n",
       "      <td>0.699981</td>\n",
       "      <td>0.074585</td>\n",
       "      <td>0.225434</td>\n",
       "    </tr>\n",
       "    <tr>\n",
       "      <td>(20000, 40000]</td>\n",
       "      <td>0.880000</td>\n",
       "      <td>0.040000</td>\n",
       "      <td>0.080000</td>\n",
       "    </tr>\n",
       "    <tr>\n",
       "      <td>(40000, 60000]</td>\n",
       "      <td>0.666667</td>\n",
       "      <td>0.166667</td>\n",
       "      <td>0.166667</td>\n",
       "    </tr>\n",
       "    <tr>\n",
       "      <td>(60000, 80000]</td>\n",
       "      <td>1.000000</td>\n",
       "      <td>0.000000</td>\n",
       "      <td>0.000000</td>\n",
       "    </tr>\n",
       "    <tr>\n",
       "      <td>(80000, 100000]</td>\n",
       "      <td>0.666667</td>\n",
       "      <td>0.333333</td>\n",
       "      <td>0.000000</td>\n",
       "    </tr>\n",
       "    <tr>\n",
       "      <td>(100000, 120000]</td>\n",
       "      <td>0.857143</td>\n",
       "      <td>0.000000</td>\n",
       "      <td>0.142857</td>\n",
       "    </tr>\n",
       "    <tr>\n",
       "      <td>(120000, 140000]</td>\n",
       "      <td>1.000000</td>\n",
       "      <td>0.000000</td>\n",
       "      <td>0.000000</td>\n",
       "    </tr>\n",
       "    <tr>\n",
       "      <td>(160000, 180000]</td>\n",
       "      <td>1.000000</td>\n",
       "      <td>0.000000</td>\n",
       "      <td>0.000000</td>\n",
       "    </tr>\n",
       "    <tr>\n",
       "      <td>(180000, 200000]</td>\n",
       "      <td>1.000000</td>\n",
       "      <td>0.000000</td>\n",
       "      <td>0.000000</td>\n",
       "    </tr>\n",
       "  </tbody>\n",
       "</table>\n",
       "</div>"
      ],
      "text/plain": [
       "status_group      functional  functional needs repair  non functional\n",
       "tsh_bins                                                             \n",
       "(0, 20000]          0.699981                 0.074585        0.225434\n",
       "(20000, 40000]      0.880000                 0.040000        0.080000\n",
       "(40000, 60000]      0.666667                 0.166667        0.166667\n",
       "(60000, 80000]      1.000000                 0.000000        0.000000\n",
       "(80000, 100000]     0.666667                 0.333333        0.000000\n",
       "(100000, 120000]    0.857143                 0.000000        0.142857\n",
       "(120000, 140000]    1.000000                 0.000000        0.000000\n",
       "(160000, 180000]    1.000000                 0.000000        0.000000\n",
       "(180000, 200000]    1.000000                 0.000000        0.000000"
      ]
     },
     "execution_count": 360,
     "metadata": {},
     "output_type": "execute_result"
    },
    {
     "data": {
      "image/png": "[encoded data removed]",
      "text/plain": [
       "<Figure size 720x540 with 1 Axes>"
      ]
     },
     "metadata": {
      "needs_background": "light"
     },
     "output_type": "display_data"
    }
   ],
   "source": [
    "tshs = pd.crosstab(df.tsh_bins,df.status_group,normalize='index')\n",
    "tshs.plot(kind='bar',figsize=(10,7.50),fontsize=10)\n",
    "tshs"
   ]
  },
  {
   "cell_type": "code",
   "execution_count": 331,
   "metadata": {},
   "outputs": [],
   "source": [
    "tshbinsb = range(2, df_b.amount_tsh.max(), 25000)\n",
    "df_b['tsh_bins'] = pd.cut(df_b.amount_tsh, bins=tshbins)"
   ]
  },
  {
   "cell_type": "code",
   "execution_count": 361,
   "metadata": {},
   "outputs": [
    {
     "data": {
      "text/html": [
       "<div>\n",
       "<style scoped>\n",
       "    .dataframe tbody tr th:only-of-type {\n",
       "        vertical-align: middle;\n",
       "    }\n",
       "\n",
       "    .dataframe tbody tr th {\n",
       "        vertical-align: top;\n",
       "    }\n",
       "\n",
       "    .dataframe thead th {\n",
       "        text-align: right;\n",
       "    }\n",
       "</style>\n",
       "<table border=\"1\" class=\"dataframe\">\n",
       "  <thead>\n",
       "    <tr style=\"text-align: right;\">\n",
       "      <th>status_group</th>\n",
       "      <th>functional</th>\n",
       "      <th>needs repair</th>\n",
       "    </tr>\n",
       "    <tr>\n",
       "      <th>tsh_bins</th>\n",
       "      <th></th>\n",
       "      <th></th>\n",
       "    </tr>\n",
       "  </thead>\n",
       "  <tbody>\n",
       "    <tr>\n",
       "      <td>(0, 20000]</td>\n",
       "      <td>0.699981</td>\n",
       "      <td>0.300019</td>\n",
       "    </tr>\n",
       "    <tr>\n",
       "      <td>(20000, 40000]</td>\n",
       "      <td>0.880000</td>\n",
       "      <td>0.120000</td>\n",
       "    </tr>\n",
       "    <tr>\n",
       "      <td>(40000, 60000]</td>\n",
       "      <td>0.666667</td>\n",
       "      <td>0.333333</td>\n",
       "    </tr>\n",
       "    <tr>\n",
       "      <td>(60000, 80000]</td>\n",
       "      <td>1.000000</td>\n",
       "      <td>0.000000</td>\n",
       "    </tr>\n",
       "    <tr>\n",
       "      <td>(80000, 100000]</td>\n",
       "      <td>0.666667</td>\n",
       "      <td>0.333333</td>\n",
       "    </tr>\n",
       "    <tr>\n",
       "      <td>(100000, 120000]</td>\n",
       "      <td>0.857143</td>\n",
       "      <td>0.142857</td>\n",
       "    </tr>\n",
       "    <tr>\n",
       "      <td>(120000, 140000]</td>\n",
       "      <td>1.000000</td>\n",
       "      <td>0.000000</td>\n",
       "    </tr>\n",
       "    <tr>\n",
       "      <td>(160000, 180000]</td>\n",
       "      <td>1.000000</td>\n",
       "      <td>0.000000</td>\n",
       "    </tr>\n",
       "    <tr>\n",
       "      <td>(180000, 200000]</td>\n",
       "      <td>1.000000</td>\n",
       "      <td>0.000000</td>\n",
       "    </tr>\n",
       "  </tbody>\n",
       "</table>\n",
       "</div>"
      ],
      "text/plain": [
       "status_group      functional  needs repair\n",
       "tsh_bins                                  \n",
       "(0, 20000]          0.699981      0.300019\n",
       "(20000, 40000]      0.880000      0.120000\n",
       "(40000, 60000]      0.666667      0.333333\n",
       "(60000, 80000]      1.000000      0.000000\n",
       "(80000, 100000]     0.666667      0.333333\n",
       "(100000, 120000]    0.857143      0.142857\n",
       "(120000, 140000]    1.000000      0.000000\n",
       "(160000, 180000]    1.000000      0.000000\n",
       "(180000, 200000]    1.000000      0.000000"
      ]
     },
     "execution_count": 361,
     "metadata": {},
     "output_type": "execute_result"
    },
    {
     "data": {
      "image/png": "[encoded data removed]",
      "text/plain": [
       "<Figure size 720x540 with 1 Axes>"
      ]
     },
     "metadata": {
      "needs_background": "light"
     },
     "output_type": "display_data"
    }
   ],
   "source": [
    "#df.groupby('tsh_bins').status_group.value_counts()\n",
    "tshsb = pd.crosstab(df_b.tsh_bins,df_b.status_group,normalize='index')\n",
    "tshsb.plot(kind='bar',figsize=(10,7.50),fontsize=10)\n",
    "tshsb"
   ]
  },
  {
   "cell_type": "markdown",
   "metadata": {},
   "source": [
    "#### Feature: Quality"
   ]
  },
  {
   "cell_type": "code",
   "execution_count": 13,
   "metadata": {},
   "outputs": [
    {
     "data": {
      "text/plain": [
       "<matplotlib.axes._subplots.AxesSubplot at 0x1a1e9ca518>"
      ]
     },
     "execution_count": 13,
     "metadata": {},
     "output_type": "execute_result"
    },
    {
     "data": {
      "image/png": "[encoded data removed]",
      "text/plain": [
       "<Figure size 432x288 with 1 Axes>"
      ]
     },
     "metadata": {
      "needs_background": "light"
     },
     "output_type": "display_data"
    }
   ],
   "source": [
    "df.water_quality.value_counts().plot(kind='bar')"
   ]
  },
  {
   "cell_type": "code",
   "execution_count": 468,
   "metadata": {},
   "outputs": [],
   "source": [
    "# watq = pd.crosstab(df.water_quality,df.status_group,normalize='index')\n",
    "# watq.plot(kind='bar',figsize=(10,7.50),fontsize=10,rot=45)\n",
    "# watq.sort_values('functional',ascending=False)"
   ]
  },
  {
   "cell_type": "code",
   "execution_count": 363,
   "metadata": {},
   "outputs": [
    {
     "data": {
      "text/html": [
       "<div>\n",
       "<style scoped>\n",
       "    .dataframe tbody tr th:only-of-type {\n",
       "        vertical-align: middle;\n",
       "    }\n",
       "\n",
       "    .dataframe tbody tr th {\n",
       "        vertical-align: top;\n",
       "    }\n",
       "\n",
       "    .dataframe thead th {\n",
       "        text-align: right;\n",
       "    }\n",
       "</style>\n",
       "<table border=\"1\" class=\"dataframe\">\n",
       "  <thead>\n",
       "    <tr style=\"text-align: right;\">\n",
       "      <th>status_group</th>\n",
       "      <th>functional</th>\n",
       "      <th>needs repair</th>\n",
       "    </tr>\n",
       "    <tr>\n",
       "      <th>water_quality</th>\n",
       "      <th></th>\n",
       "      <th></th>\n",
       "    </tr>\n",
       "  </thead>\n",
       "  <tbody>\n",
       "    <tr>\n",
       "      <td>fluoride</td>\n",
       "      <td>0.775000</td>\n",
       "      <td>0.225000</td>\n",
       "    </tr>\n",
       "    <tr>\n",
       "      <td>soft</td>\n",
       "      <td>0.568008</td>\n",
       "      <td>0.431992</td>\n",
       "    </tr>\n",
       "    <tr>\n",
       "      <td>milky</td>\n",
       "      <td>0.565217</td>\n",
       "      <td>0.434783</td>\n",
       "    </tr>\n",
       "    <tr>\n",
       "      <td>coloured</td>\n",
       "      <td>0.509375</td>\n",
       "      <td>0.490625</td>\n",
       "    </tr>\n",
       "    <tr>\n",
       "      <td>salty abandoned</td>\n",
       "      <td>0.456897</td>\n",
       "      <td>0.543103</td>\n",
       "    </tr>\n",
       "    <tr>\n",
       "      <td>salty</td>\n",
       "      <td>0.443343</td>\n",
       "      <td>0.556657</td>\n",
       "    </tr>\n",
       "    <tr>\n",
       "      <td>fluoride abandoned</td>\n",
       "      <td>0.307692</td>\n",
       "      <td>0.692308</td>\n",
       "    </tr>\n",
       "    <tr>\n",
       "      <td>unknown</td>\n",
       "      <td>0.104545</td>\n",
       "      <td>0.895455</td>\n",
       "    </tr>\n",
       "  </tbody>\n",
       "</table>\n",
       "</div>"
      ],
      "text/plain": [
       "status_group        functional  needs repair\n",
       "water_quality                               \n",
       "fluoride              0.775000      0.225000\n",
       "soft                  0.568008      0.431992\n",
       "milky                 0.565217      0.434783\n",
       "coloured              0.509375      0.490625\n",
       "salty abandoned       0.456897      0.543103\n",
       "salty                 0.443343      0.556657\n",
       "fluoride abandoned    0.307692      0.692308\n",
       "unknown               0.104545      0.895455"
      ]
     },
     "execution_count": 363,
     "metadata": {},
     "output_type": "execute_result"
    },
    {
     "data": {
      "image/png": "[encoded data removed]",
      "text/plain": [
       "<Figure size 720x540 with 1 Axes>"
      ]
     },
     "metadata": {
      "needs_background": "light"
     },
     "output_type": "display_data"
    }
   ],
   "source": [
    "watqb = pd.crosstab(df_b.water_quality,df_b.status_group,normalize='index')\n",
    "watqb.plot(kind='bar',figsize=(10,7.50),fontsize=10,rot=45)\n",
    "watqb.sort_values('functional',ascending=False)"
   ]
  },
  {
   "cell_type": "code",
   "execution_count": 459,
   "metadata": {},
   "outputs": [
    {
     "name": "stdout",
     "output_type": "stream",
     "text": [
      "<class 'pandas.core.frame.DataFrame'>\n",
      "Int64Index: 160 entries, 110 to 59159\n",
      "Data columns (total 27 columns):\n",
      "status_group             160 non-null object\n",
      "amount_tsh               160 non-null int64\n",
      "funder                   160 non-null object\n",
      "gps_height               160 non-null int64\n",
      "installer                160 non-null object\n",
      "longitude                160 non-null float64\n",
      "latitude                 160 non-null float64\n",
      "basin                    160 non-null object\n",
      "subvillage               160 non-null object\n",
      "region                   160 non-null object\n",
      "region_code              160 non-null int64\n",
      "district_code            160 non-null int64\n",
      "lga                      160 non-null object\n",
      "ward                     160 non-null object\n",
      "population               160 non-null int64\n",
      "public_meeting           160 non-null bool\n",
      "scheme_management        160 non-null object\n",
      "permit                   160 non-null bool\n",
      "extraction_type_class    160 non-null object\n",
      "management               160 non-null object\n",
      "payment_type             160 non-null object\n",
      "water_quality            160 non-null object\n",
      "quantity                 160 non-null object\n",
      "source                   160 non-null object\n",
      "source_class             160 non-null object\n",
      "waterpoint_type          160 non-null object\n",
      "age                      160 non-null int64\n",
      "dtypes: bool(2), float64(2), int64(6), object(17)\n",
      "memory usage: 32.8+ KB\n"
     ]
    }
   ],
   "source": [
    "flo = df_b[df_b['water_quality'] == 'fluoride']\n",
    "flo.info()"
   ]
  },
  {
   "cell_type": "code",
   "execution_count": 457,
   "metadata": {},
   "outputs": [],
   "source": [
    "qualities = df.water_quality.value_counts().index.tolist()"
   ]
  },
  {
   "cell_type": "code",
   "execution_count": 458,
   "metadata": {},
   "outputs": [
    {
     "name": "stdout",
     "output_type": "stream",
     "text": [
      "soft:167.933241456635\n",
      "salty:271.2799796747967\n",
      "unknown:151.8181818181818\n",
      "coloured:152.034375\n",
      "milky:127.07357859531773\n",
      "salty abandoned:95.78448275862068\n",
      "fluoride:193.7375\n",
      "fluoride abandoned:118.3076923076923\n"
     ]
    }
   ],
   "source": [
    "for qual in qualities:\n",
    "    mean = df[df['water_quality'] == qual].population.mean()\n",
    "    print(qual+':' + str(mean))"
   ]
  },
  {
   "cell_type": "code",
   "execution_count": 460,
   "metadata": {},
   "outputs": [
    {
     "name": "stdout",
     "output_type": "stream",
     "text": [
      "soft:23.184204994043586\n",
      "salty:22.984756097560975\n",
      "unknown:24.41590909090909\n",
      "coloured:22.90625\n",
      "milky:23.67558528428094\n",
      "salty abandoned:23.198275862068964\n",
      "fluoride:19.475\n",
      "fluoride abandoned:20.615384615384617\n"
     ]
    }
   ],
   "source": [
    "for qual in qualities:\n",
    "    mean = df[df['water_quality'] == qual].age.mean()\n",
    "    print(qual+':' + str(mean))"
   ]
  },
  {
   "cell_type": "code",
   "execution_count": 479,
   "metadata": {},
   "outputs": [
    {
     "name": "stdout",
     "output_type": "stream",
     "text": [
      "permit+soft:0.7030202518044428\n",
      "permit+salty:0.5251524390243902\n",
      "permit+unknown:0.5659090909090909\n",
      "permit+coloured:0.765625\n",
      "permit+milky:0.6722408026755853\n",
      "permit+salty abandoned:0.23706896551724138\n",
      "permit+fluoride:0.90625\n",
      "permit+fluoride abandoned:0.23076923076923078\n"
     ]
    }
   ],
   "source": [
    "for qual in qualities:\n",
    "    mean = df[df['water_quality'] == qual].permit.mean()\n",
    "    print('permit+'+qual+':' + str(mean))"
   ]
  },
  {
   "cell_type": "code",
   "execution_count": 470,
   "metadata": {},
   "outputs": [
    {
     "name": "stdout",
     "output_type": "stream",
     "text": [
      "public_meeting+soft:0.9143911611501717\n",
      "public_meeting+salty:0.881859756097561\n",
      "public_meeting+unknown:0.8875\n",
      "public_meeting+coloured:0.84375\n",
      "public_meeting+milky:0.8595317725752508\n",
      "public_meeting+salty abandoned:0.8836206896551724\n",
      "public_meeting+fluoride:1.0\n",
      "public_meeting+fluoride abandoned:1.0\n"
     ]
    }
   ],
   "source": [
    "for qual in qualities:\n",
    "    mean = df[df['water_quality'] == qual].public_meeting.mean()\n",
    "    print('public_meeting+'+qual+':' + str(mean))"
   ]
  },
  {
   "cell_type": "code",
   "execution_count": null,
   "metadata": {},
   "outputs": [],
   "source": []
  },
  {
   "cell_type": "markdown",
   "metadata": {},
   "source": [
    "what are the populations around the abandoned waterpoints?"
   ]
  },
  {
   "cell_type": "markdown",
   "metadata": {},
   "source": [
    "#### Feature: Quantity"
   ]
  },
  {
   "cell_type": "code",
   "execution_count": 16,
   "metadata": {},
   "outputs": [
    {
     "data": {
      "text/plain": [
       "<matplotlib.axes._subplots.AxesSubplot at 0x1a1f8c2b38>"
      ]
     },
     "execution_count": 16,
     "metadata": {},
     "output_type": "execute_result"
    },
    {
     "data": {
      "image/png": "[encoded data removed]",
      "text/plain": [
       "<Figure size 432x288 with 1 Axes>"
      ]
     },
     "metadata": {
      "needs_background": "light"
     },
     "output_type": "display_data"
    }
   ],
   "source": [
    "df.quantity.value_counts().plot(kind='bar')"
   ]
  },
  {
   "cell_type": "code",
   "execution_count": 364,
   "metadata": {},
   "outputs": [
    {
     "data": {
      "text/html": [
       "<div>\n",
       "<style scoped>\n",
       "    .dataframe tbody tr th:only-of-type {\n",
       "        vertical-align: middle;\n",
       "    }\n",
       "\n",
       "    .dataframe tbody tr th {\n",
       "        vertical-align: top;\n",
       "    }\n",
       "\n",
       "    .dataframe thead th {\n",
       "        text-align: right;\n",
       "    }\n",
       "</style>\n",
       "<table border=\"1\" class=\"dataframe\">\n",
       "  <thead>\n",
       "    <tr style=\"text-align: right;\">\n",
       "      <th>status_group</th>\n",
       "      <th>functional</th>\n",
       "      <th>functional needs repair</th>\n",
       "      <th>non functional</th>\n",
       "    </tr>\n",
       "    <tr>\n",
       "      <th>quantity</th>\n",
       "      <th></th>\n",
       "      <th></th>\n",
       "      <th></th>\n",
       "    </tr>\n",
       "  </thead>\n",
       "  <tbody>\n",
       "    <tr>\n",
       "      <td>enough</td>\n",
       "      <td>0.655901</td>\n",
       "      <td>0.075912</td>\n",
       "      <td>0.268187</td>\n",
       "    </tr>\n",
       "    <tr>\n",
       "      <td>seasonal</td>\n",
       "      <td>0.569263</td>\n",
       "      <td>0.084769</td>\n",
       "      <td>0.345968</td>\n",
       "    </tr>\n",
       "    <tr>\n",
       "      <td>insufficient</td>\n",
       "      <td>0.522561</td>\n",
       "      <td>0.090160</td>\n",
       "      <td>0.387278</td>\n",
       "    </tr>\n",
       "    <tr>\n",
       "      <td>unknown</td>\n",
       "      <td>0.206897</td>\n",
       "      <td>0.006897</td>\n",
       "      <td>0.786207</td>\n",
       "    </tr>\n",
       "    <tr>\n",
       "      <td>dry</td>\n",
       "      <td>0.024687</td>\n",
       "      <td>0.003527</td>\n",
       "      <td>0.971787</td>\n",
       "    </tr>\n",
       "  </tbody>\n",
       "</table>\n",
       "</div>"
      ],
      "text/plain": [
       "status_group  functional  functional needs repair  non functional\n",
       "quantity                                                         \n",
       "enough          0.655901                 0.075912        0.268187\n",
       "seasonal        0.569263                 0.084769        0.345968\n",
       "insufficient    0.522561                 0.090160        0.387278\n",
       "unknown         0.206897                 0.006897        0.786207\n",
       "dry             0.024687                 0.003527        0.971787"
      ]
     },
     "execution_count": 364,
     "metadata": {},
     "output_type": "execute_result"
    },
    {
     "data": {
      "image/png": "[encoded data removed]",
      "text/plain": [
       "<Figure size 720x540 with 1 Axes>"
      ]
     },
     "metadata": {
      "needs_background": "light"
     },
     "output_type": "display_data"
    }
   ],
   "source": [
    "quant = pd.crosstab(df.quantity,df.status_group,normalize='index')\n",
    "quant.plot(kind='bar',figsize=(10,7.50),fontsize=10,rot=45)\n",
    "quant.sort_values('functional',ascending=False)"
   ]
  },
  {
   "cell_type": "code",
   "execution_count": 365,
   "metadata": {},
   "outputs": [
    {
     "data": {
      "text/html": [
       "<div>\n",
       "<style scoped>\n",
       "    .dataframe tbody tr th:only-of-type {\n",
       "        vertical-align: middle;\n",
       "    }\n",
       "\n",
       "    .dataframe tbody tr th {\n",
       "        vertical-align: top;\n",
       "    }\n",
       "\n",
       "    .dataframe thead th {\n",
       "        text-align: right;\n",
       "    }\n",
       "</style>\n",
       "<table border=\"1\" class=\"dataframe\">\n",
       "  <thead>\n",
       "    <tr style=\"text-align: right;\">\n",
       "      <th>status_group</th>\n",
       "      <th>functional</th>\n",
       "      <th>needs repair</th>\n",
       "    </tr>\n",
       "    <tr>\n",
       "      <th>quantity</th>\n",
       "      <th></th>\n",
       "      <th></th>\n",
       "    </tr>\n",
       "  </thead>\n",
       "  <tbody>\n",
       "    <tr>\n",
       "      <td>enough</td>\n",
       "      <td>0.655901</td>\n",
       "      <td>0.344099</td>\n",
       "    </tr>\n",
       "    <tr>\n",
       "      <td>seasonal</td>\n",
       "      <td>0.569263</td>\n",
       "      <td>0.430737</td>\n",
       "    </tr>\n",
       "    <tr>\n",
       "      <td>insufficient</td>\n",
       "      <td>0.522561</td>\n",
       "      <td>0.477439</td>\n",
       "    </tr>\n",
       "    <tr>\n",
       "      <td>unknown</td>\n",
       "      <td>0.206897</td>\n",
       "      <td>0.793103</td>\n",
       "    </tr>\n",
       "    <tr>\n",
       "      <td>dry</td>\n",
       "      <td>0.024687</td>\n",
       "      <td>0.975313</td>\n",
       "    </tr>\n",
       "  </tbody>\n",
       "</table>\n",
       "</div>"
      ],
      "text/plain": [
       "status_group  functional  needs repair\n",
       "quantity                              \n",
       "enough          0.655901      0.344099\n",
       "seasonal        0.569263      0.430737\n",
       "insufficient    0.522561      0.477439\n",
       "unknown         0.206897      0.793103\n",
       "dry             0.024687      0.975313"
      ]
     },
     "execution_count": 365,
     "metadata": {},
     "output_type": "execute_result"
    },
    {
     "data": {
      "image/png": "[encoded data removed]",
      "text/plain": [
       "<Figure size 720x540 with 1 Axes>"
      ]
     },
     "metadata": {
      "needs_background": "light"
     },
     "output_type": "display_data"
    }
   ],
   "source": [
    "quantb = pd.crosstab(df_b.quantity,df_b.status_group,normalize='index')\n",
    "quantb.plot(kind='bar',figsize=(10,7.50),fontsize=10,rot=45)\n",
    "quantb.sort_values('functional',ascending=False)"
   ]
  },
  {
   "cell_type": "markdown",
   "metadata": {},
   "source": [
    "#### Feature: Source"
   ]
  },
  {
   "cell_type": "code",
   "execution_count": 127,
   "metadata": {},
   "outputs": [
    {
     "data": {
      "text/plain": [
       "<matplotlib.axes._subplots.AxesSubplot at 0x1a2535d7b8>"
      ]
     },
     "execution_count": 127,
     "metadata": {},
     "output_type": "execute_result"
    },
    {
     "data": {
      "image/png": "[encoded data removed]",
      "text/plain": [
       "<Figure size 432x288 with 1 Axes>"
      ]
     },
     "metadata": {
      "needs_background": "light"
     },
     "output_type": "display_data"
    }
   ],
   "source": [
    "df.source.value_counts().plot(kind='bar')"
   ]
  },
  {
   "cell_type": "code",
   "execution_count": 366,
   "metadata": {},
   "outputs": [
    {
     "data": {
      "text/html": [
       "<div>\n",
       "<style scoped>\n",
       "    .dataframe tbody tr th:only-of-type {\n",
       "        vertical-align: middle;\n",
       "    }\n",
       "\n",
       "    .dataframe tbody tr th {\n",
       "        vertical-align: top;\n",
       "    }\n",
       "\n",
       "    .dataframe thead th {\n",
       "        text-align: right;\n",
       "    }\n",
       "</style>\n",
       "<table border=\"1\" class=\"dataframe\">\n",
       "  <thead>\n",
       "    <tr style=\"text-align: right;\">\n",
       "      <th>status_group</th>\n",
       "      <th>functional</th>\n",
       "      <th>functional needs repair</th>\n",
       "      <th>non functional</th>\n",
       "    </tr>\n",
       "    <tr>\n",
       "      <th>source</th>\n",
       "      <th></th>\n",
       "      <th></th>\n",
       "      <th></th>\n",
       "    </tr>\n",
       "  </thead>\n",
       "  <tbody>\n",
       "    <tr>\n",
       "      <td>other</td>\n",
       "      <td>0.670330</td>\n",
       "      <td>0.005495</td>\n",
       "      <td>0.324176</td>\n",
       "    </tr>\n",
       "    <tr>\n",
       "      <td>spring</td>\n",
       "      <td>0.625742</td>\n",
       "      <td>0.071662</td>\n",
       "      <td>0.302596</td>\n",
       "    </tr>\n",
       "    <tr>\n",
       "      <td>river</td>\n",
       "      <td>0.584529</td>\n",
       "      <td>0.117799</td>\n",
       "      <td>0.297672</td>\n",
       "    </tr>\n",
       "    <tr>\n",
       "      <td>rainwater harvesting</td>\n",
       "      <td>0.581829</td>\n",
       "      <td>0.144368</td>\n",
       "      <td>0.273802</td>\n",
       "    </tr>\n",
       "    <tr>\n",
       "      <td>hand dtw</td>\n",
       "      <td>0.562259</td>\n",
       "      <td>0.019255</td>\n",
       "      <td>0.418485</td>\n",
       "    </tr>\n",
       "    <tr>\n",
       "      <td>Status of all Sources</td>\n",
       "      <td>0.549218</td>\n",
       "      <td>0.071920</td>\n",
       "      <td>0.378862</td>\n",
       "    </tr>\n",
       "    <tr>\n",
       "      <td>shallow well</td>\n",
       "      <td>0.500443</td>\n",
       "      <td>0.059998</td>\n",
       "      <td>0.439559</td>\n",
       "    </tr>\n",
       "    <tr>\n",
       "      <td>machine dbh</td>\n",
       "      <td>0.478280</td>\n",
       "      <td>0.044333</td>\n",
       "      <td>0.477387</td>\n",
       "    </tr>\n",
       "    <tr>\n",
       "      <td>unknown</td>\n",
       "      <td>0.468750</td>\n",
       "      <td>0.093750</td>\n",
       "      <td>0.437500</td>\n",
       "    </tr>\n",
       "    <tr>\n",
       "      <td>dam</td>\n",
       "      <td>0.383821</td>\n",
       "      <td>0.034423</td>\n",
       "      <td>0.581756</td>\n",
       "    </tr>\n",
       "    <tr>\n",
       "      <td>lake</td>\n",
       "      <td>0.231405</td>\n",
       "      <td>0.016529</td>\n",
       "      <td>0.752066</td>\n",
       "    </tr>\n",
       "  </tbody>\n",
       "</table>\n",
       "</div>"
      ],
      "text/plain": [
       "status_group           functional  functional needs repair  non functional\n",
       "source                                                                    \n",
       "other                    0.670330                 0.005495        0.324176\n",
       "spring                   0.625742                 0.071662        0.302596\n",
       "river                    0.584529                 0.117799        0.297672\n",
       "rainwater harvesting     0.581829                 0.144368        0.273802\n",
       "hand dtw                 0.562259                 0.019255        0.418485\n",
       "Status of all Sources    0.549218                 0.071920        0.378862\n",
       "shallow well             0.500443                 0.059998        0.439559\n",
       "machine dbh              0.478280                 0.044333        0.477387\n",
       "unknown                  0.468750                 0.093750        0.437500\n",
       "dam                      0.383821                 0.034423        0.581756\n",
       "lake                     0.231405                 0.016529        0.752066"
      ]
     },
     "execution_count": 366,
     "metadata": {},
     "output_type": "execute_result"
    },
    {
     "data": {
      "image/png": "[encoded data removed]",
      "text/plain": [
       "<Figure size 720x540 with 1 Axes>"
      ]
     },
     "metadata": {
      "needs_background": "light"
     },
     "output_type": "display_data"
    }
   ],
   "source": [
    "src = pd.crosstab(df.source,df.status_group,normalize='index',margins=True,margins_name='Status of all Sources')\n",
    "src.plot(kind='bar',figsize=(10,7.50),fontsize=10,rot=45)\n",
    "src.sort_values('functional',ascending=False)"
   ]
  },
  {
   "cell_type": "code",
   "execution_count": 367,
   "metadata": {},
   "outputs": [
    {
     "data": {
      "text/html": [
       "<div>\n",
       "<style scoped>\n",
       "    .dataframe tbody tr th:only-of-type {\n",
       "        vertical-align: middle;\n",
       "    }\n",
       "\n",
       "    .dataframe tbody tr th {\n",
       "        vertical-align: top;\n",
       "    }\n",
       "\n",
       "    .dataframe thead th {\n",
       "        text-align: right;\n",
       "    }\n",
       "</style>\n",
       "<table border=\"1\" class=\"dataframe\">\n",
       "  <thead>\n",
       "    <tr style=\"text-align: right;\">\n",
       "      <th>status_group</th>\n",
       "      <th>functional</th>\n",
       "      <th>needs repair</th>\n",
       "    </tr>\n",
       "    <tr>\n",
       "      <th>source</th>\n",
       "      <th></th>\n",
       "      <th></th>\n",
       "    </tr>\n",
       "  </thead>\n",
       "  <tbody>\n",
       "    <tr>\n",
       "      <td>other</td>\n",
       "      <td>0.670330</td>\n",
       "      <td>0.329670</td>\n",
       "    </tr>\n",
       "    <tr>\n",
       "      <td>spring</td>\n",
       "      <td>0.625742</td>\n",
       "      <td>0.374258</td>\n",
       "    </tr>\n",
       "    <tr>\n",
       "      <td>river</td>\n",
       "      <td>0.584529</td>\n",
       "      <td>0.415471</td>\n",
       "    </tr>\n",
       "    <tr>\n",
       "      <td>rainwater harvesting</td>\n",
       "      <td>0.581829</td>\n",
       "      <td>0.418171</td>\n",
       "    </tr>\n",
       "    <tr>\n",
       "      <td>hand dtw</td>\n",
       "      <td>0.562259</td>\n",
       "      <td>0.437741</td>\n",
       "    </tr>\n",
       "    <tr>\n",
       "      <td>Status of all Sources</td>\n",
       "      <td>0.549218</td>\n",
       "      <td>0.450782</td>\n",
       "    </tr>\n",
       "    <tr>\n",
       "      <td>shallow well</td>\n",
       "      <td>0.500443</td>\n",
       "      <td>0.499557</td>\n",
       "    </tr>\n",
       "    <tr>\n",
       "      <td>machine dbh</td>\n",
       "      <td>0.478280</td>\n",
       "      <td>0.521720</td>\n",
       "    </tr>\n",
       "    <tr>\n",
       "      <td>unknown</td>\n",
       "      <td>0.468750</td>\n",
       "      <td>0.531250</td>\n",
       "    </tr>\n",
       "    <tr>\n",
       "      <td>dam</td>\n",
       "      <td>0.383821</td>\n",
       "      <td>0.616179</td>\n",
       "    </tr>\n",
       "    <tr>\n",
       "      <td>lake</td>\n",
       "      <td>0.231405</td>\n",
       "      <td>0.768595</td>\n",
       "    </tr>\n",
       "  </tbody>\n",
       "</table>\n",
       "</div>"
      ],
      "text/plain": [
       "status_group           functional  needs repair\n",
       "source                                         \n",
       "other                    0.670330      0.329670\n",
       "spring                   0.625742      0.374258\n",
       "river                    0.584529      0.415471\n",
       "rainwater harvesting     0.581829      0.418171\n",
       "hand dtw                 0.562259      0.437741\n",
       "Status of all Sources    0.549218      0.450782\n",
       "shallow well             0.500443      0.499557\n",
       "machine dbh              0.478280      0.521720\n",
       "unknown                  0.468750      0.531250\n",
       "dam                      0.383821      0.616179\n",
       "lake                     0.231405      0.768595"
      ]
     },
     "execution_count": 367,
     "metadata": {},
     "output_type": "execute_result"
    },
    {
     "data": {
      "image/png": "[encoded data removed]",
      "text/plain": [
       "<Figure size 720x540 with 1 Axes>"
      ]
     },
     "metadata": {
      "needs_background": "light"
     },
     "output_type": "display_data"
    }
   ],
   "source": [
    "srcb = pd.crosstab(df_b.source,df_b.status_group,normalize='index',margins=True,margins_name='Status of all Sources')\n",
    "srcb.plot(kind='bar',figsize=(10,7.50),fontsize=10,rot=45)\n",
    "srcb.sort_values('functional',ascending=False)"
   ]
  },
  {
   "cell_type": "markdown",
   "metadata": {},
   "source": [
    "#### Source Class"
   ]
  },
  {
   "cell_type": "code",
   "execution_count": 22,
   "metadata": {},
   "outputs": [
    {
     "data": {
      "text/plain": [
       "<matplotlib.axes._subplots.AxesSubplot at 0x1a20d92278>"
      ]
     },
     "execution_count": 22,
     "metadata": {},
     "output_type": "execute_result"
    },
    {
     "data": {
      "image/png": "[encoded data removed]",
      "text/plain": [
       "<Figure size 432x288 with 1 Axes>"
      ]
     },
     "metadata": {
      "needs_background": "light"
     },
     "output_type": "display_data"
    }
   ],
   "source": [
    "df.source_class.value_counts().plot(kind='bar')"
   ]
  },
  {
   "cell_type": "code",
   "execution_count": 368,
   "metadata": {},
   "outputs": [
    {
     "data": {
      "text/html": [
       "<div>\n",
       "<style scoped>\n",
       "    .dataframe tbody tr th:only-of-type {\n",
       "        vertical-align: middle;\n",
       "    }\n",
       "\n",
       "    .dataframe tbody tr th {\n",
       "        vertical-align: top;\n",
       "    }\n",
       "\n",
       "    .dataframe thead th {\n",
       "        text-align: right;\n",
       "    }\n",
       "</style>\n",
       "<table border=\"1\" class=\"dataframe\">\n",
       "  <thead>\n",
       "    <tr style=\"text-align: right;\">\n",
       "      <th>status_group</th>\n",
       "      <th>functional</th>\n",
       "      <th>functional needs repair</th>\n",
       "      <th>non functional</th>\n",
       "    </tr>\n",
       "    <tr>\n",
       "      <th>source_class</th>\n",
       "      <th></th>\n",
       "      <th></th>\n",
       "      <th></th>\n",
       "    </tr>\n",
       "  </thead>\n",
       "  <tbody>\n",
       "    <tr>\n",
       "      <td>unknown</td>\n",
       "      <td>0.640187</td>\n",
       "      <td>0.018692</td>\n",
       "      <td>0.341121</td>\n",
       "    </tr>\n",
       "    <tr>\n",
       "      <td>surface</td>\n",
       "      <td>0.554916</td>\n",
       "      <td>0.111868</td>\n",
       "      <td>0.333215</td>\n",
       "    </tr>\n",
       "    <tr>\n",
       "      <td>All</td>\n",
       "      <td>0.549218</td>\n",
       "      <td>0.071920</td>\n",
       "      <td>0.378862</td>\n",
       "    </tr>\n",
       "    <tr>\n",
       "      <td>groundwater</td>\n",
       "      <td>0.546960</td>\n",
       "      <td>0.060073</td>\n",
       "      <td>0.392967</td>\n",
       "    </tr>\n",
       "  </tbody>\n",
       "</table>\n",
       "</div>"
      ],
      "text/plain": [
       "status_group  functional  functional needs repair  non functional\n",
       "source_class                                                     \n",
       "unknown         0.640187                 0.018692        0.341121\n",
       "surface         0.554916                 0.111868        0.333215\n",
       "All             0.549218                 0.071920        0.378862\n",
       "groundwater     0.546960                 0.060073        0.392967"
      ]
     },
     "execution_count": 368,
     "metadata": {},
     "output_type": "execute_result"
    },
    {
     "data": {
      "image/png": "[encoded data removed]",
      "text/plain": [
       "<Figure size 720x540 with 1 Axes>"
      ]
     },
     "metadata": {
      "needs_background": "light"
     },
     "output_type": "display_data"
    }
   ],
   "source": [
    "srcc = pd.crosstab(df.source_class,df.status_group,margins=True,normalize='index')#\n",
    "srcc.plot(kind='bar',figsize=(10,7.5),rot=45)\n",
    "srcc.sort_values('functional',ascending=False)"
   ]
  },
  {
   "cell_type": "code",
   "execution_count": 369,
   "metadata": {},
   "outputs": [
    {
     "data": {
      "text/html": [
       "<div>\n",
       "<style scoped>\n",
       "    .dataframe tbody tr th:only-of-type {\n",
       "        vertical-align: middle;\n",
       "    }\n",
       "\n",
       "    .dataframe tbody tr th {\n",
       "        vertical-align: top;\n",
       "    }\n",
       "\n",
       "    .dataframe thead th {\n",
       "        text-align: right;\n",
       "    }\n",
       "</style>\n",
       "<table border=\"1\" class=\"dataframe\">\n",
       "  <thead>\n",
       "    <tr style=\"text-align: right;\">\n",
       "      <th>status_group</th>\n",
       "      <th>functional</th>\n",
       "      <th>needs repair</th>\n",
       "    </tr>\n",
       "    <tr>\n",
       "      <th>source_class</th>\n",
       "      <th></th>\n",
       "      <th></th>\n",
       "    </tr>\n",
       "  </thead>\n",
       "  <tbody>\n",
       "    <tr>\n",
       "      <td>unknown</td>\n",
       "      <td>0.640187</td>\n",
       "      <td>0.359813</td>\n",
       "    </tr>\n",
       "    <tr>\n",
       "      <td>surface</td>\n",
       "      <td>0.554916</td>\n",
       "      <td>0.445084</td>\n",
       "    </tr>\n",
       "    <tr>\n",
       "      <td>All</td>\n",
       "      <td>0.549218</td>\n",
       "      <td>0.450782</td>\n",
       "    </tr>\n",
       "    <tr>\n",
       "      <td>groundwater</td>\n",
       "      <td>0.546960</td>\n",
       "      <td>0.453040</td>\n",
       "    </tr>\n",
       "  </tbody>\n",
       "</table>\n",
       "</div>"
      ],
      "text/plain": [
       "status_group  functional  needs repair\n",
       "source_class                          \n",
       "unknown         0.640187      0.359813\n",
       "surface         0.554916      0.445084\n",
       "All             0.549218      0.450782\n",
       "groundwater     0.546960      0.453040"
      ]
     },
     "execution_count": 369,
     "metadata": {},
     "output_type": "execute_result"
    },
    {
     "data": {
      "image/png": "[encoded data removed]",
      "text/plain": [
       "<Figure size 720x540 with 1 Axes>"
      ]
     },
     "metadata": {
      "needs_background": "light"
     },
     "output_type": "display_data"
    }
   ],
   "source": [
    "srccb = pd.crosstab(df_b.source_class,df_b.status_group,margins=True,normalize='index')#\n",
    "srccb.plot(kind='bar',figsize=(10,7.5),rot=45)\n",
    "srccb.sort_values('functional',ascending=False)"
   ]
  },
  {
   "cell_type": "markdown",
   "metadata": {},
   "source": [
    "#### Feature: Basin"
   ]
  },
  {
   "cell_type": "code",
   "execution_count": 24,
   "metadata": {},
   "outputs": [
    {
     "data": {
      "text/plain": [
       "<matplotlib.axes._subplots.AxesSubplot at 0x1a210aa0b8>"
      ]
     },
     "execution_count": 24,
     "metadata": {},
     "output_type": "execute_result"
    },
    {
     "data": {
      "image/png": "[encoded data removed]",
      "text/plain": [
       "<Figure size 432x288 with 1 Axes>"
      ]
     },
     "metadata": {
      "needs_background": "light"
     },
     "output_type": "display_data"
    }
   ],
   "source": [
    "df.basin.value_counts().plot(kind='bar')"
   ]
  },
  {
   "cell_type": "code",
   "execution_count": 467,
   "metadata": {},
   "outputs": [
    {
     "data": {
      "text/html": [
       "<div>\n",
       "<style scoped>\n",
       "    .dataframe tbody tr th:only-of-type {\n",
       "        vertical-align: middle;\n",
       "    }\n",
       "\n",
       "    .dataframe tbody tr th {\n",
       "        vertical-align: top;\n",
       "    }\n",
       "\n",
       "    .dataframe thead th {\n",
       "        text-align: right;\n",
       "    }\n",
       "</style>\n",
       "<table border=\"1\" class=\"dataframe\">\n",
       "  <thead>\n",
       "    <tr style=\"text-align: right;\">\n",
       "      <th>status_group</th>\n",
       "      <th>functional</th>\n",
       "      <th>needs repair</th>\n",
       "    </tr>\n",
       "    <tr>\n",
       "      <th>basin</th>\n",
       "      <th></th>\n",
       "      <th></th>\n",
       "    </tr>\n",
       "  </thead>\n",
       "  <tbody>\n",
       "    <tr>\n",
       "      <td>Lake Nyasa</td>\n",
       "      <td>0.692239</td>\n",
       "      <td>0.307761</td>\n",
       "    </tr>\n",
       "    <tr>\n",
       "      <td>Rufiji</td>\n",
       "      <td>0.668380</td>\n",
       "      <td>0.331620</td>\n",
       "    </tr>\n",
       "    <tr>\n",
       "      <td>Pangani</td>\n",
       "      <td>0.602927</td>\n",
       "      <td>0.397073</td>\n",
       "    </tr>\n",
       "    <tr>\n",
       "      <td>Internal</td>\n",
       "      <td>0.601625</td>\n",
       "      <td>0.398375</td>\n",
       "    </tr>\n",
       "    <tr>\n",
       "      <td>All</td>\n",
       "      <td>0.549218</td>\n",
       "      <td>0.450782</td>\n",
       "    </tr>\n",
       "    <tr>\n",
       "      <td>Wami / Ruvu</td>\n",
       "      <td>0.510386</td>\n",
       "      <td>0.489614</td>\n",
       "    </tr>\n",
       "    <tr>\n",
       "      <td>Lake Victoria</td>\n",
       "      <td>0.493102</td>\n",
       "      <td>0.506898</td>\n",
       "    </tr>\n",
       "    <tr>\n",
       "      <td>Lake Tanganyika</td>\n",
       "      <td>0.477132</td>\n",
       "      <td>0.522868</td>\n",
       "    </tr>\n",
       "    <tr>\n",
       "      <td>Lake Rukwa</td>\n",
       "      <td>0.411324</td>\n",
       "      <td>0.588676</td>\n",
       "    </tr>\n",
       "    <tr>\n",
       "      <td>Ruvuma / Southern Coast</td>\n",
       "      <td>0.380680</td>\n",
       "      <td>0.619320</td>\n",
       "    </tr>\n",
       "  </tbody>\n",
       "</table>\n",
       "</div>"
      ],
      "text/plain": [
       "status_group             functional  needs repair\n",
       "basin                                            \n",
       "Lake Nyasa                 0.692239      0.307761\n",
       "Rufiji                     0.668380      0.331620\n",
       "Pangani                    0.602927      0.397073\n",
       "Internal                   0.601625      0.398375\n",
       "All                        0.549218      0.450782\n",
       "Wami / Ruvu                0.510386      0.489614\n",
       "Lake Victoria              0.493102      0.506898\n",
       "Lake Tanganyika            0.477132      0.522868\n",
       "Lake Rukwa                 0.411324      0.588676\n",
       "Ruvuma / Southern Coast    0.380680      0.619320"
      ]
     },
     "execution_count": 467,
     "metadata": {},
     "output_type": "execute_result"
    },
    {
     "data": {
      "image/png": "[encoded data removed]",
      "text/plain": [
       "<Figure size 720x540 with 1 Axes>"
      ]
     },
     "metadata": {
      "needs_background": "light"
     },
     "output_type": "display_data"
    }
   ],
   "source": [
    "basin = pd.crosstab([df_b.basin],df_b.status_group,margins=True,normalize='index')#\n",
    "basin.plot(kind='bar',figsize=(10,7.5),rot=45)\n",
    "basin.sort_values('functional',ascending=False)"
   ]
  },
  {
   "cell_type": "markdown",
   "metadata": {},
   "source": [
    "do they have different water?"
   ]
  },
  {
   "cell_type": "code",
   "execution_count": null,
   "metadata": {},
   "outputs": [],
   "source": []
  },
  {
   "cell_type": "code",
   "execution_count": null,
   "metadata": {},
   "outputs": [],
   "source": []
  },
  {
   "cell_type": "code",
   "execution_count": null,
   "metadata": {},
   "outputs": [],
   "source": []
  },
  {
   "cell_type": "code",
   "execution_count": null,
   "metadata": {},
   "outputs": [],
   "source": []
  },
  {
   "cell_type": "code",
   "execution_count": null,
   "metadata": {},
   "outputs": [],
   "source": []
  },
  {
   "cell_type": "markdown",
   "metadata": {},
   "source": [
    "### Waterpoint"
   ]
  },
  {
   "cell_type": "markdown",
   "metadata": {},
   "source": [
    "#### Feature: Waterpoint Age"
   ]
  },
  {
   "cell_type": "code",
   "execution_count": 26,
   "metadata": {},
   "outputs": [
    {
     "data": {
      "text/plain": [
       "<matplotlib.axes._subplots.AxesSubplot at 0x1a20499128>"
      ]
     },
     "execution_count": 26,
     "metadata": {},
     "output_type": "execute_result"
    },
    {
     "data": {
      "image/png": "[encoded data removed]",
      "text/plain": [
       "<Figure size 432x288 with 1 Axes>"
      ]
     },
     "metadata": {
      "needs_background": "light"
     },
     "output_type": "display_data"
    }
   ],
   "source": [
    "df.age.plot(kind='hist') #knn? "
   ]
  },
  {
   "cell_type": "code",
   "execution_count": 371,
   "metadata": {},
   "outputs": [],
   "source": [
    "agebins = range(0, df.age.max(), 10)\n",
    "df['age_bucket'] = pd.cut(df.age, bins=agebins)"
   ]
  },
  {
   "cell_type": "code",
   "execution_count": 372,
   "metadata": {},
   "outputs": [
    {
     "data": {
      "text/html": [
       "<div>\n",
       "<style scoped>\n",
       "    .dataframe tbody tr th:only-of-type {\n",
       "        vertical-align: middle;\n",
       "    }\n",
       "\n",
       "    .dataframe tbody tr th {\n",
       "        vertical-align: top;\n",
       "    }\n",
       "\n",
       "    .dataframe thead th {\n",
       "        text-align: right;\n",
       "    }\n",
       "</style>\n",
       "<table border=\"1\" class=\"dataframe\">\n",
       "  <thead>\n",
       "    <tr style=\"text-align: right;\">\n",
       "      <th>status_group</th>\n",
       "      <th>functional</th>\n",
       "      <th>functional needs repair</th>\n",
       "      <th>non functional</th>\n",
       "    </tr>\n",
       "    <tr>\n",
       "      <th>age_bucket</th>\n",
       "      <th></th>\n",
       "      <th></th>\n",
       "      <th></th>\n",
       "    </tr>\n",
       "  </thead>\n",
       "  <tbody>\n",
       "    <tr>\n",
       "      <td>(0, 10]</td>\n",
       "      <td>0.733616</td>\n",
       "      <td>0.045851</td>\n",
       "      <td>0.220533</td>\n",
       "    </tr>\n",
       "    <tr>\n",
       "      <td>(10, 20]</td>\n",
       "      <td>0.661978</td>\n",
       "      <td>0.063445</td>\n",
       "      <td>0.274577</td>\n",
       "    </tr>\n",
       "    <tr>\n",
       "      <td>(20, 30]</td>\n",
       "      <td>0.519066</td>\n",
       "      <td>0.077709</td>\n",
       "      <td>0.403226</td>\n",
       "    </tr>\n",
       "    <tr>\n",
       "      <td>(30, 40]</td>\n",
       "      <td>0.421561</td>\n",
       "      <td>0.079261</td>\n",
       "      <td>0.499179</td>\n",
       "    </tr>\n",
       "    <tr>\n",
       "      <td>(40, 50]</td>\n",
       "      <td>0.335172</td>\n",
       "      <td>0.083480</td>\n",
       "      <td>0.581349</td>\n",
       "    </tr>\n",
       "  </tbody>\n",
       "</table>\n",
       "</div>"
      ],
      "text/plain": [
       "status_group  functional  functional needs repair  non functional\n",
       "age_bucket                                                       \n",
       "(0, 10]         0.733616                 0.045851        0.220533\n",
       "(10, 20]        0.661978                 0.063445        0.274577\n",
       "(20, 30]        0.519066                 0.077709        0.403226\n",
       "(30, 40]        0.421561                 0.079261        0.499179\n",
       "(40, 50]        0.335172                 0.083480        0.581349"
      ]
     },
     "execution_count": 372,
     "metadata": {},
     "output_type": "execute_result"
    },
    {
     "data": {
      "image/png": "[encoded data removed]",
      "text/plain": [
       "<Figure size 720x540 with 1 Axes>"
      ]
     },
     "metadata": {
      "needs_background": "light"
     },
     "output_type": "display_data"
    }
   ],
   "source": [
    "ages = pd.crosstab(df.age_bucket,df.status_group,normalize='index')\n",
    "ages.plot(kind='bar',figsize=(10,7.5),title='title',rot=45)\n",
    "ages"
   ]
  },
  {
   "cell_type": "markdown",
   "metadata": {},
   "source": [
    "###### **Binary**"
   ]
  },
  {
   "cell_type": "code",
   "execution_count": 374,
   "metadata": {},
   "outputs": [],
   "source": [
    "mybins = range(0, df_b.age.max(), 10)\n",
    "df_b['age_bucket'] = pd.cut(df_b.age, bins=mybins)"
   ]
  },
  {
   "cell_type": "code",
   "execution_count": 375,
   "metadata": {},
   "outputs": [
    {
     "data": {
      "text/html": [
       "<div>\n",
       "<style scoped>\n",
       "    .dataframe tbody tr th:only-of-type {\n",
       "        vertical-align: middle;\n",
       "    }\n",
       "\n",
       "    .dataframe tbody tr th {\n",
       "        vertical-align: top;\n",
       "    }\n",
       "\n",
       "    .dataframe thead th {\n",
       "        text-align: right;\n",
       "    }\n",
       "</style>\n",
       "<table border=\"1\" class=\"dataframe\">\n",
       "  <thead>\n",
       "    <tr style=\"text-align: right;\">\n",
       "      <th>status_group</th>\n",
       "      <th>functional</th>\n",
       "      <th>needs repair</th>\n",
       "    </tr>\n",
       "    <tr>\n",
       "      <th>age_bucket</th>\n",
       "      <th></th>\n",
       "      <th></th>\n",
       "    </tr>\n",
       "  </thead>\n",
       "  <tbody>\n",
       "    <tr>\n",
       "      <td>(0, 10]</td>\n",
       "      <td>0.733616</td>\n",
       "      <td>0.266384</td>\n",
       "    </tr>\n",
       "    <tr>\n",
       "      <td>(10, 20]</td>\n",
       "      <td>0.661978</td>\n",
       "      <td>0.338022</td>\n",
       "    </tr>\n",
       "    <tr>\n",
       "      <td>(20, 30]</td>\n",
       "      <td>0.519066</td>\n",
       "      <td>0.480934</td>\n",
       "    </tr>\n",
       "    <tr>\n",
       "      <td>(30, 40]</td>\n",
       "      <td>0.421561</td>\n",
       "      <td>0.578439</td>\n",
       "    </tr>\n",
       "    <tr>\n",
       "      <td>(40, 50]</td>\n",
       "      <td>0.335172</td>\n",
       "      <td>0.664828</td>\n",
       "    </tr>\n",
       "  </tbody>\n",
       "</table>\n",
       "</div>"
      ],
      "text/plain": [
       "status_group  functional  needs repair\n",
       "age_bucket                            \n",
       "(0, 10]         0.733616      0.266384\n",
       "(10, 20]        0.661978      0.338022\n",
       "(20, 30]        0.519066      0.480934\n",
       "(30, 40]        0.421561      0.578439\n",
       "(40, 50]        0.335172      0.664828"
      ]
     },
     "execution_count": 375,
     "metadata": {},
     "output_type": "execute_result"
    },
    {
     "data": {
      "image/png": "[encoded data removed]",
      "text/plain": [
       "<Figure size 720x720 with 1 Axes>"
      ]
     },
     "metadata": {
      "needs_background": "light"
     },
     "output_type": "display_data"
    }
   ],
   "source": [
    "ages_b = pd.crosstab(df_b.age_bucket,df_b.status_group,normalize='index')\n",
    "ages_b.plot(kind='bar',figsize=(10,10),rot=45)\n",
    "ages_b"
   ]
  },
  {
   "cell_type": "markdown",
   "metadata": {},
   "source": [
    "did the technology change?"
   ]
  },
  {
   "cell_type": "code",
   "execution_count": null,
   "metadata": {},
   "outputs": [],
   "source": []
  },
  {
   "cell_type": "code",
   "execution_count": null,
   "metadata": {},
   "outputs": [],
   "source": []
  },
  {
   "cell_type": "code",
   "execution_count": null,
   "metadata": {},
   "outputs": [],
   "source": []
  },
  {
   "cell_type": "markdown",
   "metadata": {},
   "source": [
    "#### Feature: Waterpoint Type"
   ]
  },
  {
   "cell_type": "code",
   "execution_count": 36,
   "metadata": {},
   "outputs": [
    {
     "data": {
      "text/plain": [
       "<matplotlib.axes._subplots.AxesSubplot at 0x1a205500f0>"
      ]
     },
     "execution_count": 36,
     "metadata": {},
     "output_type": "execute_result"
    },
    {
     "data": {
      "image/png": "[encoded data removed]",
      "text/plain": [
       "<Figure size 432x288 with 1 Axes>"
      ]
     },
     "metadata": {
      "needs_background": "light"
     },
     "output_type": "display_data"
    }
   ],
   "source": [
    "df.waterpoint_type.value_counts().plot(kind='bar')"
   ]
  },
  {
   "cell_type": "code",
   "execution_count": 376,
   "metadata": {},
   "outputs": [
    {
     "data": {
      "text/html": [
       "<div>\n",
       "<style scoped>\n",
       "    .dataframe tbody tr th:only-of-type {\n",
       "        vertical-align: middle;\n",
       "    }\n",
       "\n",
       "    .dataframe tbody tr th {\n",
       "        vertical-align: top;\n",
       "    }\n",
       "\n",
       "    .dataframe thead th {\n",
       "        text-align: right;\n",
       "    }\n",
       "</style>\n",
       "<table border=\"1\" class=\"dataframe\">\n",
       "  <thead>\n",
       "    <tr style=\"text-align: right;\">\n",
       "      <th>status_group</th>\n",
       "      <th>functional</th>\n",
       "      <th>functional needs repair</th>\n",
       "      <th>non functional</th>\n",
       "    </tr>\n",
       "    <tr>\n",
       "      <th>waterpoint_type</th>\n",
       "      <th></th>\n",
       "      <th></th>\n",
       "      <th></th>\n",
       "    </tr>\n",
       "  </thead>\n",
       "  <tbody>\n",
       "    <tr>\n",
       "      <td>dam</td>\n",
       "      <td>1.000000</td>\n",
       "      <td>0.000000</td>\n",
       "      <td>0.000000</td>\n",
       "    </tr>\n",
       "    <tr>\n",
       "      <td>cattle trough</td>\n",
       "      <td>0.756098</td>\n",
       "      <td>0.024390</td>\n",
       "      <td>0.219512</td>\n",
       "    </tr>\n",
       "    <tr>\n",
       "      <td>improved spring</td>\n",
       "      <td>0.721966</td>\n",
       "      <td>0.102919</td>\n",
       "      <td>0.175115</td>\n",
       "    </tr>\n",
       "    <tr>\n",
       "      <td>communal standpipe</td>\n",
       "      <td>0.631221</td>\n",
       "      <td>0.073564</td>\n",
       "      <td>0.295215</td>\n",
       "    </tr>\n",
       "    <tr>\n",
       "      <td>hand pump</td>\n",
       "      <td>0.616306</td>\n",
       "      <td>0.059624</td>\n",
       "      <td>0.324070</td>\n",
       "    </tr>\n",
       "    <tr>\n",
       "      <td>communal standpipe multiple</td>\n",
       "      <td>0.370156</td>\n",
       "      <td>0.110644</td>\n",
       "      <td>0.519200</td>\n",
       "    </tr>\n",
       "    <tr>\n",
       "      <td>other</td>\n",
       "      <td>0.122234</td>\n",
       "      <td>0.048550</td>\n",
       "      <td>0.829216</td>\n",
       "    </tr>\n",
       "  </tbody>\n",
       "</table>\n",
       "</div>"
      ],
      "text/plain": [
       "status_group                 functional  functional needs repair  \\\n",
       "waterpoint_type                                                    \n",
       "dam                            1.000000                 0.000000   \n",
       "cattle trough                  0.756098                 0.024390   \n",
       "improved spring                0.721966                 0.102919   \n",
       "communal standpipe             0.631221                 0.073564   \n",
       "hand pump                      0.616306                 0.059624   \n",
       "communal standpipe multiple    0.370156                 0.110644   \n",
       "other                          0.122234                 0.048550   \n",
       "\n",
       "status_group                 non functional  \n",
       "waterpoint_type                              \n",
       "dam                                0.000000  \n",
       "cattle trough                      0.219512  \n",
       "improved spring                    0.175115  \n",
       "communal standpipe                 0.295215  \n",
       "hand pump                          0.324070  \n",
       "communal standpipe multiple        0.519200  \n",
       "other                              0.829216  "
      ]
     },
     "execution_count": 376,
     "metadata": {},
     "output_type": "execute_result"
    },
    {
     "data": {
      "image/png": "[encoded data removed]",
      "text/plain": [
       "<Figure size 720x540 with 1 Axes>"
      ]
     },
     "metadata": {
      "needs_background": "light"
     },
     "output_type": "display_data"
    }
   ],
   "source": [
    "wpttp = pd.crosstab(df.waterpoint_type,df.status_group,normalize='index')\n",
    "wpttp.plot(kind='bar',figsize=(10,7.5),rot=45)\n",
    "wpttp.sort_values('functional',ascending=False)"
   ]
  },
  {
   "cell_type": "markdown",
   "metadata": {},
   "source": [
    "###### **Binary**"
   ]
  },
  {
   "cell_type": "code",
   "execution_count": 377,
   "metadata": {},
   "outputs": [
    {
     "data": {
      "text/html": [
       "<div>\n",
       "<style scoped>\n",
       "    .dataframe tbody tr th:only-of-type {\n",
       "        vertical-align: middle;\n",
       "    }\n",
       "\n",
       "    .dataframe tbody tr th {\n",
       "        vertical-align: top;\n",
       "    }\n",
       "\n",
       "    .dataframe thead th {\n",
       "        text-align: right;\n",
       "    }\n",
       "</style>\n",
       "<table border=\"1\" class=\"dataframe\">\n",
       "  <thead>\n",
       "    <tr style=\"text-align: right;\">\n",
       "      <th>status_group</th>\n",
       "      <th>functional</th>\n",
       "      <th>needs repair</th>\n",
       "    </tr>\n",
       "    <tr>\n",
       "      <th>waterpoint_type</th>\n",
       "      <th></th>\n",
       "      <th></th>\n",
       "    </tr>\n",
       "  </thead>\n",
       "  <tbody>\n",
       "    <tr>\n",
       "      <td>dam</td>\n",
       "      <td>1.000000</td>\n",
       "      <td>0.000000</td>\n",
       "    </tr>\n",
       "    <tr>\n",
       "      <td>cattle trough</td>\n",
       "      <td>0.756098</td>\n",
       "      <td>0.243902</td>\n",
       "    </tr>\n",
       "    <tr>\n",
       "      <td>improved spring</td>\n",
       "      <td>0.721966</td>\n",
       "      <td>0.278034</td>\n",
       "    </tr>\n",
       "    <tr>\n",
       "      <td>communal standpipe</td>\n",
       "      <td>0.631221</td>\n",
       "      <td>0.368779</td>\n",
       "    </tr>\n",
       "    <tr>\n",
       "      <td>hand pump</td>\n",
       "      <td>0.616306</td>\n",
       "      <td>0.383694</td>\n",
       "    </tr>\n",
       "    <tr>\n",
       "      <td>communal standpipe multiple</td>\n",
       "      <td>0.370156</td>\n",
       "      <td>0.629844</td>\n",
       "    </tr>\n",
       "    <tr>\n",
       "      <td>other</td>\n",
       "      <td>0.122234</td>\n",
       "      <td>0.877766</td>\n",
       "    </tr>\n",
       "  </tbody>\n",
       "</table>\n",
       "</div>"
      ],
      "text/plain": [
       "status_group                 functional  needs repair\n",
       "waterpoint_type                                      \n",
       "dam                            1.000000      0.000000\n",
       "cattle trough                  0.756098      0.243902\n",
       "improved spring                0.721966      0.278034\n",
       "communal standpipe             0.631221      0.368779\n",
       "hand pump                      0.616306      0.383694\n",
       "communal standpipe multiple    0.370156      0.629844\n",
       "other                          0.122234      0.877766"
      ]
     },
     "execution_count": 377,
     "metadata": {},
     "output_type": "execute_result"
    },
    {
     "data": {
      "image/png": "[encoded data removed]",
      "text/plain": [
       "<Figure size 720x540 with 1 Axes>"
      ]
     },
     "metadata": {
      "needs_background": "light"
     },
     "output_type": "display_data"
    }
   ],
   "source": [
    "wpttpb = pd.crosstab(df_b.waterpoint_type,df_b.status_group,normalize='index')\n",
    "wpttpb.plot(kind='bar',figsize=(10,7.5),rot=45)\n",
    "wpttpb.sort_values('functional',ascending=False)"
   ]
  },
  {
   "cell_type": "markdown",
   "metadata": {},
   "source": [
    "#### Extraction Type"
   ]
  },
  {
   "cell_type": "code",
   "execution_count": 136,
   "metadata": {},
   "outputs": [
    {
     "data": {
      "text/plain": [
       "<matplotlib.axes._subplots.AxesSubplot at 0x1a2514dbe0>"
      ]
     },
     "execution_count": 136,
     "metadata": {},
     "output_type": "execute_result"
    },
    {
     "data": {
      "image/png": "[encoded data removed]",
      "text/plain": [
       "<Figure size 432x288 with 1 Axes>"
      ]
     },
     "metadata": {
      "needs_background": "light"
     },
     "output_type": "display_data"
    }
   ],
   "source": [
    "df.extraction_type_class.value_counts().plot(kind='bar')"
   ]
  },
  {
   "cell_type": "code",
   "execution_count": 378,
   "metadata": {},
   "outputs": [
    {
     "data": {
      "text/html": [
       "<div>\n",
       "<style scoped>\n",
       "    .dataframe tbody tr th:only-of-type {\n",
       "        vertical-align: middle;\n",
       "    }\n",
       "\n",
       "    .dataframe tbody tr th {\n",
       "        vertical-align: top;\n",
       "    }\n",
       "\n",
       "    .dataframe thead th {\n",
       "        text-align: right;\n",
       "    }\n",
       "</style>\n",
       "<table border=\"1\" class=\"dataframe\">\n",
       "  <thead>\n",
       "    <tr style=\"text-align: right;\">\n",
       "      <th>status_group</th>\n",
       "      <th>functional</th>\n",
       "      <th>functional needs repair</th>\n",
       "      <th>non functional</th>\n",
       "    </tr>\n",
       "    <tr>\n",
       "      <th>extraction_type_class</th>\n",
       "      <th></th>\n",
       "      <th></th>\n",
       "      <th></th>\n",
       "    </tr>\n",
       "  </thead>\n",
       "  <tbody>\n",
       "    <tr>\n",
       "      <td>rope pump</td>\n",
       "      <td>0.636792</td>\n",
       "      <td>0.033019</td>\n",
       "      <td>0.330189</td>\n",
       "    </tr>\n",
       "    <tr>\n",
       "      <td>handpump</td>\n",
       "      <td>0.629644</td>\n",
       "      <td>0.061068</td>\n",
       "      <td>0.309288</td>\n",
       "    </tr>\n",
       "    <tr>\n",
       "      <td>gravity</td>\n",
       "      <td>0.609020</td>\n",
       "      <td>0.097151</td>\n",
       "      <td>0.293828</td>\n",
       "    </tr>\n",
       "    <tr>\n",
       "      <td>submersible</td>\n",
       "      <td>0.521346</td>\n",
       "      <td>0.040134</td>\n",
       "      <td>0.438521</td>\n",
       "    </tr>\n",
       "    <tr>\n",
       "      <td>wind-powered</td>\n",
       "      <td>0.413462</td>\n",
       "      <td>0.067308</td>\n",
       "      <td>0.519231</td>\n",
       "    </tr>\n",
       "    <tr>\n",
       "      <td>motorpump</td>\n",
       "      <td>0.394275</td>\n",
       "      <td>0.045038</td>\n",
       "      <td>0.560687</td>\n",
       "    </tr>\n",
       "    <tr>\n",
       "      <td>other</td>\n",
       "      <td>0.134963</td>\n",
       "      <td>0.027081</td>\n",
       "      <td>0.837957</td>\n",
       "    </tr>\n",
       "  </tbody>\n",
       "</table>\n",
       "</div>"
      ],
      "text/plain": [
       "status_group           functional  functional needs repair  non functional\n",
       "extraction_type_class                                                     \n",
       "rope pump                0.636792                 0.033019        0.330189\n",
       "handpump                 0.629644                 0.061068        0.309288\n",
       "gravity                  0.609020                 0.097151        0.293828\n",
       "submersible              0.521346                 0.040134        0.438521\n",
       "wind-powered             0.413462                 0.067308        0.519231\n",
       "motorpump                0.394275                 0.045038        0.560687\n",
       "other                    0.134963                 0.027081        0.837957"
      ]
     },
     "execution_count": 378,
     "metadata": {},
     "output_type": "execute_result"
    },
    {
     "data": {
      "image/png": "[encoded data removed]",
      "text/plain": [
       "<Figure size 720x540 with 1 Axes>"
      ]
     },
     "metadata": {
      "needs_background": "light"
     },
     "output_type": "display_data"
    }
   ],
   "source": [
    "exttp = pd.crosstab(df.extraction_type_class,df.status_group,normalize='index')\n",
    "exttp.plot(kind='bar',figsize=(10,7.5),rot=45)\n",
    "exttp.sort_values('functional',ascending=False)"
   ]
  },
  {
   "cell_type": "markdown",
   "metadata": {},
   "source": [
    "###### **Binary**"
   ]
  },
  {
   "cell_type": "code",
   "execution_count": 355,
   "metadata": {},
   "outputs": [
    {
     "data": {
      "text/html": [
       "<div>\n",
       "<style scoped>\n",
       "    .dataframe tbody tr th:only-of-type {\n",
       "        vertical-align: middle;\n",
       "    }\n",
       "\n",
       "    .dataframe tbody tr th {\n",
       "        vertical-align: top;\n",
       "    }\n",
       "\n",
       "    .dataframe thead th {\n",
       "        text-align: right;\n",
       "    }\n",
       "</style>\n",
       "<table border=\"1\" class=\"dataframe\">\n",
       "  <thead>\n",
       "    <tr style=\"text-align: right;\">\n",
       "      <th>status_group</th>\n",
       "      <th>functional</th>\n",
       "      <th>needs repair</th>\n",
       "    </tr>\n",
       "    <tr>\n",
       "      <th>extraction_type_class</th>\n",
       "      <th></th>\n",
       "      <th></th>\n",
       "    </tr>\n",
       "  </thead>\n",
       "  <tbody>\n",
       "    <tr>\n",
       "      <td>rope pump</td>\n",
       "      <td>0.636792</td>\n",
       "      <td>0.363208</td>\n",
       "    </tr>\n",
       "    <tr>\n",
       "      <td>handpump</td>\n",
       "      <td>0.629644</td>\n",
       "      <td>0.370356</td>\n",
       "    </tr>\n",
       "    <tr>\n",
       "      <td>gravity</td>\n",
       "      <td>0.609020</td>\n",
       "      <td>0.390980</td>\n",
       "    </tr>\n",
       "    <tr>\n",
       "      <td>submersible</td>\n",
       "      <td>0.521346</td>\n",
       "      <td>0.478654</td>\n",
       "    </tr>\n",
       "    <tr>\n",
       "      <td>wind-powered</td>\n",
       "      <td>0.413462</td>\n",
       "      <td>0.586538</td>\n",
       "    </tr>\n",
       "    <tr>\n",
       "      <td>motorpump</td>\n",
       "      <td>0.394275</td>\n",
       "      <td>0.605725</td>\n",
       "    </tr>\n",
       "    <tr>\n",
       "      <td>other</td>\n",
       "      <td>0.134963</td>\n",
       "      <td>0.865037</td>\n",
       "    </tr>\n",
       "  </tbody>\n",
       "</table>\n",
       "</div>"
      ],
      "text/plain": [
       "status_group           functional  needs repair\n",
       "extraction_type_class                          \n",
       "rope pump                0.636792      0.363208\n",
       "handpump                 0.629644      0.370356\n",
       "gravity                  0.609020      0.390980\n",
       "submersible              0.521346      0.478654\n",
       "wind-powered             0.413462      0.586538\n",
       "motorpump                0.394275      0.605725\n",
       "other                    0.134963      0.865037"
      ]
     },
     "execution_count": 355,
     "metadata": {},
     "output_type": "execute_result"
    },
    {
     "data": {
      "image/png": "[encoded data removed]",
      "text/plain": [
       "<Figure size 720x540 with 1 Axes>"
      ]
     },
     "metadata": {
      "needs_background": "light"
     },
     "output_type": "display_data"
    }
   ],
   "source": [
    "exttpb = pd.crosstab(df_b.extraction_type_class,df_b.status_group,normalize='index')\n",
    "exttpb.plot(kind='bar',figsize=(10,7.5),rot=45)\n",
    "exttpb.sort_values('functional',ascending=False)"
   ]
  },
  {
   "cell_type": "markdown",
   "metadata": {},
   "source": [
    "### Governance"
   ]
  },
  {
   "cell_type": "markdown",
   "metadata": {},
   "source": [
    "#### Feature: Permit"
   ]
  },
  {
   "cell_type": "code",
   "execution_count": 40,
   "metadata": {},
   "outputs": [
    {
     "data": {
      "text/plain": [
       "<matplotlib.axes._subplots.AxesSubplot at 0x1a216f7da0>"
      ]
     },
     "execution_count": 40,
     "metadata": {},
     "output_type": "execute_result"
    },
    {
     "data": {
      "image/png": "[encoded data removed]",
      "text/plain": [
       "<Figure size 432x288 with 1 Axes>"
      ]
     },
     "metadata": {
      "needs_background": "light"
     },
     "output_type": "display_data"
    }
   ],
   "source": [
    "df.permit.value_counts().plot(kind='bar')"
   ]
  },
  {
   "cell_type": "code",
   "execution_count": 433,
   "metadata": {},
   "outputs": [
    {
     "data": {
      "text/html": [
       "<div>\n",
       "<style scoped>\n",
       "    .dataframe tbody tr th:only-of-type {\n",
       "        vertical-align: middle;\n",
       "    }\n",
       "\n",
       "    .dataframe tbody tr th {\n",
       "        vertical-align: top;\n",
       "    }\n",
       "\n",
       "    .dataframe thead th {\n",
       "        text-align: right;\n",
       "    }\n",
       "</style>\n",
       "<table border=\"1\" class=\"dataframe\">\n",
       "  <thead>\n",
       "    <tr style=\"text-align: right;\">\n",
       "      <th>status_group</th>\n",
       "      <th>functional</th>\n",
       "      <th>functional needs repair</th>\n",
       "      <th>non functional</th>\n",
       "    </tr>\n",
       "    <tr>\n",
       "      <th>permit</th>\n",
       "      <th></th>\n",
       "      <th></th>\n",
       "      <th></th>\n",
       "    </tr>\n",
       "  </thead>\n",
       "  <tbody>\n",
       "    <tr>\n",
       "      <td>True</td>\n",
       "      <td>0.568521</td>\n",
       "      <td>0.068866</td>\n",
       "      <td>0.362613</td>\n",
       "    </tr>\n",
       "    <tr>\n",
       "      <td>False</td>\n",
       "      <td>0.507301</td>\n",
       "      <td>0.078553</td>\n",
       "      <td>0.414146</td>\n",
       "    </tr>\n",
       "  </tbody>\n",
       "</table>\n",
       "</div>"
      ],
      "text/plain": [
       "status_group  functional  functional needs repair  non functional\n",
       "permit                                                           \n",
       "True            0.568521                 0.068866        0.362613\n",
       "False           0.507301                 0.078553        0.414146"
      ]
     },
     "execution_count": 433,
     "metadata": {},
     "output_type": "execute_result"
    },
    {
     "data": {
      "image/png": "[encoded data removed]",
      "text/plain": [
       "<Figure size 720x540 with 1 Axes>"
      ]
     },
     "metadata": {
      "needs_background": "light"
     },
     "output_type": "display_data"
    }
   ],
   "source": [
    "permit = pd.crosstab(df.permit,df.status_group,normalize='index')\n",
    "permit.plot(kind='bar',figsize=(10,7.5),rot=45)\n",
    "permit.sort_values('functional',ascending=False)"
   ]
  },
  {
   "cell_type": "code",
   "execution_count": 432,
   "metadata": {},
   "outputs": [
    {
     "data": {
      "text/html": [
       "<div>\n",
       "<style scoped>\n",
       "    .dataframe tbody tr th:only-of-type {\n",
       "        vertical-align: middle;\n",
       "    }\n",
       "\n",
       "    .dataframe tbody tr th {\n",
       "        vertical-align: top;\n",
       "    }\n",
       "\n",
       "    .dataframe thead th {\n",
       "        text-align: right;\n",
       "    }\n",
       "</style>\n",
       "<table border=\"1\" class=\"dataframe\">\n",
       "  <thead>\n",
       "    <tr style=\"text-align: right;\">\n",
       "      <th>status_group</th>\n",
       "      <th>functional</th>\n",
       "      <th>needs repair</th>\n",
       "    </tr>\n",
       "    <tr>\n",
       "      <th>permit</th>\n",
       "      <th></th>\n",
       "      <th></th>\n",
       "    </tr>\n",
       "  </thead>\n",
       "  <tbody>\n",
       "    <tr>\n",
       "      <td>True</td>\n",
       "      <td>0.568521</td>\n",
       "      <td>0.431479</td>\n",
       "    </tr>\n",
       "    <tr>\n",
       "      <td>False</td>\n",
       "      <td>0.507301</td>\n",
       "      <td>0.492699</td>\n",
       "    </tr>\n",
       "  </tbody>\n",
       "</table>\n",
       "</div>"
      ],
      "text/plain": [
       "status_group  functional  needs repair\n",
       "permit                                \n",
       "True            0.568521      0.431479\n",
       "False           0.507301      0.492699"
      ]
     },
     "execution_count": 432,
     "metadata": {},
     "output_type": "execute_result"
    },
    {
     "data": {
      "image/png": "[encoded data removed]",
      "text/plain": [
       "<Figure size 720x540 with 1 Axes>"
      ]
     },
     "metadata": {
      "needs_background": "light"
     },
     "output_type": "display_data"
    }
   ],
   "source": [
    "permitb = pd.crosstab(df_b.permit,df_b.status_group,normalize='index')\n",
    "permitb.plot(kind='bar',figsize=(10,7.5),rot=45)\n",
    "permitb.sort_values('functional',ascending=False)"
   ]
  },
  {
   "cell_type": "markdown",
   "metadata": {},
   "source": [
    "#### Feature: Public Meeting"
   ]
  },
  {
   "cell_type": "code",
   "execution_count": 43,
   "metadata": {},
   "outputs": [
    {
     "data": {
      "text/plain": [
       "<matplotlib.axes._subplots.AxesSubplot at 0x1a220b6dd8>"
      ]
     },
     "execution_count": 43,
     "metadata": {},
     "output_type": "execute_result"
    },
    {
     "data": {
      "image/png": "[encoded data removed]",
      "text/plain": [
       "<Figure size 432x288 with 1 Axes>"
      ]
     },
     "metadata": {
      "needs_background": "light"
     },
     "output_type": "display_data"
    }
   ],
   "source": [
    "df.public_meeting.value_counts().plot(kind='bar')"
   ]
  },
  {
   "cell_type": "code",
   "execution_count": 434,
   "metadata": {},
   "outputs": [
    {
     "data": {
      "text/html": [
       "<div>\n",
       "<style scoped>\n",
       "    .dataframe tbody tr th:only-of-type {\n",
       "        vertical-align: middle;\n",
       "    }\n",
       "\n",
       "    .dataframe tbody tr th {\n",
       "        vertical-align: top;\n",
       "    }\n",
       "\n",
       "    .dataframe thead th {\n",
       "        text-align: right;\n",
       "    }\n",
       "</style>\n",
       "<table border=\"1\" class=\"dataframe\">\n",
       "  <thead>\n",
       "    <tr style=\"text-align: right;\">\n",
       "      <th>status_group</th>\n",
       "      <th>functional</th>\n",
       "      <th>functional needs repair</th>\n",
       "      <th>non functional</th>\n",
       "    </tr>\n",
       "    <tr>\n",
       "      <th>public_meeting</th>\n",
       "      <th></th>\n",
       "      <th></th>\n",
       "      <th></th>\n",
       "    </tr>\n",
       "  </thead>\n",
       "  <tbody>\n",
       "    <tr>\n",
       "      <td>True</td>\n",
       "      <td>0.562784</td>\n",
       "      <td>0.070514</td>\n",
       "      <td>0.366702</td>\n",
       "    </tr>\n",
       "    <tr>\n",
       "      <td>False</td>\n",
       "      <td>0.410994</td>\n",
       "      <td>0.086247</td>\n",
       "      <td>0.502760</td>\n",
       "    </tr>\n",
       "  </tbody>\n",
       "</table>\n",
       "</div>"
      ],
      "text/plain": [
       "status_group    functional  functional needs repair  non functional\n",
       "public_meeting                                                     \n",
       "True              0.562784                 0.070514        0.366702\n",
       "False             0.410994                 0.086247        0.502760"
      ]
     },
     "execution_count": 434,
     "metadata": {},
     "output_type": "execute_result"
    },
    {
     "data": {
      "image/png": "[encoded data removed]",
      "text/plain": [
       "<Figure size 720x540 with 1 Axes>"
      ]
     },
     "metadata": {
      "needs_background": "light"
     },
     "output_type": "display_data"
    }
   ],
   "source": [
    "meet = pd.crosstab(df.public_meeting,df.status_group,normalize='index')\n",
    "meet.plot(kind='bar',figsize=(10,7.5),rot=45)\n",
    "meet.sort_values('functional',ascending=False)"
   ]
  },
  {
   "cell_type": "code",
   "execution_count": 435,
   "metadata": {},
   "outputs": [
    {
     "data": {
      "text/html": [
       "<div>\n",
       "<style scoped>\n",
       "    .dataframe tbody tr th:only-of-type {\n",
       "        vertical-align: middle;\n",
       "    }\n",
       "\n",
       "    .dataframe tbody tr th {\n",
       "        vertical-align: top;\n",
       "    }\n",
       "\n",
       "    .dataframe thead th {\n",
       "        text-align: right;\n",
       "    }\n",
       "</style>\n",
       "<table border=\"1\" class=\"dataframe\">\n",
       "  <thead>\n",
       "    <tr style=\"text-align: right;\">\n",
       "      <th>status_group</th>\n",
       "      <th>functional</th>\n",
       "      <th>needs repair</th>\n",
       "    </tr>\n",
       "    <tr>\n",
       "      <th>public_meeting</th>\n",
       "      <th></th>\n",
       "      <th></th>\n",
       "    </tr>\n",
       "  </thead>\n",
       "  <tbody>\n",
       "    <tr>\n",
       "      <td>True</td>\n",
       "      <td>0.562784</td>\n",
       "      <td>0.437216</td>\n",
       "    </tr>\n",
       "    <tr>\n",
       "      <td>False</td>\n",
       "      <td>0.410994</td>\n",
       "      <td>0.589006</td>\n",
       "    </tr>\n",
       "  </tbody>\n",
       "</table>\n",
       "</div>"
      ],
      "text/plain": [
       "status_group    functional  needs repair\n",
       "public_meeting                          \n",
       "True              0.562784      0.437216\n",
       "False             0.410994      0.589006"
      ]
     },
     "execution_count": 435,
     "metadata": {},
     "output_type": "execute_result"
    },
    {
     "data": {
      "image/png": "[encoded data removed]",
      "text/plain": [
       "<Figure size 720x540 with 1 Axes>"
      ]
     },
     "metadata": {
      "needs_background": "light"
     },
     "output_type": "display_data"
    }
   ],
   "source": [
    "meetb = pd.crosstab(df_b.public_meeting,df_b.status_group,normalize='index')\n",
    "meetb.plot(kind='bar',figsize=(10,7.5),rot=45)\n",
    "meetb.sort_values('functional',ascending=False)"
   ]
  },
  {
   "cell_type": "markdown",
   "metadata": {},
   "source": [
    "#### Feature: Mangagement"
   ]
  },
  {
   "cell_type": "markdown",
   "metadata": {},
   "source": [
    "#### Feature: Funder"
   ]
  },
  {
   "cell_type": "markdown",
   "metadata": {},
   "source": [
    "gpsheaight; a mountain? outlier?\n",
    "longitude, are there errors? shouldnt be so far from the rest\n",
    "construction year issues\n"
   ]
  },
  {
   "cell_type": "code",
   "execution_count": 173,
   "metadata": {},
   "outputs": [
    {
     "data": {
      "text/plain": [
       "['Government Of Tanzania',\n",
       " 'Danida',\n",
       " 'Hesawa',\n",
       " 'Kkkt',\n",
       " 'World Bank',\n",
       " 'World Vision',\n",
       " 'Unicef',\n",
       " 'Rwssp',\n",
       " 'District Council',\n",
       " 'Tasaf',\n",
       " 'Private Individual']"
      ]
     },
     "execution_count": 173,
     "metadata": {},
     "output_type": "execute_result"
    }
   ],
   "source": [
    "top10funders = df['funder'].value_counts().index.tolist()[:11]\n",
    "top10funders"
   ]
  },
  {
   "cell_type": "code",
   "execution_count": 380,
   "metadata": {},
   "outputs": [
    {
     "data": {
      "text/html": [
       "<div>\n",
       "<style scoped>\n",
       "    .dataframe tbody tr th:only-of-type {\n",
       "        vertical-align: middle;\n",
       "    }\n",
       "\n",
       "    .dataframe tbody tr th {\n",
       "        vertical-align: top;\n",
       "    }\n",
       "\n",
       "    .dataframe thead th {\n",
       "        text-align: right;\n",
       "    }\n",
       "</style>\n",
       "<table border=\"1\" class=\"dataframe\">\n",
       "  <thead>\n",
       "    <tr style=\"text-align: right;\">\n",
       "      <th>status_group</th>\n",
       "      <th>functional</th>\n",
       "      <th>needs repair</th>\n",
       "    </tr>\n",
       "    <tr>\n",
       "      <th>funder</th>\n",
       "      <th></th>\n",
       "      <th></th>\n",
       "    </tr>\n",
       "  </thead>\n",
       "  <tbody>\n",
       "    <tr>\n",
       "      <td>Private Individual</td>\n",
       "      <td>0.843546</td>\n",
       "      <td>0.156454</td>\n",
       "    </tr>\n",
       "    <tr>\n",
       "      <td>Rwssp</td>\n",
       "      <td>0.593516</td>\n",
       "      <td>0.406484</td>\n",
       "    </tr>\n",
       "    <tr>\n",
       "      <td>World Vision</td>\n",
       "      <td>0.589080</td>\n",
       "      <td>0.410920</td>\n",
       "    </tr>\n",
       "    <tr>\n",
       "      <td>Unicef</td>\n",
       "      <td>0.589055</td>\n",
       "      <td>0.410945</td>\n",
       "    </tr>\n",
       "    <tr>\n",
       "      <td>Danida</td>\n",
       "      <td>0.570890</td>\n",
       "      <td>0.429110</td>\n",
       "    </tr>\n",
       "    <tr>\n",
       "      <td>Tasaf</td>\n",
       "      <td>0.559085</td>\n",
       "      <td>0.440915</td>\n",
       "    </tr>\n",
       "    <tr>\n",
       "      <td>Kkkt</td>\n",
       "      <td>0.559080</td>\n",
       "      <td>0.440920</td>\n",
       "    </tr>\n",
       "    <tr>\n",
       "      <td>District Council</td>\n",
       "      <td>0.456929</td>\n",
       "      <td>0.543071</td>\n",
       "    </tr>\n",
       "    <tr>\n",
       "      <td>Hesawa</td>\n",
       "      <td>0.448524</td>\n",
       "      <td>0.551476</td>\n",
       "    </tr>\n",
       "    <tr>\n",
       "      <td>World Bank</td>\n",
       "      <td>0.420168</td>\n",
       "      <td>0.579832</td>\n",
       "    </tr>\n",
       "    <tr>\n",
       "      <td>Government Of Tanzania</td>\n",
       "      <td>0.419295</td>\n",
       "      <td>0.580705</td>\n",
       "    </tr>\n",
       "  </tbody>\n",
       "</table>\n",
       "</div>"
      ],
      "text/plain": [
       "status_group            functional  needs repair\n",
       "funder                                          \n",
       "Private Individual        0.843546      0.156454\n",
       "Rwssp                     0.593516      0.406484\n",
       "World Vision              0.589080      0.410920\n",
       "Unicef                    0.589055      0.410945\n",
       "Danida                    0.570890      0.429110\n",
       "Tasaf                     0.559085      0.440915\n",
       "Kkkt                      0.559080      0.440920\n",
       "District Council          0.456929      0.543071\n",
       "Hesawa                    0.448524      0.551476\n",
       "World Bank                0.420168      0.579832\n",
       "Government Of Tanzania    0.419295      0.580705"
      ]
     },
     "execution_count": 380,
     "metadata": {},
     "output_type": "execute_result"
    },
    {
     "data": {
      "image/png": "[encoded data removed]",
      "text/plain": [
       "<Figure size 720x540 with 1 Axes>"
      ]
     },
     "metadata": {
      "needs_background": "light"
     },
     "output_type": "display_data"
    }
   ],
   "source": [
    "df_f = df_b[df_b['funder'].isin(top10funders)]\n",
    "funders = pd.crosstab(df_f.funder,df_f.status_group,normalize='index')\n",
    "funders.plot(kind='bar',figsize=(10,7.5),rot=45)\n",
    "funders.sort_values('functional',ascending=False)"
   ]
  },
  {
   "cell_type": "code",
   "execution_count": 439,
   "metadata": {},
   "outputs": [
    {
     "name": "stdout",
     "output_type": "stream",
     "text": [
      "<class 'pandas.core.frame.DataFrame'>\n",
      "Int64Index: 767 entries, 31 to 59325\n",
      "Data columns (total 27 columns):\n",
      "status_group             767 non-null object\n",
      "amount_tsh               767 non-null int64\n",
      "funder                   767 non-null object\n",
      "gps_height               767 non-null int64\n",
      "installer                767 non-null object\n",
      "longitude                767 non-null float64\n",
      "latitude                 767 non-null float64\n",
      "basin                    767 non-null object\n",
      "subvillage               766 non-null object\n",
      "region                   767 non-null object\n",
      "region_code              767 non-null int64\n",
      "district_code            767 non-null int64\n",
      "lga                      767 non-null object\n",
      "ward                     767 non-null object\n",
      "population               767 non-null int64\n",
      "public_meeting           767 non-null bool\n",
      "scheme_management        767 non-null object\n",
      "permit                   767 non-null bool\n",
      "extraction_type_class    767 non-null object\n",
      "management               767 non-null object\n",
      "payment_type             767 non-null object\n",
      "water_quality            767 non-null object\n",
      "quantity                 767 non-null object\n",
      "source                   767 non-null object\n",
      "source_class             767 non-null object\n",
      "waterpoint_type          767 non-null object\n",
      "age                      767 non-null int64\n",
      "dtypes: bool(2), float64(2), int64(6), object(17)\n",
      "memory usage: 157.3+ KB\n"
     ]
    }
   ],
   "source": [
    "priv = df_b[df_b['funder'] == 'Private Individual']\n",
    "priv.info()"
   ]
  },
  {
   "cell_type": "code",
   "execution_count": 442,
   "metadata": {},
   "outputs": [
    {
     "data": {
      "text/plain": [
       "(7.947, 13.2]    390\n",
       "(13.2, 18.4]     227\n",
       "(18.4, 23.6]     114\n",
       "(28.8, 34.0]       9\n",
       "(44.4, 49.6]       8\n",
       "(34.0, 39.2]       8\n",
       "(23.6, 28.8]       7\n",
       "(54.8, 60.0]       2\n",
       "(39.2, 44.4]       2\n",
       "(49.6, 54.8]       0\n",
       "Name: age, dtype: int64"
      ]
     },
     "execution_count": 442,
     "metadata": {},
     "output_type": "execute_result"
    }
   ],
   "source": [
    "priv.age.value_counts(bins=10) ##most privately funded waterpoints were built in the last 20 years"
   ]
  },
  {
   "cell_type": "code",
   "execution_count": 443,
   "metadata": {},
   "outputs": [
    {
     "data": {
      "text/plain": [
       "submersible     439\n",
       "gravity         192\n",
       "motorpump        48\n",
       "handpump         47\n",
       "other            34\n",
       "wind-powered      4\n",
       "rope pump         3\n",
       "Name: extraction_type_class, dtype: int64"
      ]
     },
     "execution_count": 443,
     "metadata": {},
     "output_type": "execute_result"
    }
   ],
   "source": [
    "priv.extraction_type_class.value_counts()"
   ]
  },
  {
   "cell_type": "code",
   "execution_count": 444,
   "metadata": {},
   "outputs": [
    {
     "data": {
      "text/plain": [
       "gravity         23170\n",
       "handpump        12920\n",
       "submersible      5083\n",
       "other            4542\n",
       "motorpump        2620\n",
       "rope pump         212\n",
       "wind-powered      104\n",
       "Name: extraction_type_class, dtype: int64"
      ]
     },
     "execution_count": 444,
     "metadata": {},
     "output_type": "execute_result"
    }
   ],
   "source": [
    "df_b.extraction_type_class.value_counts()"
   ]
  },
  {
   "cell_type": "markdown",
   "metadata": {},
   "source": [
    "#### Feature: Installer"
   ]
  },
  {
   "cell_type": "code",
   "execution_count": 234,
   "metadata": {},
   "outputs": [
    {
     "data": {
      "text/plain": [
       "DWE                   14670\n",
       "Government             1438\n",
       "Commu                  1059\n",
       "RWE                    1032\n",
       "KKKT                    885\n",
       "                      ...  \n",
       "TWESA/JAMII               1\n",
       "LEI                       1\n",
       "Kwamdulu estate           1\n",
       "GLOBAL RESOURCE CO        1\n",
       "DAWE                      1\n",
       "Name: installer, Length: 1799, dtype: int64"
      ]
     },
     "execution_count": 234,
     "metadata": {},
     "output_type": "execute_result"
    }
   ],
   "source": [
    "df.installer.value_counts()"
   ]
  },
  {
   "cell_type": "code",
   "execution_count": 199,
   "metadata": {},
   "outputs": [
    {
     "data": {
      "text/plain": [
       "['DWE',\n",
       " 'Government',\n",
       " 'Commu',\n",
       " 'RWE',\n",
       " 'KKKT',\n",
       " 'DANIDA',\n",
       " 'TCRS',\n",
       " 'Central government',\n",
       " 'CES',\n",
       " 'Hesawa',\n",
       " 'DANID']"
      ]
     },
     "execution_count": 199,
     "metadata": {},
     "output_type": "execute_result"
    }
   ],
   "source": [
    "top10installers = df.installer.value_counts().index.tolist()[:11]\n",
    "top10installers"
   ]
  },
  {
   "cell_type": "code",
   "execution_count": 381,
   "metadata": {},
   "outputs": [
    {
     "data": {
      "text/html": [
       "<div>\n",
       "<style scoped>\n",
       "    .dataframe tbody tr th:only-of-type {\n",
       "        vertical-align: middle;\n",
       "    }\n",
       "\n",
       "    .dataframe tbody tr th {\n",
       "        vertical-align: top;\n",
       "    }\n",
       "\n",
       "    .dataframe thead th {\n",
       "        text-align: right;\n",
       "    }\n",
       "</style>\n",
       "<table border=\"1\" class=\"dataframe\">\n",
       "  <thead>\n",
       "    <tr style=\"text-align: right;\">\n",
       "      <th>status_group</th>\n",
       "      <th>functional</th>\n",
       "      <th>needs repair</th>\n",
       "    </tr>\n",
       "    <tr>\n",
       "      <th>installer</th>\n",
       "      <th></th>\n",
       "      <th></th>\n",
       "    </tr>\n",
       "  </thead>\n",
       "  <tbody>\n",
       "    <tr>\n",
       "      <td>CES</td>\n",
       "      <td>0.881967</td>\n",
       "      <td>0.118033</td>\n",
       "    </tr>\n",
       "    <tr>\n",
       "      <td>DANID</td>\n",
       "      <td>0.780797</td>\n",
       "      <td>0.219203</td>\n",
       "    </tr>\n",
       "    <tr>\n",
       "      <td>Commu</td>\n",
       "      <td>0.682720</td>\n",
       "      <td>0.317280</td>\n",
       "    </tr>\n",
       "    <tr>\n",
       "      <td>Hesawa</td>\n",
       "      <td>0.617857</td>\n",
       "      <td>0.382143</td>\n",
       "    </tr>\n",
       "    <tr>\n",
       "      <td>DANIDA</td>\n",
       "      <td>0.580720</td>\n",
       "      <td>0.419280</td>\n",
       "    </tr>\n",
       "    <tr>\n",
       "      <td>DWE</td>\n",
       "      <td>0.550511</td>\n",
       "      <td>0.449489</td>\n",
       "    </tr>\n",
       "    <tr>\n",
       "      <td>KKKT</td>\n",
       "      <td>0.466667</td>\n",
       "      <td>0.533333</td>\n",
       "    </tr>\n",
       "    <tr>\n",
       "      <td>TCRS</td>\n",
       "      <td>0.399701</td>\n",
       "      <td>0.600299</td>\n",
       "    </tr>\n",
       "    <tr>\n",
       "      <td>Government</td>\n",
       "      <td>0.276773</td>\n",
       "      <td>0.723227</td>\n",
       "    </tr>\n",
       "    <tr>\n",
       "      <td>Central government</td>\n",
       "      <td>0.262987</td>\n",
       "      <td>0.737013</td>\n",
       "    </tr>\n",
       "    <tr>\n",
       "      <td>RWE</td>\n",
       "      <td>0.233527</td>\n",
       "      <td>0.766473</td>\n",
       "    </tr>\n",
       "  </tbody>\n",
       "</table>\n",
       "</div>"
      ],
      "text/plain": [
       "status_group        functional  needs repair\n",
       "installer                                   \n",
       "CES                   0.881967      0.118033\n",
       "DANID                 0.780797      0.219203\n",
       "Commu                 0.682720      0.317280\n",
       "Hesawa                0.617857      0.382143\n",
       "DANIDA                0.580720      0.419280\n",
       "DWE                   0.550511      0.449489\n",
       "KKKT                  0.466667      0.533333\n",
       "TCRS                  0.399701      0.600299\n",
       "Government            0.276773      0.723227\n",
       "Central government    0.262987      0.737013\n",
       "RWE                   0.233527      0.766473"
      ]
     },
     "execution_count": 381,
     "metadata": {},
     "output_type": "execute_result"
    },
    {
     "data": {
      "image/png": "[encoded data removed]",
      "text/plain": [
       "<Figure size 720x540 with 1 Axes>"
      ]
     },
     "metadata": {
      "needs_background": "light"
     },
     "output_type": "display_data"
    }
   ],
   "source": [
    "df_i = df_b[df_b['installer'].isin(top10installers)]\n",
    "installers = pd.crosstab([df_i.installer],df_i.status_group,normalize='index')\n",
    "installers.plot(kind='bar',figsize=(10,7.5),rot=45)\n",
    "installers.sort_values('functional',ascending=False)"
   ]
  },
  {
   "cell_type": "code",
   "execution_count": 382,
   "metadata": {},
   "outputs": [
    {
     "data": {
      "text/html": [
       "<div>\n",
       "<style scoped>\n",
       "    .dataframe tbody tr th:only-of-type {\n",
       "        vertical-align: middle;\n",
       "    }\n",
       "\n",
       "    .dataframe tbody tr th {\n",
       "        vertical-align: top;\n",
       "    }\n",
       "\n",
       "    .dataframe thead th {\n",
       "        text-align: right;\n",
       "    }\n",
       "</style>\n",
       "<table border=\"1\" class=\"dataframe\">\n",
       "  <thead>\n",
       "    <tr style=\"text-align: right;\">\n",
       "      <th>status_group</th>\n",
       "      <th>functional</th>\n",
       "      <th>needs repair</th>\n",
       "    </tr>\n",
       "    <tr>\n",
       "      <th>installer</th>\n",
       "      <th></th>\n",
       "      <th></th>\n",
       "    </tr>\n",
       "  </thead>\n",
       "  <tbody>\n",
       "    <tr>\n",
       "      <td>ACRA</td>\n",
       "      <td>0.978339</td>\n",
       "      <td>0.021661</td>\n",
       "    </tr>\n",
       "    <tr>\n",
       "      <td>Magadini-Makiwaru wa</td>\n",
       "      <td>0.977143</td>\n",
       "      <td>0.022857</td>\n",
       "    </tr>\n",
       "    <tr>\n",
       "      <td>Dmdd</td>\n",
       "      <td>0.964789</td>\n",
       "      <td>0.035211</td>\n",
       "    </tr>\n",
       "    <tr>\n",
       "      <td>Co</td>\n",
       "      <td>0.945455</td>\n",
       "      <td>0.054545</td>\n",
       "    </tr>\n",
       "    <tr>\n",
       "      <td>St</td>\n",
       "      <td>0.944444</td>\n",
       "      <td>0.055556</td>\n",
       "    </tr>\n",
       "    <tr>\n",
       "      <td>Oikos E .Africa</td>\n",
       "      <td>0.937500</td>\n",
       "      <td>0.062500</td>\n",
       "    </tr>\n",
       "    <tr>\n",
       "      <td>Lawatefuka water sup</td>\n",
       "      <td>0.933333</td>\n",
       "      <td>0.066667</td>\n",
       "    </tr>\n",
       "    <tr>\n",
       "      <td>DAWASCO</td>\n",
       "      <td>0.921875</td>\n",
       "      <td>0.078125</td>\n",
       "    </tr>\n",
       "    <tr>\n",
       "      <td>Losaa-Kia water supp</td>\n",
       "      <td>0.919355</td>\n",
       "      <td>0.080645</td>\n",
       "    </tr>\n",
       "    <tr>\n",
       "      <td>Pr</td>\n",
       "      <td>0.905660</td>\n",
       "      <td>0.094340</td>\n",
       "    </tr>\n",
       "    <tr>\n",
       "      <td>wanan</td>\n",
       "      <td>0.903846</td>\n",
       "      <td>0.096154</td>\n",
       "    </tr>\n",
       "  </tbody>\n",
       "</table>\n",
       "</div>"
      ],
      "text/plain": [
       "status_group          functional  needs repair\n",
       "installer                                     \n",
       "ACRA                    0.978339      0.021661\n",
       "Magadini-Makiwaru wa    0.977143      0.022857\n",
       "Dmdd                    0.964789      0.035211\n",
       "Co                      0.945455      0.054545\n",
       "St                      0.944444      0.055556\n",
       "Oikos E .Africa         0.937500      0.062500\n",
       "Lawatefuka water sup    0.933333      0.066667\n",
       "DAWASCO                 0.921875      0.078125\n",
       "Losaa-Kia water supp    0.919355      0.080645\n",
       "Pr                      0.905660      0.094340\n",
       "wanan                   0.903846      0.096154"
      ]
     },
     "execution_count": 382,
     "metadata": {},
     "output_type": "execute_result"
    },
    {
     "data": {
      "image/png": "[encoded data removed]",
      "text/plain": [
       "<Figure size 720x540 with 1 Axes>"
      ]
     },
     "metadata": {
      "needs_background": "light"
     },
     "output_type": "display_data"
    }
   ],
   "source": [
    "top100installers = df.installer.value_counts().index.tolist()[:135]\n",
    "df_i2 = df_b[df_b['installer'].isin(top100installers)]\n",
    "installers100 = pd.crosstab([df_i2.installer],df_i2.status_group,normalize='index')\n",
    "installers100 = installers100[installers100['functional'] > 0.90]\n",
    "installers100.plot(kind='bar',figsize=(10,7.5),rot=45)\n",
    "installers100.sort_values('functional',ascending=False)"
   ]
  },
  {
   "cell_type": "code",
   "execution_count": 301,
   "metadata": {},
   "outputs": [],
   "source": [
    "installers90club = installers100.index.tolist()\n",
    "inst90clb = df_b[df_b['installer'].isin(installers90club)]"
   ]
  },
  {
   "cell_type": "code",
   "execution_count": 292,
   "metadata": {},
   "outputs": [
    {
     "data": {
      "text/plain": [
       "Dmdd                    284\n",
       "ACRA                    277\n",
       "Lawatefuka water sup    180\n",
       "Magadini-Makiwaru wa    175\n",
       "Oikos E .Africa          80\n",
       "DAWASCO                  64\n",
       "Losaa-Kia water supp     62\n",
       "Co                       55\n",
       "St                       54\n",
       "Pr                       53\n",
       "wanan                    52\n",
       "Name: installer, dtype: int64"
      ]
     },
     "execution_count": 292,
     "metadata": {},
     "output_type": "execute_result"
    }
   ],
   "source": [
    "inst90clb.installer.value_counts()"
   ]
  },
  {
   "cell_type": "code",
   "execution_count": 271,
   "metadata": {},
   "outputs": [
    {
     "data": {
      "text/plain": [
       "<matplotlib.axes._subplots.AxesSubplot at 0x1a372912b0>"
      ]
     },
     "execution_count": 271,
     "metadata": {},
     "output_type": "execute_result"
    },
    {
     "data": {
      "image/png": "[encoded data removed]",
      "text/plain": [
       "<Figure size 432x288 with 1 Axes>"
      ]
     },
     "metadata": {
      "needs_background": "light"
     },
     "output_type": "display_data"
    }
   ],
   "source": [
    "inst90clb.extraction_type_class.value_counts().plot(kind='bar')"
   ]
  },
  {
   "cell_type": "code",
   "execution_count": 273,
   "metadata": {},
   "outputs": [
    {
     "data": {
      "text/plain": [
       "(<matplotlib.axes._subplots.AxesSubplot at 0x1a37bf8240>,)"
      ]
     },
     "execution_count": 273,
     "metadata": {},
     "output_type": "execute_result"
    },
    {
     "data": {
      "image/png": "[encoded data removed]",
      "text/plain": [
       "<Figure size 432x288 with 1 Axes>"
      ]
     },
     "metadata": {
      "needs_background": "light"
     },
     "output_type": "display_data"
    }
   ],
   "source": [
    "inst90clb.permit.value_counts().plot(kind='bar'),"
   ]
  },
  {
   "cell_type": "code",
   "execution_count": 280,
   "metadata": {},
   "outputs": [
    {
     "data": {
      "text/plain": [
       "(<matplotlib.axes._subplots.AxesSubplot at 0x1a388e2358>,)"
      ]
     },
     "execution_count": 280,
     "metadata": {},
     "output_type": "execute_result"
    },
    {
     "data": {
      "image/png": "[encoded data removed]",
      "text/plain": [
       "<Figure size 432x288 with 1 Axes>"
      ]
     },
     "metadata": {
      "needs_background": "light"
     },
     "output_type": "display_data"
    }
   ],
   "source": [
    "inst90clb.basin.value_counts().plot(kind='bar'),"
   ]
  },
  {
   "cell_type": "code",
   "execution_count": 277,
   "metadata": {},
   "outputs": [
    {
     "data": {
      "text/plain": [
       "(<matplotlib.axes._subplots.AxesSubplot at 0x1a387fdbe0>,)"
      ]
     },
     "execution_count": 277,
     "metadata": {},
     "output_type": "execute_result"
    },
    {
     "data": {
      "image/png": "[encoded data removed]",
      "text/plain": [
       "<Figure size 432x288 with 1 Axes>"
      ]
     },
     "metadata": {
      "needs_background": "light"
     },
     "output_type": "display_data"
    }
   ],
   "source": [
    "inst90clb.water_quality.value_counts().plot(kind='bar'), #NOTE: the most effective installers may be most effective because of the water quality"
   ]
  },
  {
   "cell_type": "code",
   "execution_count": 276,
   "metadata": {},
   "outputs": [
    {
     "data": {
      "text/plain": [
       "<matplotlib.axes._subplots.AxesSubplot at 0x1a385c72e8>"
      ]
     },
     "execution_count": 276,
     "metadata": {},
     "output_type": "execute_result"
    },
    {
     "data": {
      "image/png": "[encoded data removed]",
      "text/plain": [
       "<Figure size 432x288 with 1 Axes>"
      ]
     },
     "metadata": {
      "needs_background": "light"
     },
     "output_type": "display_data"
    }
   ],
   "source": [
    "inst90clb.waterpoint_type.value_counts().plot(kind='bar')"
   ]
  },
  {
   "cell_type": "code",
   "execution_count": 287,
   "metadata": {},
   "outputs": [
    {
     "data": {
      "text/plain": [
       "<matplotlib.axes._subplots.AxesSubplot at 0x1a38e61f60>"
      ]
     },
     "execution_count": 287,
     "metadata": {},
     "output_type": "execute_result"
    },
    {
     "data": {
      "image/png": "[encoded data removed]",
      "text/plain": [
       "<Figure size 432x288 with 1 Axes>"
      ]
     },
     "metadata": {
      "needs_background": "light"
     },
     "output_type": "display_data"
    }
   ],
   "source": [
    "inst90clb.public_meeting.value_counts().plot(kind='bar')"
   ]
  },
  {
   "cell_type": "code",
   "execution_count": 284,
   "metadata": {},
   "outputs": [
    {
     "data": {
      "text/plain": [
       "<matplotlib.axes._subplots.AxesSubplot at 0x1a38ca1400>"
      ]
     },
     "execution_count": 284,
     "metadata": {},
     "output_type": "execute_result"
    },
    {
     "data": {
      "image/png": "[encoded data removed]",
      "text/plain": [
       "<Figure size 432x288 with 1 Axes>"
      ]
     },
     "metadata": {
      "needs_background": "light"
     },
     "output_type": "display_data"
    }
   ],
   "source": [
    "inst90clb.source_class.value_counts().plot(kind='bar')"
   ]
  },
  {
   "cell_type": "markdown",
   "metadata": {},
   "source": [
    "Analysis: waterpoints with **soft water**,**groundwater or surface**, **permitted**,at a **communal standpipe** functioning with **gravity** are 90% operational when installed by the inst90clb"
   ]
  },
  {
   "cell_type": "code",
   "execution_count": null,
   "metadata": {},
   "outputs": [],
   "source": []
  },
  {
   "cell_type": "code",
   "execution_count": null,
   "metadata": {},
   "outputs": [],
   "source": []
  },
  {
   "cell_type": "code",
   "execution_count": null,
   "metadata": {},
   "outputs": [],
   "source": []
  },
  {
   "cell_type": "code",
   "execution_count": null,
   "metadata": {},
   "outputs": [],
   "source": []
  },
  {
   "cell_type": "code",
   "execution_count": null,
   "metadata": {},
   "outputs": [],
   "source": []
  },
  {
   "cell_type": "code",
   "execution_count": null,
   "metadata": {},
   "outputs": [],
   "source": []
  },
  {
   "cell_type": "code",
   "execution_count": null,
   "metadata": {},
   "outputs": [],
   "source": []
  },
  {
   "cell_type": "code",
   "execution_count": null,
   "metadata": {},
   "outputs": [],
   "source": []
  },
  {
   "cell_type": "code",
   "execution_count": null,
   "metadata": {},
   "outputs": [],
   "source": []
  },
  {
   "cell_type": "code",
   "execution_count": null,
   "metadata": {},
   "outputs": [],
   "source": []
  },
  {
   "cell_type": "markdown",
   "metadata": {},
   "source": [
    "### Feature: Scheme"
   ]
  },
  {
   "cell_type": "code",
   "execution_count": 49,
   "metadata": {},
   "outputs": [
    {
     "data": {
      "text/plain": [
       "<matplotlib.axes._subplots.AxesSubplot at 0x1a222ff7b8>"
      ]
     },
     "execution_count": 49,
     "metadata": {},
     "output_type": "execute_result"
    },
    {
     "data": {
      "image/png": "[encoded data removed]",
      "text/plain": [
       "<Figure size 432x288 with 1 Axes>"
      ]
     },
     "metadata": {
      "needs_background": "light"
     },
     "output_type": "display_data"
    }
   ],
   "source": [
    "df.scheme_management.value_counts().plot(kind='bar')"
   ]
  },
  {
   "cell_type": "markdown",
   "metadata": {},
   "source": [
    "---"
   ]
  },
  {
   "cell_type": "code",
   "execution_count": 383,
   "metadata": {},
   "outputs": [
    {
     "data": {
      "text/html": [
       "<div>\n",
       "<style scoped>\n",
       "    .dataframe tbody tr th:only-of-type {\n",
       "        vertical-align: middle;\n",
       "    }\n",
       "\n",
       "    .dataframe tbody tr th {\n",
       "        vertical-align: top;\n",
       "    }\n",
       "\n",
       "    .dataframe thead th {\n",
       "        text-align: right;\n",
       "    }\n",
       "</style>\n",
       "<table border=\"1\" class=\"dataframe\">\n",
       "  <thead>\n",
       "    <tr style=\"text-align: right;\">\n",
       "      <th>status_group</th>\n",
       "      <th>functional</th>\n",
       "      <th>needs repair</th>\n",
       "    </tr>\n",
       "    <tr>\n",
       "      <th>management</th>\n",
       "      <th></th>\n",
       "      <th></th>\n",
       "    </tr>\n",
       "  </thead>\n",
       "  <tbody>\n",
       "    <tr>\n",
       "      <td>water board</td>\n",
       "      <td>0.752720</td>\n",
       "      <td>0.247280</td>\n",
       "    </tr>\n",
       "    <tr>\n",
       "      <td>wua</td>\n",
       "      <td>0.714598</td>\n",
       "      <td>0.285402</td>\n",
       "    </tr>\n",
       "    <tr>\n",
       "      <td>private operator</td>\n",
       "      <td>0.712121</td>\n",
       "      <td>0.287879</td>\n",
       "    </tr>\n",
       "    <tr>\n",
       "      <td>wug</td>\n",
       "      <td>0.615145</td>\n",
       "      <td>0.384855</td>\n",
       "    </tr>\n",
       "    <tr>\n",
       "      <td>trust</td>\n",
       "      <td>0.586667</td>\n",
       "      <td>0.413333</td>\n",
       "    </tr>\n",
       "    <tr>\n",
       "      <td>parastatal</td>\n",
       "      <td>0.561983</td>\n",
       "      <td>0.438017</td>\n",
       "    </tr>\n",
       "    <tr>\n",
       "      <td>other</td>\n",
       "      <td>0.532294</td>\n",
       "      <td>0.467706</td>\n",
       "    </tr>\n",
       "    <tr>\n",
       "      <td>vwc</td>\n",
       "      <td>0.510888</td>\n",
       "      <td>0.489112</td>\n",
       "    </tr>\n",
       "    <tr>\n",
       "      <td>water authority</td>\n",
       "      <td>0.496871</td>\n",
       "      <td>0.503129</td>\n",
       "    </tr>\n",
       "    <tr>\n",
       "      <td>unknown</td>\n",
       "      <td>0.459459</td>\n",
       "      <td>0.540541</td>\n",
       "    </tr>\n",
       "    <tr>\n",
       "      <td>company</td>\n",
       "      <td>0.368502</td>\n",
       "      <td>0.631498</td>\n",
       "    </tr>\n",
       "    <tr>\n",
       "      <td>other - school</td>\n",
       "      <td>0.232323</td>\n",
       "      <td>0.767677</td>\n",
       "    </tr>\n",
       "  </tbody>\n",
       "</table>\n",
       "</div>"
      ],
      "text/plain": [
       "status_group      functional  needs repair\n",
       "management                                \n",
       "water board         0.752720      0.247280\n",
       "wua                 0.714598      0.285402\n",
       "private operator    0.712121      0.287879\n",
       "wug                 0.615145      0.384855\n",
       "trust               0.586667      0.413333\n",
       "parastatal          0.561983      0.438017\n",
       "other               0.532294      0.467706\n",
       "vwc                 0.510888      0.489112\n",
       "water authority     0.496871      0.503129\n",
       "unknown             0.459459      0.540541\n",
       "company             0.368502      0.631498\n",
       "other - school      0.232323      0.767677"
      ]
     },
     "execution_count": 383,
     "metadata": {},
     "output_type": "execute_result"
    },
    {
     "data": {
      "image/png": "[encoded data removed]",
      "text/plain": [
       "<Figure size 720x540 with 1 Axes>"
      ]
     },
     "metadata": {
      "needs_background": "light"
     },
     "output_type": "display_data"
    }
   ],
   "source": [
    "mgmt = pd.crosstab([df_b.management],df_b.status_group,normalize='index')\n",
    "mgmt.plot(kind='bar',figsize=(10,7.5),rot=45)\n",
    "mgmt.sort_values('functional',ascending=False)"
   ]
  },
  {
   "cell_type": "code",
   "execution_count": null,
   "metadata": {},
   "outputs": [],
   "source": []
  }
 ],
 "metadata": {
  "kernelspec": {
   "display_name": "Python 3",
   "language": "python",
   "name": "python3"
  },
  "language_info": {
   "codemirror_mode": {
    "name": "ipython",
    "version": 3
   },
   "file_extension": ".py",
   "mimetype": "text/x-python",
   "name": "python",
   "nbconvert_exporter": "python",
   "pygments_lexer": "ipython3",
   "version": "3.6.9"
  }
 },
 "nbformat": 4,
 "nbformat_minor": 4
}
