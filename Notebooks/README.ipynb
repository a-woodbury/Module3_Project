{
 "cells": [
  {
   "cell_type": "markdown",
   "metadata": {},
   "source": [
    "https://en.wikipedia.org/wiki/Water_supply_and_sanitation_in_Tanzania\n",
    "\n",
    "https://water.org/our-impact/tanzania/\n",
    "\n",
    "https://thewaterproject.org/water-crisis/water-in-crisis-tanzania\n",
    "\n",
    "https://www.pri.org/stories/2014-11-25/how-142-billion-project-failed-bring-water-tanzanian-village\n",
    "\n",
    "http://www.scielo.org.za/scielo.php?script=sci_arttext&pid=S1021-20192009000100002\n",
    "\n",
    "\n",
    "---\n",
    "http://www.waterpointmapping.org/doc-store/WaterPointMappingDataEntryformTanzania.doc?attredirects=0"
   ]
  },
  {
   "cell_type": "markdown",
   "metadata": {},
   "source": [
    "![tZA](files/tanzania.jpg)"
   ]
  },
  {
   "cell_type": "markdown",
   "metadata": {},
   "source": [
    "[PowerPoint](https://docs.google.com/presentation/d/e/2PACX-1vSdKCh3_i4_EjMd1noN79AzflImLJHUi55IUT7qbxpkZ254GtWnYW6jjRpdlRZ-F_iyBbGeapeASJcW/pub?start=false&loop=false&delayms=15000)"
   ]
  },
  {
   "cell_type": "markdown",
   "metadata": {},
   "source": [
    "# Tanzania Water\n",
    "\n",
    "## Intro\n",
    "\n",
    "- Geography/climate, population, health\n",
    "\n",
    "- Projects, Challenges\n",
    "\n",
    "### Statement of work\n",
    "#### Questions to answer\n",
    "\n",
    "\n",
    "## Dataset\n"
   ]
  },
  {
   "cell_type": "markdown",
   "metadata": {},
   "source": [
    "The United Republic of Tanzania is an East African nation known for its diverse population, hot climate, and Mt. Kilimanjaro. \n",
    "\n",
    "It is south of the equator\n",
    "\n",
    "Borded by several of the African Great Lakes, Tanzania is proximal to 25% of the worlds surface fresh water. \n",
    "\n",
    "\n",
    "two kind of rainy seasons; October to May OR short rainy season in October, longer rainy season from April to May\n",
    "\n",
    "!W Tanzania has two major rainfall periods: one is uni-modal (October–April) and the other is bi-modal (October–December and March–May).[59] The former is experienced in southern, central, and western parts of the country, and the latter is found in the north from Lake Victoria extending east to the coast.[59] The bi-modal rainfall is caused by the seasonal migration of the Intertropical Convergence Zone.[59]"
   ]
  },
  {
   "cell_type": "markdown",
   "metadata": {},
   "source": []
  },
  {
   "cell_type": "markdown",
   "metadata": {},
   "source": []
  },
  {
   "cell_type": "markdown",
   "metadata": {},
   "source": []
  },
  {
   "cell_type": "markdown",
   "metadata": {},
   "source": []
  },
  {
   "cell_type": "markdown",
   "metadata": {},
   "source": []
  },
  {
   "cell_type": "markdown",
   "metadata": {},
   "source": []
  },
  {
   "cell_type": "markdown",
   "metadata": {},
   "source": []
  },
  {
   "cell_type": "markdown",
   "metadata": {},
   "source": []
  },
  {
   "cell_type": "markdown",
   "metadata": {},
   "source": []
  },
  {
   "cell_type": "markdown",
   "metadata": {},
   "source": []
  },
  {
   "cell_type": "markdown",
   "metadata": {},
   "source": []
  },
  {
   "cell_type": "markdown",
   "metadata": {},
   "source": []
  },
  {
   "cell_type": "markdown",
   "metadata": {},
   "source": []
  },
  {
   "cell_type": "markdown",
   "metadata": {},
   "source": []
  },
  {
   "cell_type": "markdown",
   "metadata": {},
   "source": []
  },
  {
   "cell_type": "markdown",
   "metadata": {},
   "source": []
  },
  {
   "cell_type": "markdown",
   "metadata": {},
   "source": []
  },
  {
   "cell_type": "markdown",
   "metadata": {},
   "source": []
  }
 ],
 "metadata": {
  "kernelspec": {
   "display_name": "Python 3",
   "language": "python",
   "name": "python3"
  },
  "language_info": {
   "codemirror_mode": {
    "name": "ipython",
    "version": 3
   },
   "file_extension": ".py",
   "mimetype": "text/x-python",
   "name": "python",
   "nbconvert_exporter": "python",
   "pygments_lexer": "ipython3",
   "version": "3.6.9"
  }
 },
 "nbformat": 4,
 "nbformat_minor": 4
}
